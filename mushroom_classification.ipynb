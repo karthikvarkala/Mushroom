{
  "cells": [
    {
      "cell_type": "markdown",
      "metadata": {
        "id": "view-in-github",
        "colab_type": "text"
      },
      "source": [
        "<a href=\"https://colab.research.google.com/github/karthikvarkala/Mushroom/blob/main/mushroom_classification.ipynb\" target=\"_parent\"><img src=\"https://colab.research.google.com/assets/colab-badge.svg\" alt=\"Open In Colab\"/></a>"
      ]
    },
    {
      "cell_type": "code",
      "execution_count": null,
      "id": "95fa370e",
      "metadata": {
        "_cell_guid": "b1076dfc-b9ad-4769-8c92-a6c4dae69d19",
        "_uuid": "8f2839f25d086af736a60e9eeb907d3b93b6e0e5",
        "execution": {
          "iopub.execute_input": "2022-12-26T17:41:47.297353Z",
          "iopub.status.busy": "2022-12-26T17:41:47.296494Z",
          "iopub.status.idle": "2022-12-26T17:41:47.318338Z",
          "shell.execute_reply": "2022-12-26T17:41:47.317264Z"
        },
        "papermill": {
          "duration": 0.0396,
          "end_time": "2022-12-26T17:41:47.321408",
          "exception": false,
          "start_time": "2022-12-26T17:41:47.281808",
          "status": "completed"
        },
        "tags": [],
        "id": "95fa370e",
        "outputId": "40a59892-6e2b-44d0-9196-9646b1c3b884"
      },
      "outputs": [
        {
          "name": "stdout",
          "output_type": "stream",
          "text": [
            "/kaggle/input/mushroom-classification/mushrooms.csv\n"
          ]
        }
      ],
      "source": [
        "# This Python 3 environment comes with many helpful analytics libraries installed\n",
        "# It is defined by the kaggle/python Docker image: https://github.com/kaggle/docker-python\n",
        "# For example, here's several helpful packages to load\n",
        "\n",
        "import numpy as np # linear algebra\n",
        "import pandas as pd \n",
        "# data processing, CSV file I/O (e.g. pd.read_csv)\n",
        "\n",
        "# Input data files are available in the read-only \"../input/\" directory\n",
        "# For example, running this (by clicking run or pressing Shift+Enter) will list all files under the input directory\n",
        "\n",
        "import os\n",
        "for dirname, _, filenames in os.walk('/kaggle/input'):\n",
        "    for filename in filenames:\n",
        "        print(os.path.join(dirname, filename))\n",
        "\n",
        "# You can write up to 20GB to the current directory (/kaggle/working/) that gets preserved as output when you create a version using \"Save & Run All\" \n",
        "# You can also write temporary files to /kaggle/temp/, but they won't be saved outside of the current session"
      ]
    },
    {
      "cell_type": "markdown",
      "id": "524be695",
      "metadata": {
        "papermill": {
          "duration": 0.012764,
          "end_time": "2022-12-26T17:41:47.346087",
          "exception": false,
          "start_time": "2022-12-26T17:41:47.333323",
          "status": "completed"
        },
        "tags": [],
        "id": "524be695"
      },
      "source": [
        "# Dataset description"
      ]
    },
    {
      "cell_type": "markdown",
      "id": "136f482d",
      "metadata": {
        "papermill": {
          "duration": 0.011625,
          "end_time": "2022-12-26T17:41:47.369343",
          "exception": false,
          "start_time": "2022-12-26T17:41:47.357718",
          "status": "completed"
        },
        "tags": [],
        "id": "136f482d"
      },
      "source": [
        "**About this file**\n",
        "\n",
        "Attribute Information: (classes: edible=e, poisonous=p)\n",
        "\n",
        "cap-shape: bell=b,conical=c,convex=x,flat=f, knobbed=k,sunken=s\n",
        "\n",
        "cap-surface: fibrous=f,grooves=g,scaly=y,smooth=s\n",
        "\n",
        "cap-color: brown=n,buff=b,cinnamon=c,gray=g,green=r,pink=p,purple=u,red=e,white=w,yellow=y\n",
        "\n",
        "bruises: bruises=t,no=f\n",
        "\n",
        "odor: almond=a,anise=l,creosote=c,fishy=y,foul=f,musty=m,none=n,pungent=p,spicy=s\n",
        "\n",
        "gill-attachment: attached=a,descending=d,free=f,notched=n\n",
        "\n",
        "gill-spacing: close=c,crowded=w,distant=d\n",
        "\n",
        "gill-size: broad=b,narrow=n\n",
        "\n",
        "gill-color: black=k,brown=n,buff=b,chocolate=h,gray=g, green=r,orange=o,pink=p,purple=u,red=e,white=w,yellow=y\n",
        "\n",
        "stalk-shape: enlarging=e,tapering=t\n",
        "\n",
        "stalk-root: bulbous=b,club=c,cup=u,equal=e,rhizomorphs=z,rooted=r,missing=?\n",
        "\n",
        "stalk-surface-above-ring: fibrous=f,scaly=y,silky=k,smooth=s\n",
        "\n",
        "stalk-surface-below-ring: fibrous=f,scaly=y,silky=k,smooth=s\n",
        "\n",
        "stalk-color-above-ring: brown=n,buff=b,cinnamon=c,gray=g,orange=o,pink=p,red=e,white=w,yellow=y\n",
        "\n",
        "stalk-color-below-ring: brown=n,buff=b,cinnamon=c,gray=g,orange=o,pink=p,red=e,white=w,yellow=y\n",
        "\n",
        "veil-type: partial=p,universal=u\n",
        "\n",
        "veil-color: brown=n,orange=o,white=w,yellow=y\n",
        "\n",
        "ring-number: none=n,one=o,two=t\n",
        "\n",
        "ring-type: cobwebby=c,evanescent=e,flaring=f,large=l,none=n,pendant=p,sheathing=s,zone=z\n",
        "\n",
        "spore-print-color: black=k,brown=n,buff=b,chocolate=h,green=r,orange=o,purple=u,white=w,yellow=y\n",
        "\n",
        "population: abundant=a,clustered=c,numerous=n,scattered=s,several=v,solitary=y\n",
        "\n",
        "habitat: grasses=g,leaves=l,meadows=m,paths=p,urban=u,waste=w,woods=d"
      ]
    },
    {
      "cell_type": "code",
      "execution_count": null,
      "id": "7554d170",
      "metadata": {
        "execution": {
          "iopub.execute_input": "2022-12-26T17:41:47.394684Z",
          "iopub.status.busy": "2022-12-26T17:41:47.394320Z",
          "iopub.status.idle": "2022-12-26T17:41:47.441282Z",
          "shell.execute_reply": "2022-12-26T17:41:47.440304Z"
        },
        "papermill": {
          "duration": 0.062501,
          "end_time": "2022-12-26T17:41:47.443791",
          "exception": false,
          "start_time": "2022-12-26T17:41:47.381290",
          "status": "completed"
        },
        "tags": [],
        "id": "7554d170"
      },
      "outputs": [],
      "source": [
        "mushroom_data=pd.read_csv(\"/kaggle/input/mushroom-classification/mushrooms.csv\")"
      ]
    },
    {
      "cell_type": "code",
      "execution_count": null,
      "id": "bf9193d5",
      "metadata": {
        "execution": {
          "iopub.execute_input": "2022-12-26T17:41:47.468867Z",
          "iopub.status.busy": "2022-12-26T17:41:47.468423Z",
          "iopub.status.idle": "2022-12-26T17:41:47.506236Z",
          "shell.execute_reply": "2022-12-26T17:41:47.505183Z"
        },
        "papermill": {
          "duration": 0.053598,
          "end_time": "2022-12-26T17:41:47.509021",
          "exception": false,
          "start_time": "2022-12-26T17:41:47.455423",
          "status": "completed"
        },
        "tags": [],
        "id": "bf9193d5",
        "outputId": "8e46091a-d432-4880-f87e-1f6bc96876e0"
      },
      "outputs": [
        {
          "data": {
            "text/html": [
              "<div>\n",
              "<style scoped>\n",
              "    .dataframe tbody tr th:only-of-type {\n",
              "        vertical-align: middle;\n",
              "    }\n",
              "\n",
              "    .dataframe tbody tr th {\n",
              "        vertical-align: top;\n",
              "    }\n",
              "\n",
              "    .dataframe thead th {\n",
              "        text-align: right;\n",
              "    }\n",
              "</style>\n",
              "<table border=\"1\" class=\"dataframe\">\n",
              "  <thead>\n",
              "    <tr style=\"text-align: right;\">\n",
              "      <th></th>\n",
              "      <th>class</th>\n",
              "      <th>cap-shape</th>\n",
              "      <th>cap-surface</th>\n",
              "      <th>cap-color</th>\n",
              "      <th>bruises</th>\n",
              "      <th>odor</th>\n",
              "      <th>gill-attachment</th>\n",
              "      <th>gill-spacing</th>\n",
              "      <th>gill-size</th>\n",
              "      <th>gill-color</th>\n",
              "      <th>...</th>\n",
              "      <th>stalk-surface-below-ring</th>\n",
              "      <th>stalk-color-above-ring</th>\n",
              "      <th>stalk-color-below-ring</th>\n",
              "      <th>veil-type</th>\n",
              "      <th>veil-color</th>\n",
              "      <th>ring-number</th>\n",
              "      <th>ring-type</th>\n",
              "      <th>spore-print-color</th>\n",
              "      <th>population</th>\n",
              "      <th>habitat</th>\n",
              "    </tr>\n",
              "  </thead>\n",
              "  <tbody>\n",
              "    <tr>\n",
              "      <th>0</th>\n",
              "      <td>p</td>\n",
              "      <td>x</td>\n",
              "      <td>s</td>\n",
              "      <td>n</td>\n",
              "      <td>t</td>\n",
              "      <td>p</td>\n",
              "      <td>f</td>\n",
              "      <td>c</td>\n",
              "      <td>n</td>\n",
              "      <td>k</td>\n",
              "      <td>...</td>\n",
              "      <td>s</td>\n",
              "      <td>w</td>\n",
              "      <td>w</td>\n",
              "      <td>p</td>\n",
              "      <td>w</td>\n",
              "      <td>o</td>\n",
              "      <td>p</td>\n",
              "      <td>k</td>\n",
              "      <td>s</td>\n",
              "      <td>u</td>\n",
              "    </tr>\n",
              "    <tr>\n",
              "      <th>1</th>\n",
              "      <td>e</td>\n",
              "      <td>x</td>\n",
              "      <td>s</td>\n",
              "      <td>y</td>\n",
              "      <td>t</td>\n",
              "      <td>a</td>\n",
              "      <td>f</td>\n",
              "      <td>c</td>\n",
              "      <td>b</td>\n",
              "      <td>k</td>\n",
              "      <td>...</td>\n",
              "      <td>s</td>\n",
              "      <td>w</td>\n",
              "      <td>w</td>\n",
              "      <td>p</td>\n",
              "      <td>w</td>\n",
              "      <td>o</td>\n",
              "      <td>p</td>\n",
              "      <td>n</td>\n",
              "      <td>n</td>\n",
              "      <td>g</td>\n",
              "    </tr>\n",
              "    <tr>\n",
              "      <th>2</th>\n",
              "      <td>e</td>\n",
              "      <td>b</td>\n",
              "      <td>s</td>\n",
              "      <td>w</td>\n",
              "      <td>t</td>\n",
              "      <td>l</td>\n",
              "      <td>f</td>\n",
              "      <td>c</td>\n",
              "      <td>b</td>\n",
              "      <td>n</td>\n",
              "      <td>...</td>\n",
              "      <td>s</td>\n",
              "      <td>w</td>\n",
              "      <td>w</td>\n",
              "      <td>p</td>\n",
              "      <td>w</td>\n",
              "      <td>o</td>\n",
              "      <td>p</td>\n",
              "      <td>n</td>\n",
              "      <td>n</td>\n",
              "      <td>m</td>\n",
              "    </tr>\n",
              "    <tr>\n",
              "      <th>3</th>\n",
              "      <td>p</td>\n",
              "      <td>x</td>\n",
              "      <td>y</td>\n",
              "      <td>w</td>\n",
              "      <td>t</td>\n",
              "      <td>p</td>\n",
              "      <td>f</td>\n",
              "      <td>c</td>\n",
              "      <td>n</td>\n",
              "      <td>n</td>\n",
              "      <td>...</td>\n",
              "      <td>s</td>\n",
              "      <td>w</td>\n",
              "      <td>w</td>\n",
              "      <td>p</td>\n",
              "      <td>w</td>\n",
              "      <td>o</td>\n",
              "      <td>p</td>\n",
              "      <td>k</td>\n",
              "      <td>s</td>\n",
              "      <td>u</td>\n",
              "    </tr>\n",
              "    <tr>\n",
              "      <th>4</th>\n",
              "      <td>e</td>\n",
              "      <td>x</td>\n",
              "      <td>s</td>\n",
              "      <td>g</td>\n",
              "      <td>f</td>\n",
              "      <td>n</td>\n",
              "      <td>f</td>\n",
              "      <td>w</td>\n",
              "      <td>b</td>\n",
              "      <td>k</td>\n",
              "      <td>...</td>\n",
              "      <td>s</td>\n",
              "      <td>w</td>\n",
              "      <td>w</td>\n",
              "      <td>p</td>\n",
              "      <td>w</td>\n",
              "      <td>o</td>\n",
              "      <td>e</td>\n",
              "      <td>n</td>\n",
              "      <td>a</td>\n",
              "      <td>g</td>\n",
              "    </tr>\n",
              "  </tbody>\n",
              "</table>\n",
              "<p>5 rows × 23 columns</p>\n",
              "</div>"
            ],
            "text/plain": [
              "  class cap-shape cap-surface cap-color bruises odor gill-attachment  \\\n",
              "0     p         x           s         n       t    p               f   \n",
              "1     e         x           s         y       t    a               f   \n",
              "2     e         b           s         w       t    l               f   \n",
              "3     p         x           y         w       t    p               f   \n",
              "4     e         x           s         g       f    n               f   \n",
              "\n",
              "  gill-spacing gill-size gill-color  ... stalk-surface-below-ring  \\\n",
              "0            c         n          k  ...                        s   \n",
              "1            c         b          k  ...                        s   \n",
              "2            c         b          n  ...                        s   \n",
              "3            c         n          n  ...                        s   \n",
              "4            w         b          k  ...                        s   \n",
              "\n",
              "  stalk-color-above-ring stalk-color-below-ring veil-type veil-color  \\\n",
              "0                      w                      w         p          w   \n",
              "1                      w                      w         p          w   \n",
              "2                      w                      w         p          w   \n",
              "3                      w                      w         p          w   \n",
              "4                      w                      w         p          w   \n",
              "\n",
              "  ring-number ring-type spore-print-color population habitat  \n",
              "0           o         p                 k          s       u  \n",
              "1           o         p                 n          n       g  \n",
              "2           o         p                 n          n       m  \n",
              "3           o         p                 k          s       u  \n",
              "4           o         e                 n          a       g  \n",
              "\n",
              "[5 rows x 23 columns]"
            ]
          },
          "execution_count": 3,
          "metadata": {},
          "output_type": "execute_result"
        }
      ],
      "source": [
        "mushroom_data.head()"
      ]
    },
    {
      "cell_type": "markdown",
      "id": "cbb2378b",
      "metadata": {
        "papermill": {
          "duration": 0.011494,
          "end_time": "2022-12-26T17:41:47.532419",
          "exception": false,
          "start_time": "2022-12-26T17:41:47.520925",
          "status": "completed"
        },
        "tags": [],
        "id": "cbb2378b"
      },
      "source": [
        "# Exploring Data\n"
      ]
    },
    {
      "cell_type": "code",
      "execution_count": null,
      "id": "bb26a1d9",
      "metadata": {
        "execution": {
          "iopub.execute_input": "2022-12-26T17:41:47.557609Z",
          "iopub.status.busy": "2022-12-26T17:41:47.557173Z",
          "iopub.status.idle": "2022-12-26T17:41:47.563913Z",
          "shell.execute_reply": "2022-12-26T17:41:47.563191Z"
        },
        "papermill": {
          "duration": 0.021664,
          "end_time": "2022-12-26T17:41:47.565762",
          "exception": false,
          "start_time": "2022-12-26T17:41:47.544098",
          "status": "completed"
        },
        "tags": [],
        "id": "bb26a1d9",
        "outputId": "455c8496-c864-4546-8f82-0b60c8bbd4d5"
      },
      "outputs": [
        {
          "data": {
            "text/plain": [
              "Index(['class', 'cap-shape', 'cap-surface', 'cap-color', 'bruises', 'odor',\n",
              "       'gill-attachment', 'gill-spacing', 'gill-size', 'gill-color',\n",
              "       'stalk-shape', 'stalk-root', 'stalk-surface-above-ring',\n",
              "       'stalk-surface-below-ring', 'stalk-color-above-ring',\n",
              "       'stalk-color-below-ring', 'veil-type', 'veil-color', 'ring-number',\n",
              "       'ring-type', 'spore-print-color', 'population', 'habitat'],\n",
              "      dtype='object')"
            ]
          },
          "execution_count": 4,
          "metadata": {},
          "output_type": "execute_result"
        }
      ],
      "source": [
        "mushroom_data.columns"
      ]
    },
    {
      "cell_type": "code",
      "execution_count": null,
      "id": "c2187ecd",
      "metadata": {
        "execution": {
          "iopub.execute_input": "2022-12-26T17:41:47.591553Z",
          "iopub.status.busy": "2022-12-26T17:41:47.590669Z",
          "iopub.status.idle": "2022-12-26T17:41:47.596760Z",
          "shell.execute_reply": "2022-12-26T17:41:47.596058Z"
        },
        "papermill": {
          "duration": 0.021318,
          "end_time": "2022-12-26T17:41:47.598866",
          "exception": false,
          "start_time": "2022-12-26T17:41:47.577548",
          "status": "completed"
        },
        "tags": [],
        "id": "c2187ecd",
        "outputId": "d457f1ef-c943-4ca5-b2dd-b00ab499089e"
      },
      "outputs": [
        {
          "data": {
            "text/plain": [
              "(8124, 23)"
            ]
          },
          "execution_count": 5,
          "metadata": {},
          "output_type": "execute_result"
        }
      ],
      "source": [
        "mushroom_data.shape"
      ]
    },
    {
      "cell_type": "markdown",
      "id": "6048ec07",
      "metadata": {
        "papermill": {
          "duration": 0.011674,
          "end_time": "2022-12-26T17:41:47.622680",
          "exception": false,
          "start_time": "2022-12-26T17:41:47.611006",
          "status": "completed"
        },
        "tags": [],
        "id": "6048ec07"
      },
      "source": [
        "here we have 8124 rows and 23 columns"
      ]
    },
    {
      "cell_type": "code",
      "execution_count": null,
      "id": "620b566b",
      "metadata": {
        "execution": {
          "iopub.execute_input": "2022-12-26T17:41:47.648623Z",
          "iopub.status.busy": "2022-12-26T17:41:47.647967Z",
          "iopub.status.idle": "2022-12-26T17:41:47.664129Z",
          "shell.execute_reply": "2022-12-26T17:41:47.663129Z"
        },
        "papermill": {
          "duration": 0.031867,
          "end_time": "2022-12-26T17:41:47.666466",
          "exception": false,
          "start_time": "2022-12-26T17:41:47.634599",
          "status": "completed"
        },
        "tags": [],
        "id": "620b566b",
        "outputId": "6a0d9b47-7664-4563-f690-111ecc393954"
      },
      "outputs": [
        {
          "data": {
            "text/plain": [
              "class                       0\n",
              "cap-shape                   0\n",
              "cap-surface                 0\n",
              "cap-color                   0\n",
              "bruises                     0\n",
              "odor                        0\n",
              "gill-attachment             0\n",
              "gill-spacing                0\n",
              "gill-size                   0\n",
              "gill-color                  0\n",
              "stalk-shape                 0\n",
              "stalk-root                  0\n",
              "stalk-surface-above-ring    0\n",
              "stalk-surface-below-ring    0\n",
              "stalk-color-above-ring      0\n",
              "stalk-color-below-ring      0\n",
              "veil-type                   0\n",
              "veil-color                  0\n",
              "ring-number                 0\n",
              "ring-type                   0\n",
              "spore-print-color           0\n",
              "population                  0\n",
              "habitat                     0\n",
              "dtype: int64"
            ]
          },
          "execution_count": 6,
          "metadata": {},
          "output_type": "execute_result"
        }
      ],
      "source": [
        "mushroom_data.isnull().sum()"
      ]
    },
    {
      "cell_type": "markdown",
      "id": "6b73a204",
      "metadata": {
        "papermill": {
          "duration": 0.011877,
          "end_time": "2022-12-26T17:41:47.690584",
          "exception": false,
          "start_time": "2022-12-26T17:41:47.678707",
          "status": "completed"
        },
        "tags": [],
        "id": "6b73a204"
      },
      "source": [
        "its seems that we dont have any missing values in any of the row\n"
      ]
    },
    {
      "cell_type": "markdown",
      "id": "2562654b",
      "metadata": {
        "papermill": {
          "duration": 0.013597,
          "end_time": "2022-12-26T17:41:47.719667",
          "exception": false,
          "start_time": "2022-12-26T17:41:47.706070",
          "status": "completed"
        },
        "tags": [],
        "id": "2562654b"
      },
      "source": [
        "cardinality in each attribute\n"
      ]
    },
    {
      "cell_type": "code",
      "execution_count": null,
      "id": "a85df4a6",
      "metadata": {
        "execution": {
          "iopub.execute_input": "2022-12-26T17:41:47.745879Z",
          "iopub.status.busy": "2022-12-26T17:41:47.745459Z",
          "iopub.status.idle": "2022-12-26T17:41:47.810318Z",
          "shell.execute_reply": "2022-12-26T17:41:47.809107Z"
        },
        "papermill": {
          "duration": 0.082511,
          "end_time": "2022-12-26T17:41:47.814525",
          "exception": false,
          "start_time": "2022-12-26T17:41:47.732014",
          "status": "completed"
        },
        "tags": [],
        "id": "a85df4a6",
        "outputId": "7a649283-a0d9-44c3-929d-51bfa37873eb"
      },
      "outputs": [
        {
          "name": "stdout",
          "output_type": "stream",
          "text": [
            "e    51.797144\n",
            "p    48.202856\n",
            "Name: class, dtype: float64\n",
            "2\n",
            "******************************\n",
            "x    45.002462\n",
            "f    38.798621\n",
            "k    10.192024\n",
            "b     5.563762\n",
            "s     0.393895\n",
            "c     0.049237\n",
            "Name: cap-shape, dtype: float64\n",
            "6\n",
            "******************************\n",
            "y    39.931068\n",
            "s    31.462334\n",
            "f    28.557361\n",
            "g     0.049237\n",
            "Name: cap-surface, dtype: float64\n",
            "4\n",
            "******************************\n",
            "n    28.114229\n",
            "g    22.648941\n",
            "e    18.463811\n",
            "y    13.195470\n",
            "w    12.801576\n",
            "b     2.067947\n",
            "p     1.772526\n",
            "c     0.541605\n",
            "u     0.196947\n",
            "r     0.196947\n",
            "Name: cap-color, dtype: float64\n",
            "10\n",
            "******************************\n",
            "f    58.444116\n",
            "t    41.555884\n",
            "Name: bruises, dtype: float64\n",
            "2\n",
            "******************************\n",
            "n    43.426883\n",
            "f    26.587888\n",
            "y     7.090103\n",
            "s     7.090103\n",
            "a     4.923683\n",
            "l     4.923683\n",
            "p     3.151157\n",
            "c     2.363368\n",
            "m     0.443131\n",
            "Name: odor, dtype: float64\n",
            "9\n",
            "******************************\n",
            "f    97.415066\n",
            "a     2.584934\n",
            "Name: gill-attachment, dtype: float64\n",
            "2\n",
            "******************************\n",
            "c    83.85032\n",
            "w    16.14968\n",
            "Name: gill-spacing, dtype: float64\n",
            "2\n",
            "******************************\n",
            "b    69.079271\n",
            "n    30.920729\n",
            "Name: gill-size, dtype: float64\n",
            "2\n",
            "******************************\n",
            "b    21.270310\n",
            "p    18.365337\n",
            "w    14.795667\n",
            "n    12.900049\n",
            "g     9.256524\n",
            "h     9.010340\n",
            "u     6.056130\n",
            "k     5.022157\n",
            "e     1.181684\n",
            "y     1.058592\n",
            "o     0.787789\n",
            "r     0.295421\n",
            "Name: gill-color, dtype: float64\n",
            "12\n",
            "******************************\n",
            "t    56.720827\n",
            "e    43.279173\n",
            "Name: stalk-shape, dtype: float64\n",
            "2\n",
            "******************************\n",
            "b    46.479567\n",
            "?    30.526834\n",
            "e    13.786312\n",
            "c     6.843919\n",
            "r     2.363368\n",
            "Name: stalk-root, dtype: float64\n",
            "5\n",
            "******************************\n",
            "s    63.712457\n",
            "k    29.197440\n",
            "f     6.794682\n",
            "y     0.295421\n",
            "Name: stalk-surface-above-ring, dtype: float64\n",
            "4\n",
            "******************************\n",
            "s    60.758247\n",
            "k    28.360414\n",
            "f     7.385524\n",
            "y     3.495815\n",
            "Name: stalk-surface-below-ring, dtype: float64\n",
            "4\n",
            "******************************\n",
            "w    54.948301\n",
            "p    23.042836\n",
            "g     7.090103\n",
            "n     5.514525\n",
            "b     5.317578\n",
            "o     2.363368\n",
            "e     1.181684\n",
            "c     0.443131\n",
            "y     0.098474\n",
            "Name: stalk-color-above-ring, dtype: float64\n",
            "9\n",
            "******************************\n",
            "w    53.963565\n",
            "p    23.042836\n",
            "g     7.090103\n",
            "n     6.302314\n",
            "b     5.317578\n",
            "o     2.363368\n",
            "e     1.181684\n",
            "c     0.443131\n",
            "y     0.295421\n",
            "Name: stalk-color-below-ring, dtype: float64\n",
            "9\n",
            "******************************\n",
            "p    100.0\n",
            "Name: veil-type, dtype: float64\n",
            "1\n",
            "******************************\n",
            "w    97.538159\n",
            "n     1.181684\n",
            "o     1.181684\n",
            "y     0.098474\n",
            "Name: veil-color, dtype: float64\n",
            "4\n",
            "******************************\n",
            "o    92.171344\n",
            "t     7.385524\n",
            "n     0.443131\n",
            "Name: ring-number, dtype: float64\n",
            "3\n",
            "******************************\n",
            "p    48.842935\n",
            "e    34.170359\n",
            "l    15.952733\n",
            "f     0.590842\n",
            "n     0.443131\n",
            "Name: ring-type, dtype: float64\n",
            "5\n",
            "******************************\n",
            "w    29.394387\n",
            "n    24.224520\n",
            "k    23.042836\n",
            "h    20.088626\n",
            "r     0.886263\n",
            "u     0.590842\n",
            "o     0.590842\n",
            "y     0.590842\n",
            "b     0.590842\n",
            "Name: spore-print-color, dtype: float64\n",
            "9\n",
            "******************************\n",
            "v    49.729197\n",
            "y    21.073363\n",
            "s    15.361891\n",
            "n     4.923683\n",
            "a     4.726736\n",
            "c     4.185130\n",
            "Name: population, dtype: float64\n",
            "6\n",
            "******************************\n",
            "d    38.749385\n",
            "g    26.440177\n",
            "p    14.081733\n",
            "l    10.241260\n",
            "u     4.529788\n",
            "m     3.594289\n",
            "w     2.363368\n",
            "Name: habitat, dtype: float64\n",
            "7\n",
            "******************************\n"
          ]
        }
      ],
      "source": [
        "for i in mushroom_data.columns:\n",
        "  print(mushroom_data[i].value_counts(normalize=True)*100)\n",
        "  print(mushroom_data[i].nunique())\n",
        "  print(\"******************************\")"
      ]
    },
    {
      "cell_type": "markdown",
      "id": "97e585a9",
      "metadata": {
        "papermill": {
          "duration": 0.011988,
          "end_time": "2022-12-26T17:41:47.838892",
          "exception": false,
          "start_time": "2022-12-26T17:41:47.826904",
          "status": "completed"
        },
        "tags": [],
        "id": "97e585a9"
      },
      "source": [
        "1 by checking the cardinality of each attribite , there were the 30.5% of data with ?.\n",
        "\n",
        "2 veil-type attribute is having only one value category.so it is not importent for us we drop that column\n"
      ]
    },
    {
      "cell_type": "code",
      "execution_count": null,
      "id": "79bb2a4f",
      "metadata": {
        "execution": {
          "iopub.execute_input": "2022-12-26T17:41:47.865631Z",
          "iopub.status.busy": "2022-12-26T17:41:47.864548Z",
          "iopub.status.idle": "2022-12-26T17:41:47.923948Z",
          "shell.execute_reply": "2022-12-26T17:41:47.922883Z"
        },
        "papermill": {
          "duration": 0.075276,
          "end_time": "2022-12-26T17:41:47.926498",
          "exception": false,
          "start_time": "2022-12-26T17:41:47.851222",
          "status": "completed"
        },
        "tags": [],
        "id": "79bb2a4f",
        "outputId": "c05e546f-1175-4a06-e831-d58747e60daa"
      },
      "outputs": [
        {
          "data": {
            "text/html": [
              "<div>\n",
              "<style scoped>\n",
              "    .dataframe tbody tr th:only-of-type {\n",
              "        vertical-align: middle;\n",
              "    }\n",
              "\n",
              "    .dataframe tbody tr th {\n",
              "        vertical-align: top;\n",
              "    }\n",
              "\n",
              "    .dataframe thead th {\n",
              "        text-align: right;\n",
              "    }\n",
              "</style>\n",
              "<table border=\"1\" class=\"dataframe\">\n",
              "  <thead>\n",
              "    <tr style=\"text-align: right;\">\n",
              "      <th></th>\n",
              "      <th>count</th>\n",
              "      <th>unique</th>\n",
              "      <th>top</th>\n",
              "      <th>freq</th>\n",
              "    </tr>\n",
              "  </thead>\n",
              "  <tbody>\n",
              "    <tr>\n",
              "      <th>class</th>\n",
              "      <td>8124</td>\n",
              "      <td>2</td>\n",
              "      <td>e</td>\n",
              "      <td>4208</td>\n",
              "    </tr>\n",
              "    <tr>\n",
              "      <th>cap-shape</th>\n",
              "      <td>8124</td>\n",
              "      <td>6</td>\n",
              "      <td>x</td>\n",
              "      <td>3656</td>\n",
              "    </tr>\n",
              "    <tr>\n",
              "      <th>cap-surface</th>\n",
              "      <td>8124</td>\n",
              "      <td>4</td>\n",
              "      <td>y</td>\n",
              "      <td>3244</td>\n",
              "    </tr>\n",
              "    <tr>\n",
              "      <th>cap-color</th>\n",
              "      <td>8124</td>\n",
              "      <td>10</td>\n",
              "      <td>n</td>\n",
              "      <td>2284</td>\n",
              "    </tr>\n",
              "    <tr>\n",
              "      <th>bruises</th>\n",
              "      <td>8124</td>\n",
              "      <td>2</td>\n",
              "      <td>f</td>\n",
              "      <td>4748</td>\n",
              "    </tr>\n",
              "    <tr>\n",
              "      <th>odor</th>\n",
              "      <td>8124</td>\n",
              "      <td>9</td>\n",
              "      <td>n</td>\n",
              "      <td>3528</td>\n",
              "    </tr>\n",
              "    <tr>\n",
              "      <th>gill-attachment</th>\n",
              "      <td>8124</td>\n",
              "      <td>2</td>\n",
              "      <td>f</td>\n",
              "      <td>7914</td>\n",
              "    </tr>\n",
              "    <tr>\n",
              "      <th>gill-spacing</th>\n",
              "      <td>8124</td>\n",
              "      <td>2</td>\n",
              "      <td>c</td>\n",
              "      <td>6812</td>\n",
              "    </tr>\n",
              "    <tr>\n",
              "      <th>gill-size</th>\n",
              "      <td>8124</td>\n",
              "      <td>2</td>\n",
              "      <td>b</td>\n",
              "      <td>5612</td>\n",
              "    </tr>\n",
              "    <tr>\n",
              "      <th>gill-color</th>\n",
              "      <td>8124</td>\n",
              "      <td>12</td>\n",
              "      <td>b</td>\n",
              "      <td>1728</td>\n",
              "    </tr>\n",
              "    <tr>\n",
              "      <th>stalk-shape</th>\n",
              "      <td>8124</td>\n",
              "      <td>2</td>\n",
              "      <td>t</td>\n",
              "      <td>4608</td>\n",
              "    </tr>\n",
              "    <tr>\n",
              "      <th>stalk-root</th>\n",
              "      <td>8124</td>\n",
              "      <td>5</td>\n",
              "      <td>b</td>\n",
              "      <td>3776</td>\n",
              "    </tr>\n",
              "    <tr>\n",
              "      <th>stalk-surface-above-ring</th>\n",
              "      <td>8124</td>\n",
              "      <td>4</td>\n",
              "      <td>s</td>\n",
              "      <td>5176</td>\n",
              "    </tr>\n",
              "    <tr>\n",
              "      <th>stalk-surface-below-ring</th>\n",
              "      <td>8124</td>\n",
              "      <td>4</td>\n",
              "      <td>s</td>\n",
              "      <td>4936</td>\n",
              "    </tr>\n",
              "    <tr>\n",
              "      <th>stalk-color-above-ring</th>\n",
              "      <td>8124</td>\n",
              "      <td>9</td>\n",
              "      <td>w</td>\n",
              "      <td>4464</td>\n",
              "    </tr>\n",
              "    <tr>\n",
              "      <th>stalk-color-below-ring</th>\n",
              "      <td>8124</td>\n",
              "      <td>9</td>\n",
              "      <td>w</td>\n",
              "      <td>4384</td>\n",
              "    </tr>\n",
              "    <tr>\n",
              "      <th>veil-type</th>\n",
              "      <td>8124</td>\n",
              "      <td>1</td>\n",
              "      <td>p</td>\n",
              "      <td>8124</td>\n",
              "    </tr>\n",
              "    <tr>\n",
              "      <th>veil-color</th>\n",
              "      <td>8124</td>\n",
              "      <td>4</td>\n",
              "      <td>w</td>\n",
              "      <td>7924</td>\n",
              "    </tr>\n",
              "    <tr>\n",
              "      <th>ring-number</th>\n",
              "      <td>8124</td>\n",
              "      <td>3</td>\n",
              "      <td>o</td>\n",
              "      <td>7488</td>\n",
              "    </tr>\n",
              "    <tr>\n",
              "      <th>ring-type</th>\n",
              "      <td>8124</td>\n",
              "      <td>5</td>\n",
              "      <td>p</td>\n",
              "      <td>3968</td>\n",
              "    </tr>\n",
              "    <tr>\n",
              "      <th>spore-print-color</th>\n",
              "      <td>8124</td>\n",
              "      <td>9</td>\n",
              "      <td>w</td>\n",
              "      <td>2388</td>\n",
              "    </tr>\n",
              "    <tr>\n",
              "      <th>population</th>\n",
              "      <td>8124</td>\n",
              "      <td>6</td>\n",
              "      <td>v</td>\n",
              "      <td>4040</td>\n",
              "    </tr>\n",
              "    <tr>\n",
              "      <th>habitat</th>\n",
              "      <td>8124</td>\n",
              "      <td>7</td>\n",
              "      <td>d</td>\n",
              "      <td>3148</td>\n",
              "    </tr>\n",
              "  </tbody>\n",
              "</table>\n",
              "</div>"
            ],
            "text/plain": [
              "                         count unique top  freq\n",
              "class                     8124      2   e  4208\n",
              "cap-shape                 8124      6   x  3656\n",
              "cap-surface               8124      4   y  3244\n",
              "cap-color                 8124     10   n  2284\n",
              "bruises                   8124      2   f  4748\n",
              "odor                      8124      9   n  3528\n",
              "gill-attachment           8124      2   f  7914\n",
              "gill-spacing              8124      2   c  6812\n",
              "gill-size                 8124      2   b  5612\n",
              "gill-color                8124     12   b  1728\n",
              "stalk-shape               8124      2   t  4608\n",
              "stalk-root                8124      5   b  3776\n",
              "stalk-surface-above-ring  8124      4   s  5176\n",
              "stalk-surface-below-ring  8124      4   s  4936\n",
              "stalk-color-above-ring    8124      9   w  4464\n",
              "stalk-color-below-ring    8124      9   w  4384\n",
              "veil-type                 8124      1   p  8124\n",
              "veil-color                8124      4   w  7924\n",
              "ring-number               8124      3   o  7488\n",
              "ring-type                 8124      5   p  3968\n",
              "spore-print-color         8124      9   w  2388\n",
              "population                8124      6   v  4040\n",
              "habitat                   8124      7   d  3148"
            ]
          },
          "execution_count": 8,
          "metadata": {},
          "output_type": "execute_result"
        }
      ],
      "source": [
        "mushroom_data.describe().T"
      ]
    },
    {
      "cell_type": "code",
      "execution_count": null,
      "id": "c3dd2f8d",
      "metadata": {
        "execution": {
          "iopub.execute_input": "2022-12-26T17:41:47.956459Z",
          "iopub.status.busy": "2022-12-26T17:41:47.956075Z",
          "iopub.status.idle": "2022-12-26T17:41:47.964430Z",
          "shell.execute_reply": "2022-12-26T17:41:47.963591Z"
        },
        "papermill": {
          "duration": 0.026121,
          "end_time": "2022-12-26T17:41:47.967074",
          "exception": false,
          "start_time": "2022-12-26T17:41:47.940953",
          "status": "completed"
        },
        "tags": [],
        "id": "c3dd2f8d",
        "outputId": "b9b84e4f-6d48-4920-bc96-8304615f8c96"
      },
      "outputs": [
        {
          "data": {
            "text/plain": [
              "class                       object\n",
              "cap-shape                   object\n",
              "cap-surface                 object\n",
              "cap-color                   object\n",
              "bruises                     object\n",
              "odor                        object\n",
              "gill-attachment             object\n",
              "gill-spacing                object\n",
              "gill-size                   object\n",
              "gill-color                  object\n",
              "stalk-shape                 object\n",
              "stalk-root                  object\n",
              "stalk-surface-above-ring    object\n",
              "stalk-surface-below-ring    object\n",
              "stalk-color-above-ring      object\n",
              "stalk-color-below-ring      object\n",
              "veil-type                   object\n",
              "veil-color                  object\n",
              "ring-number                 object\n",
              "ring-type                   object\n",
              "spore-print-color           object\n",
              "population                  object\n",
              "habitat                     object\n",
              "dtype: object"
            ]
          },
          "execution_count": 9,
          "metadata": {},
          "output_type": "execute_result"
        }
      ],
      "source": [
        "mushroom_data.dtypes"
      ]
    },
    {
      "cell_type": "markdown",
      "id": "e8bdad48",
      "metadata": {
        "papermill": {
          "duration": 0.01549,
          "end_time": "2022-12-26T17:41:48.000082",
          "exception": false,
          "start_time": "2022-12-26T17:41:47.984592",
          "status": "completed"
        },
        "tags": [],
        "id": "e8bdad48"
      },
      "source": [
        "By oberserving the data its seems to be all the data is in catogorical data ,so lets convert all the data columns into the catogorical type"
      ]
    },
    {
      "cell_type": "code",
      "execution_count": null,
      "id": "751aa432",
      "metadata": {
        "execution": {
          "iopub.execute_input": "2022-12-26T17:41:48.031687Z",
          "iopub.status.busy": "2022-12-26T17:41:48.031283Z",
          "iopub.status.idle": "2022-12-26T17:41:48.063424Z",
          "shell.execute_reply": "2022-12-26T17:41:48.062252Z"
        },
        "papermill": {
          "duration": 0.049152,
          "end_time": "2022-12-26T17:41:48.066127",
          "exception": false,
          "start_time": "2022-12-26T17:41:48.016975",
          "status": "completed"
        },
        "tags": [],
        "id": "751aa432"
      },
      "outputs": [],
      "source": [
        "mushroom_data=mushroom_data.astype(\"category\")"
      ]
    },
    {
      "cell_type": "code",
      "execution_count": null,
      "id": "94cdc23d",
      "metadata": {
        "execution": {
          "iopub.execute_input": "2022-12-26T17:41:48.093336Z",
          "iopub.status.busy": "2022-12-26T17:41:48.092942Z",
          "iopub.status.idle": "2022-12-26T17:41:48.118392Z",
          "shell.execute_reply": "2022-12-26T17:41:48.116784Z"
        },
        "papermill": {
          "duration": 0.041972,
          "end_time": "2022-12-26T17:41:48.120960",
          "exception": false,
          "start_time": "2022-12-26T17:41:48.078988",
          "status": "completed"
        },
        "tags": [],
        "id": "94cdc23d",
        "outputId": "045b26ff-46fa-40af-b243-c3a7dd54bc25"
      },
      "outputs": [
        {
          "name": "stdout",
          "output_type": "stream",
          "text": [
            "<class 'pandas.core.frame.DataFrame'>\n",
            "RangeIndex: 8124 entries, 0 to 8123\n",
            "Data columns (total 23 columns):\n",
            " #   Column                    Non-Null Count  Dtype   \n",
            "---  ------                    --------------  -----   \n",
            " 0   class                     8124 non-null   category\n",
            " 1   cap-shape                 8124 non-null   category\n",
            " 2   cap-surface               8124 non-null   category\n",
            " 3   cap-color                 8124 non-null   category\n",
            " 4   bruises                   8124 non-null   category\n",
            " 5   odor                      8124 non-null   category\n",
            " 6   gill-attachment           8124 non-null   category\n",
            " 7   gill-spacing              8124 non-null   category\n",
            " 8   gill-size                 8124 non-null   category\n",
            " 9   gill-color                8124 non-null   category\n",
            " 10  stalk-shape               8124 non-null   category\n",
            " 11  stalk-root                8124 non-null   category\n",
            " 12  stalk-surface-above-ring  8124 non-null   category\n",
            " 13  stalk-surface-below-ring  8124 non-null   category\n",
            " 14  stalk-color-above-ring    8124 non-null   category\n",
            " 15  stalk-color-below-ring    8124 non-null   category\n",
            " 16  veil-type                 8124 non-null   category\n",
            " 17  veil-color                8124 non-null   category\n",
            " 18  ring-number               8124 non-null   category\n",
            " 19  ring-type                 8124 non-null   category\n",
            " 20  spore-print-color         8124 non-null   category\n",
            " 21  population                8124 non-null   category\n",
            " 22  habitat                   8124 non-null   category\n",
            "dtypes: category(23)\n",
            "memory usage: 187.8 KB\n"
          ]
        }
      ],
      "source": [
        "mushroom_data.info()"
      ]
    },
    {
      "cell_type": "code",
      "execution_count": null,
      "id": "0280198e",
      "metadata": {
        "execution": {
          "iopub.execute_input": "2022-12-26T17:41:48.148527Z",
          "iopub.status.busy": "2022-12-26T17:41:48.148107Z",
          "iopub.status.idle": "2022-12-26T17:41:48.154226Z",
          "shell.execute_reply": "2022-12-26T17:41:48.153182Z"
        },
        "papermill": {
          "duration": 0.0225,
          "end_time": "2022-12-26T17:41:48.156331",
          "exception": false,
          "start_time": "2022-12-26T17:41:48.133831",
          "status": "completed"
        },
        "tags": [],
        "id": "0280198e"
      },
      "outputs": [],
      "source": [
        "mushroom_data.drop(columns =\"veil-type\",inplace=True,axis=1)"
      ]
    },
    {
      "cell_type": "code",
      "execution_count": null,
      "id": "92e9890c",
      "metadata": {
        "execution": {
          "iopub.execute_input": "2022-12-26T17:41:48.188272Z",
          "iopub.status.busy": "2022-12-26T17:41:48.187153Z",
          "iopub.status.idle": "2022-12-26T17:41:50.343106Z",
          "shell.execute_reply": "2022-12-26T17:41:50.341898Z"
        },
        "papermill": {
          "duration": 2.176512,
          "end_time": "2022-12-26T17:41:50.345794",
          "exception": false,
          "start_time": "2022-12-26T17:41:48.169282",
          "status": "completed"
        },
        "tags": [],
        "id": "92e9890c"
      },
      "outputs": [],
      "source": [
        "import matplotlib.pyplot as plt\n",
        "import seaborn as sns\n",
        "import plotly.express as px"
      ]
    },
    {
      "cell_type": "code",
      "execution_count": null,
      "id": "c3dd54cb",
      "metadata": {
        "execution": {
          "iopub.execute_input": "2022-12-26T17:41:50.373714Z",
          "iopub.status.busy": "2022-12-26T17:41:50.373299Z",
          "iopub.status.idle": "2022-12-26T17:41:50.403822Z",
          "shell.execute_reply": "2022-12-26T17:41:50.402692Z"
        },
        "papermill": {
          "duration": 0.047521,
          "end_time": "2022-12-26T17:41:50.406461",
          "exception": false,
          "start_time": "2022-12-26T17:41:50.358940",
          "status": "completed"
        },
        "tags": [],
        "id": "c3dd54cb",
        "outputId": "a5c3f52d-05fa-478b-aeac-91957042ea38"
      },
      "outputs": [
        {
          "data": {
            "text/html": [
              "<div>\n",
              "<style scoped>\n",
              "    .dataframe tbody tr th:only-of-type {\n",
              "        vertical-align: middle;\n",
              "    }\n",
              "\n",
              "    .dataframe tbody tr th {\n",
              "        vertical-align: top;\n",
              "    }\n",
              "\n",
              "    .dataframe thead th {\n",
              "        text-align: right;\n",
              "    }\n",
              "</style>\n",
              "<table border=\"1\" class=\"dataframe\">\n",
              "  <thead>\n",
              "    <tr style=\"text-align: right;\">\n",
              "      <th></th>\n",
              "      <th>class</th>\n",
              "      <th>cap-shape</th>\n",
              "      <th>cap-surface</th>\n",
              "      <th>cap-color</th>\n",
              "      <th>bruises</th>\n",
              "      <th>odor</th>\n",
              "      <th>gill-attachment</th>\n",
              "      <th>gill-spacing</th>\n",
              "      <th>gill-size</th>\n",
              "      <th>gill-color</th>\n",
              "      <th>...</th>\n",
              "      <th>stalk-surface-above-ring</th>\n",
              "      <th>stalk-surface-below-ring</th>\n",
              "      <th>stalk-color-above-ring</th>\n",
              "      <th>stalk-color-below-ring</th>\n",
              "      <th>veil-color</th>\n",
              "      <th>ring-number</th>\n",
              "      <th>ring-type</th>\n",
              "      <th>spore-print-color</th>\n",
              "      <th>population</th>\n",
              "      <th>habitat</th>\n",
              "    </tr>\n",
              "  </thead>\n",
              "  <tbody>\n",
              "    <tr>\n",
              "      <th>0</th>\n",
              "      <td>p</td>\n",
              "      <td>x</td>\n",
              "      <td>s</td>\n",
              "      <td>n</td>\n",
              "      <td>t</td>\n",
              "      <td>p</td>\n",
              "      <td>f</td>\n",
              "      <td>c</td>\n",
              "      <td>n</td>\n",
              "      <td>k</td>\n",
              "      <td>...</td>\n",
              "      <td>s</td>\n",
              "      <td>s</td>\n",
              "      <td>w</td>\n",
              "      <td>w</td>\n",
              "      <td>w</td>\n",
              "      <td>o</td>\n",
              "      <td>p</td>\n",
              "      <td>k</td>\n",
              "      <td>s</td>\n",
              "      <td>u</td>\n",
              "    </tr>\n",
              "    <tr>\n",
              "      <th>1</th>\n",
              "      <td>e</td>\n",
              "      <td>x</td>\n",
              "      <td>s</td>\n",
              "      <td>y</td>\n",
              "      <td>t</td>\n",
              "      <td>a</td>\n",
              "      <td>f</td>\n",
              "      <td>c</td>\n",
              "      <td>b</td>\n",
              "      <td>k</td>\n",
              "      <td>...</td>\n",
              "      <td>s</td>\n",
              "      <td>s</td>\n",
              "      <td>w</td>\n",
              "      <td>w</td>\n",
              "      <td>w</td>\n",
              "      <td>o</td>\n",
              "      <td>p</td>\n",
              "      <td>n</td>\n",
              "      <td>n</td>\n",
              "      <td>g</td>\n",
              "    </tr>\n",
              "    <tr>\n",
              "      <th>2</th>\n",
              "      <td>e</td>\n",
              "      <td>b</td>\n",
              "      <td>s</td>\n",
              "      <td>w</td>\n",
              "      <td>t</td>\n",
              "      <td>l</td>\n",
              "      <td>f</td>\n",
              "      <td>c</td>\n",
              "      <td>b</td>\n",
              "      <td>n</td>\n",
              "      <td>...</td>\n",
              "      <td>s</td>\n",
              "      <td>s</td>\n",
              "      <td>w</td>\n",
              "      <td>w</td>\n",
              "      <td>w</td>\n",
              "      <td>o</td>\n",
              "      <td>p</td>\n",
              "      <td>n</td>\n",
              "      <td>n</td>\n",
              "      <td>m</td>\n",
              "    </tr>\n",
              "    <tr>\n",
              "      <th>3</th>\n",
              "      <td>p</td>\n",
              "      <td>x</td>\n",
              "      <td>y</td>\n",
              "      <td>w</td>\n",
              "      <td>t</td>\n",
              "      <td>p</td>\n",
              "      <td>f</td>\n",
              "      <td>c</td>\n",
              "      <td>n</td>\n",
              "      <td>n</td>\n",
              "      <td>...</td>\n",
              "      <td>s</td>\n",
              "      <td>s</td>\n",
              "      <td>w</td>\n",
              "      <td>w</td>\n",
              "      <td>w</td>\n",
              "      <td>o</td>\n",
              "      <td>p</td>\n",
              "      <td>k</td>\n",
              "      <td>s</td>\n",
              "      <td>u</td>\n",
              "    </tr>\n",
              "    <tr>\n",
              "      <th>4</th>\n",
              "      <td>e</td>\n",
              "      <td>x</td>\n",
              "      <td>s</td>\n",
              "      <td>g</td>\n",
              "      <td>f</td>\n",
              "      <td>n</td>\n",
              "      <td>f</td>\n",
              "      <td>w</td>\n",
              "      <td>b</td>\n",
              "      <td>k</td>\n",
              "      <td>...</td>\n",
              "      <td>s</td>\n",
              "      <td>s</td>\n",
              "      <td>w</td>\n",
              "      <td>w</td>\n",
              "      <td>w</td>\n",
              "      <td>o</td>\n",
              "      <td>e</td>\n",
              "      <td>n</td>\n",
              "      <td>a</td>\n",
              "      <td>g</td>\n",
              "    </tr>\n",
              "  </tbody>\n",
              "</table>\n",
              "<p>5 rows × 22 columns</p>\n",
              "</div>"
            ],
            "text/plain": [
              "  class cap-shape cap-surface cap-color bruises odor gill-attachment  \\\n",
              "0     p         x           s         n       t    p               f   \n",
              "1     e         x           s         y       t    a               f   \n",
              "2     e         b           s         w       t    l               f   \n",
              "3     p         x           y         w       t    p               f   \n",
              "4     e         x           s         g       f    n               f   \n",
              "\n",
              "  gill-spacing gill-size gill-color  ... stalk-surface-above-ring  \\\n",
              "0            c         n          k  ...                        s   \n",
              "1            c         b          k  ...                        s   \n",
              "2            c         b          n  ...                        s   \n",
              "3            c         n          n  ...                        s   \n",
              "4            w         b          k  ...                        s   \n",
              "\n",
              "  stalk-surface-below-ring stalk-color-above-ring stalk-color-below-ring  \\\n",
              "0                        s                      w                      w   \n",
              "1                        s                      w                      w   \n",
              "2                        s                      w                      w   \n",
              "3                        s                      w                      w   \n",
              "4                        s                      w                      w   \n",
              "\n",
              "  veil-color ring-number ring-type spore-print-color population habitat  \n",
              "0          w           o         p                 k          s       u  \n",
              "1          w           o         p                 n          n       g  \n",
              "2          w           o         p                 n          n       m  \n",
              "3          w           o         p                 k          s       u  \n",
              "4          w           o         e                 n          a       g  \n",
              "\n",
              "[5 rows x 22 columns]"
            ]
          },
          "execution_count": 14,
          "metadata": {},
          "output_type": "execute_result"
        }
      ],
      "source": [
        "mushroom_data.head()"
      ]
    },
    {
      "cell_type": "code",
      "execution_count": null,
      "id": "5fc5af4e",
      "metadata": {
        "execution": {
          "iopub.execute_input": "2022-12-26T17:41:50.435218Z",
          "iopub.status.busy": "2022-12-26T17:41:50.434704Z",
          "iopub.status.idle": "2022-12-26T17:41:51.413182Z",
          "shell.execute_reply": "2022-12-26T17:41:51.411847Z"
        },
        "papermill": {
          "duration": 0.995728,
          "end_time": "2022-12-26T17:41:51.415659",
          "exception": false,
          "start_time": "2022-12-26T17:41:50.419931",
          "status": "completed"
        },
        "tags": [],
        "id": "5fc5af4e",
        "outputId": "240f52c0-1e35-4168-c7bc-ac69302da366"
      },
      "outputs": [
        {
          "data": {
            "text/html": [
              "        <script type=\"text/javascript\">\n",
              "        window.PlotlyConfig = {MathJaxConfig: 'local'};\n",
              "        if (window.MathJax && window.MathJax.Hub && window.MathJax.Hub.Config) {window.MathJax.Hub.Config({SVG: {font: \"STIX-Web\"}});}\n",
              "        if (typeof require !== 'undefined') {\n",
              "        require.undef(\"plotly\");\n",
              "        requirejs.config({\n",
              "            paths: {\n",
              "                'plotly': ['https://cdn.plot.ly/plotly-2.14.0.min']\n",
              "            }\n",
              "        });\n",
              "        require(['plotly'], function(Plotly) {\n",
              "            window._Plotly = Plotly;\n",
              "        });\n",
              "        }\n",
              "        </script>\n",
              "        "
            ]
          },
          "metadata": {},
          "output_type": "display_data"
        },
        {
          "data": {
            "text/html": [
              "<div>                            <div id=\"44e112b4-bd9b-4a44-ab6b-044002bda11a\" class=\"plotly-graph-div\" style=\"height:525px; width:100%;\"></div>            <script type=\"text/javascript\">                require([\"plotly\"], function(Plotly) {                    window.PLOTLYENV=window.PLOTLYENV || {};                                    if (document.getElementById(\"44e112b4-bd9b-4a44-ab6b-044002bda11a\")) {                    Plotly.newPlot(                        \"44e112b4-bd9b-4a44-ab6b-044002bda11a\",                        [{\"domain\":{\"x\":[0.0,1.0],\"y\":[0.0,1.0]},\"hovertemplate\":\"class=%{label}<extra></extra>\",\"labels\":[\"p\",\"e\",\"e\",\"p\",\"e\",\"e\",\"e\",\"e\",\"p\",\"e\",\"e\",\"e\",\"e\",\"p\",\"e\",\"e\",\"e\",\"p\",\"p\",\"p\",\"e\",\"p\",\"e\",\"e\",\"e\",\"p\",\"e\",\"e\",\"e\",\"e\",\"e\",\"p\",\"e\",\"e\",\"e\",\"e\",\"e\",\"p\",\"e\",\"e\",\"e\",\"e\",\"e\",\"p\",\"e\",\"e\",\"e\",\"e\",\"e\",\"e\",\"e\",\"e\",\"e\",\"p\",\"p\",\"e\",\"e\",\"e\",\"e\",\"e\",\"e\",\"e\",\"e\",\"e\",\"e\",\"e\",\"e\",\"e\",\"e\",\"e\",\"e\",\"e\",\"e\",\"e\",\"e\",\"e\",\"e\",\"e\",\"p\",\"e\",\"e\",\"p\",\"e\",\"e\",\"e\",\"e\",\"e\",\"e\",\"e\",\"e\",\"e\",\"e\",\"e\",\"e\",\"e\",\"e\",\"e\",\"e\",\"e\",\"e\",\"e\",\"e\",\"e\",\"e\",\"e\",\"e\",\"e\",\"e\",\"e\",\"e\",\"e\",\"e\",\"e\",\"e\",\"p\",\"e\",\"e\",\"e\",\"e\",\"e\",\"p\",\"e\",\"p\",\"e\",\"e\",\"e\",\"e\",\"e\",\"e\",\"e\",\"e\",\"e\",\"e\",\"e\",\"e\",\"p\",\"e\",\"e\",\"p\",\"e\",\"e\",\"e\",\"e\",\"e\",\"e\",\"e\",\"e\",\"e\",\"e\",\"e\",\"e\",\"e\",\"e\",\"e\",\"e\",\"e\",\"e\",\"e\",\"e\",\"e\",\"e\",\"e\",\"e\",\"e\",\"e\",\"e\",\"e\",\"e\",\"e\",\"e\",\"e\",\"e\",\"e\",\"e\",\"e\",\"e\",\"e\",\"e\",\"e\",\"e\",\"p\",\"e\",\"e\",\"e\",\"e\",\"p\",\"e\",\"e\",\"e\",\"e\",\"e\",\"e\",\"e\",\"e\",\"e\",\"e\",\"e\",\"e\",\"e\",\"e\",\"e\",\"e\",\"e\",\"e\",\"e\",\"p\",\"e\",\"e\",\"e\",\"e\",\"e\",\"e\",\"e\",\"e\",\"e\",\"e\",\"e\",\"e\",\"e\",\"e\",\"e\",\"p\",\"e\",\"e\",\"e\",\"e\",\"e\",\"e\",\"p\",\"e\",\"e\",\"p\",\"e\",\"e\",\"e\",\"e\",\"e\",\"e\",\"e\",\"e\",\"e\",\"e\",\"e\",\"p\",\"e\",\"e\",\"e\",\"e\",\"e\",\"e\",\"e\",\"p\",\"e\",\"e\",\"e\",\"e\",\"e\",\"e\",\"e\",\"e\",\"e\",\"p\",\"e\",\"e\",\"e\",\"e\",\"e\",\"e\",\"e\",\"p\",\"e\",\"p\",\"e\",\"e\",\"e\",\"e\",\"e\",\"e\",\"e\",\"e\",\"p\",\"e\",\"e\",\"e\",\"e\",\"e\",\"e\",\"e\",\"e\",\"e\",\"e\",\"e\",\"e\",\"e\",\"e\",\"e\",\"e\",\"e\",\"e\",\"p\",\"e\",\"e\",\"e\",\"e\",\"e\",\"e\",\"e\",\"e\",\"e\",\"e\",\"e\",\"p\",\"e\",\"e\",\"e\",\"p\",\"e\",\"e\",\"e\",\"e\",\"e\",\"e\",\"e\",\"e\",\"e\",\"e\",\"e\",\"p\",\"e\",\"e\",\"p\",\"e\",\"e\",\"e\",\"e\",\"e\",\"e\",\"e\",\"e\",\"e\",\"e\",\"e\",\"e\",\"e\",\"e\",\"e\",\"e\",\"e\",\"e\",\"e\",\"e\",\"e\",\"e\",\"e\",\"e\",\"e\",\"e\",\"p\",\"e\",\"e\",\"e\",\"e\",\"e\",\"e\",\"e\",\"e\",\"e\",\"e\",\"e\",\"e\",\"e\",\"e\",\"e\",\"e\",\"e\",\"e\",\"e\",\"e\",\"e\",\"e\",\"p\",\"e\",\"e\",\"e\",\"e\",\"p\",\"e\",\"e\",\"e\",\"e\",\"e\",\"e\",\"e\",\"e\",\"e\",\"e\",\"e\",\"e\",\"e\",\"p\",\"e\",\"e\",\"p\",\"e\",\"e\",\"e\",\"e\",\"e\",\"e\",\"e\",\"e\",\"e\",\"e\",\"e\",\"p\",\"e\",\"e\",\"p\",\"e\",\"e\",\"e\",\"e\",\"p\",\"e\",\"e\",\"e\",\"e\",\"e\",\"e\",\"e\",\"e\",\"e\",\"e\",\"e\",\"e\",\"e\",\"e\",\"e\",\"e\",\"e\",\"e\",\"e\",\"e\",\"e\",\"e\",\"e\",\"e\",\"e\",\"e\",\"e\",\"e\",\"e\",\"e\",\"e\",\"e\",\"e\",\"e\",\"e\",\"e\",\"e\",\"e\",\"e\",\"e\",\"e\",\"e\",\"e\",\"e\",\"e\",\"e\",\"e\",\"e\",\"e\",\"e\",\"e\",\"e\",\"e\",\"e\",\"e\",\"e\",\"e\",\"e\",\"e\",\"e\",\"e\",\"e\",\"e\",\"e\",\"e\",\"e\",\"e\",\"e\",\"p\",\"p\",\"e\",\"e\",\"e\",\"e\",\"e\",\"e\",\"e\",\"e\",\"e\",\"e\",\"e\",\"e\",\"p\",\"e\",\"e\",\"e\",\"e\",\"e\",\"e\",\"e\",\"e\",\"e\",\"e\",\"e\",\"e\",\"e\",\"e\",\"e\",\"e\",\"e\",\"p\",\"e\",\"e\",\"e\",\"e\",\"e\",\"e\",\"e\",\"e\",\"p\",\"e\",\"p\",\"e\",\"e\",\"e\",\"e\",\"e\",\"e\",\"e\",\"p\",\"e\",\"e\",\"e\",\"e\",\"e\",\"e\",\"e\",\"e\",\"e\",\"e\",\"e\",\"e\",\"e\",\"p\",\"e\",\"e\",\"e\",\"e\",\"e\",\"e\",\"e\",\"e\",\"p\",\"e\",\"e\",\"p\",\"e\",\"e\",\"e\",\"e\",\"e\",\"e\",\"e\",\"e\",\"e\",\"e\",\"p\",\"e\",\"e\",\"e\",\"e\",\"e\",\"e\",\"e\",\"e\",\"e\",\"e\",\"p\",\"e\",\"e\",\"p\",\"e\",\"p\",\"e\",\"e\",\"p\",\"p\",\"e\",\"e\",\"e\",\"e\",\"e\",\"e\",\"e\",\"e\",\"e\",\"e\",\"e\",\"e\",\"e\",\"p\",\"e\",\"e\",\"e\",\"e\",\"e\",\"e\",\"e\",\"e\",\"e\",\"e\",\"e\",\"e\",\"e\",\"e\",\"e\",\"e\",\"e\",\"e\",\"e\",\"e\",\"e\",\"e\",\"e\",\"e\",\"e\",\"e\",\"e\",\"e\",\"e\",\"e\",\"e\",\"e\",\"e\",\"e\",\"e\",\"e\",\"e\",\"e\",\"e\",\"p\",\"p\",\"e\",\"e\",\"e\",\"e\",\"e\",\"e\",\"e\",\"p\",\"p\",\"e\",\"e\",\"e\",\"e\",\"e\",\"e\",\"e\",\"e\",\"e\",\"e\",\"e\",\"e\",\"e\",\"e\",\"e\",\"e\",\"e\",\"e\",\"e\",\"e\",\"e\",\"e\",\"e\",\"e\",\"e\",\"e\",\"e\",\"e\",\"e\",\"e\",\"p\",\"e\",\"e\",\"p\",\"p\",\"e\",\"p\",\"e\",\"e\",\"e\",\"e\",\"e\",\"e\",\"e\",\"e\",\"e\",\"e\",\"e\",\"e\",\"e\",\"e\",\"e\",\"e\",\"e\",\"e\",\"e\",\"e\",\"e\",\"e\",\"e\",\"e\",\"p\",\"e\",\"e\",\"e\",\"e\",\"e\",\"e\",\"p\",\"p\",\"e\",\"e\",\"e\",\"p\",\"e\",\"e\",\"e\",\"e\",\"e\",\"e\",\"e\",\"e\",\"e\",\"e\",\"p\",\"e\",\"e\",\"e\",\"e\",\"e\",\"e\",\"e\",\"e\",\"e\",\"e\",\"e\",\"e\",\"e\",\"e\",\"e\",\"e\",\"e\",\"e\",\"e\",\"e\",\"e\",\"e\",\"e\",\"e\",\"e\",\"e\",\"e\",\"p\",\"e\",\"e\",\"e\",\"e\",\"e\",\"e\",\"e\",\"e\",\"p\",\"e\",\"e\",\"p\",\"e\",\"e\",\"e\",\"e\",\"e\",\"p\",\"p\",\"e\",\"e\",\"p\",\"e\",\"e\",\"e\",\"p\",\"e\",\"e\",\"e\",\"e\",\"e\",\"e\",\"e\",\"e\",\"e\",\"p\",\"p\",\"p\",\"e\",\"e\",\"e\",\"e\",\"e\",\"e\",\"e\",\"e\",\"e\",\"e\",\"e\",\"e\",\"e\",\"e\",\"e\",\"e\",\"e\",\"e\",\"e\",\"e\",\"p\",\"e\",\"p\",\"e\",\"e\",\"e\",\"p\",\"e\",\"e\",\"e\",\"e\",\"e\",\"e\",\"e\",\"e\",\"e\",\"e\",\"e\",\"e\",\"e\",\"e\",\"e\",\"e\",\"e\",\"p\",\"e\",\"e\",\"e\",\"e\",\"e\",\"e\",\"e\",\"e\",\"e\",\"e\",\"e\",\"e\",\"e\",\"e\",\"e\",\"e\",\"e\",\"e\",\"e\",\"e\",\"e\",\"e\",\"e\",\"e\",\"e\",\"e\",\"e\",\"e\",\"e\",\"e\",\"e\",\"e\",\"e\",\"e\",\"e\",\"e\",\"e\",\"e\",\"e\",\"e\",\"e\",\"e\",\"e\",\"e\",\"e\",\"e\",\"p\",\"e\",\"p\",\"p\",\"e\",\"e\",\"e\",\"e\",\"e\",\"e\",\"e\",\"e\",\"e\",\"e\",\"e\",\"e\",\"e\",\"e\",\"e\",\"e\",\"e\",\"p\",\"e\",\"e\",\"e\",\"e\",\"p\",\"e\",\"e\",\"e\",\"e\",\"e\",\"e\",\"e\",\"e\",\"e\",\"p\",\"e\",\"e\",\"e\",\"e\",\"e\",\"e\",\"p\",\"p\",\"e\",\"e\",\"e\",\"e\",\"e\",\"p\",\"e\",\"e\",\"e\",\"e\",\"e\",\"e\",\"e\",\"e\",\"e\",\"p\",\"e\",\"e\",\"e\",\"e\",\"e\",\"e\",\"e\",\"e\",\"e\",\"e\",\"e\",\"e\",\"e\",\"e\",\"e\",\"e\",\"e\",\"p\",\"e\",\"e\",\"e\",\"e\",\"e\",\"e\",\"e\",\"e\",\"e\",\"e\",\"e\",\"e\",\"e\",\"e\",\"p\",\"e\",\"e\",\"e\",\"p\",\"e\",\"e\",\"e\",\"e\",\"e\",\"e\",\"e\",\"e\",\"e\",\"e\",\"e\",\"e\",\"e\",\"e\",\"p\",\"e\",\"e\",\"e\",\"e\",\"e\",\"p\",\"p\",\"e\",\"e\",\"e\",\"e\",\"e\",\"p\",\"e\",\"e\",\"e\",\"e\",\"e\",\"e\",\"e\",\"p\",\"e\",\"e\",\"e\",\"e\",\"e\",\"e\",\"e\",\"p\",\"e\",\"e\",\"e\",\"e\",\"e\",\"e\",\"e\",\"e\",\"e\",\"e\",\"e\",\"e\",\"e\",\"e\",\"e\",\"e\",\"p\",\"e\",\"e\",\"e\",\"e\",\"e\",\"e\",\"p\",\"e\",\"e\",\"e\",\"e\",\"e\",\"p\",\"e\",\"e\",\"e\",\"p\",\"e\",\"e\",\"e\",\"e\",\"e\",\"e\",\"p\",\"e\",\"e\",\"e\",\"e\",\"e\",\"e\",\"p\",\"e\",\"e\",\"e\",\"p\",\"e\",\"e\",\"e\",\"p\",\"e\",\"e\",\"p\",\"e\",\"e\",\"e\",\"e\",\"p\",\"e\",\"e\",\"e\",\"e\",\"e\",\"e\",\"e\",\"e\",\"e\",\"e\",\"e\",\"e\",\"e\",\"e\",\"e\",\"e\",\"e\",\"e\",\"p\",\"e\",\"p\",\"e\",\"e\",\"e\",\"e\",\"e\",\"e\",\"e\",\"e\",\"e\",\"e\",\"e\",\"e\",\"e\",\"e\",\"e\",\"e\",\"e\",\"e\",\"e\",\"p\",\"e\",\"p\",\"e\",\"e\",\"e\",\"e\",\"e\",\"e\",\"e\",\"e\",\"e\",\"e\",\"e\",\"p\",\"e\",\"e\",\"e\",\"e\",\"e\",\"e\",\"e\",\"e\",\"e\",\"e\",\"e\",\"e\",\"e\",\"e\",\"e\",\"e\",\"e\",\"e\",\"e\",\"e\",\"p\",\"e\",\"e\",\"e\",\"e\",\"e\",\"e\",\"e\",\"p\",\"e\",\"e\",\"e\",\"e\",\"e\",\"e\",\"e\",\"e\",\"p\",\"e\",\"e\",\"p\",\"e\",\"e\",\"e\",\"e\",\"e\",\"e\",\"e\",\"p\",\"e\",\"e\",\"e\",\"e\",\"e\",\"e\",\"e\",\"e\",\"e\",\"e\",\"e\",\"e\",\"p\",\"e\",\"e\",\"p\",\"e\",\"e\",\"e\",\"e\",\"e\",\"e\",\"e\",\"e\",\"p\",\"e\",\"p\",\"p\",\"e\",\"e\",\"e\",\"e\",\"e\",\"e\",\"e\",\"e\",\"e\",\"p\",\"p\",\"e\",\"p\",\"e\",\"e\",\"p\",\"p\",\"p\",\"p\",\"e\",\"e\",\"e\",\"e\",\"p\",\"e\",\"e\",\"e\",\"e\",\"p\",\"e\",\"e\",\"p\",\"e\",\"e\",\"e\",\"e\",\"e\",\"e\",\"e\",\"e\",\"e\",\"e\",\"p\",\"e\",\"e\",\"e\",\"e\",\"e\",\"e\",\"p\",\"p\",\"e\",\"e\",\"e\",\"e\",\"e\",\"e\",\"e\",\"e\",\"e\",\"e\",\"e\",\"e\",\"e\",\"e\",\"e\",\"e\",\"e\",\"p\",\"e\",\"e\",\"e\",\"e\",\"e\",\"e\",\"e\",\"e\",\"p\",\"e\",\"p\",\"e\",\"e\",\"e\",\"e\",\"e\",\"e\",\"e\",\"e\",\"p\",\"e\",\"e\",\"e\",\"e\",\"e\",\"e\",\"e\",\"e\",\"e\",\"p\",\"e\",\"e\",\"e\",\"p\",\"e\",\"e\",\"e\",\"e\",\"e\",\"e\",\"e\",\"e\",\"e\",\"e\",\"e\",\"e\",\"e\",\"e\",\"p\",\"e\",\"e\",\"e\",\"e\",\"e\",\"e\",\"e\",\"e\",\"e\",\"e\",\"e\",\"e\",\"p\",\"p\",\"e\",\"e\",\"p\",\"e\",\"p\",\"e\",\"p\",\"e\",\"e\",\"e\",\"e\",\"e\",\"e\",\"e\",\"e\",\"e\",\"e\",\"e\",\"e\",\"e\",\"e\",\"e\",\"e\",\"p\",\"e\",\"e\",\"e\",\"e\",\"e\",\"p\",\"e\",\"e\",\"e\",\"e\",\"e\",\"e\",\"e\",\"e\",\"e\",\"e\",\"e\",\"e\",\"e\",\"e\",\"p\",\"e\",\"e\",\"e\",\"e\",\"e\",\"e\",\"e\",\"e\",\"p\",\"e\",\"e\",\"p\",\"p\",\"p\",\"e\",\"e\",\"p\",\"e\",\"e\",\"e\",\"e\",\"e\",\"e\",\"p\",\"p\",\"e\",\"e\",\"e\",\"e\",\"e\",\"p\",\"e\",\"p\",\"e\",\"e\",\"e\",\"e\",\"e\",\"p\",\"e\",\"e\",\"e\",\"e\",\"e\",\"e\",\"e\",\"e\",\"e\",\"e\",\"e\",\"e\",\"p\",\"e\",\"e\",\"e\",\"e\",\"e\",\"p\",\"e\",\"e\",\"e\",\"e\",\"e\",\"e\",\"p\",\"e\",\"e\",\"e\",\"p\",\"e\",\"p\",\"e\",\"e\",\"e\",\"e\",\"e\",\"e\",\"e\",\"e\",\"e\",\"e\",\"e\",\"e\",\"e\",\"e\",\"p\",\"e\",\"e\",\"e\",\"e\",\"e\",\"e\",\"e\",\"e\",\"e\",\"e\",\"e\",\"e\",\"e\",\"e\",\"e\",\"e\",\"e\",\"e\",\"e\",\"e\",\"e\",\"e\",\"e\",\"p\",\"e\",\"p\",\"e\",\"e\",\"p\",\"e\",\"p\",\"e\",\"e\",\"p\",\"e\",\"e\",\"e\",\"e\",\"e\",\"p\",\"e\",\"e\",\"e\",\"e\",\"e\",\"e\",\"e\",\"e\",\"p\",\"e\",\"e\",\"e\",\"e\",\"e\",\"e\",\"e\",\"e\",\"e\",\"e\",\"p\",\"e\",\"p\",\"e\",\"e\",\"e\",\"e\",\"e\",\"e\",\"e\",\"e\",\"p\",\"e\",\"p\",\"e\",\"e\",\"e\",\"p\",\"e\",\"p\",\"e\",\"e\",\"e\",\"e\",\"e\",\"e\",\"e\",\"e\",\"e\",\"e\",\"e\",\"e\",\"e\",\"e\",\"e\",\"e\",\"e\",\"e\",\"e\",\"e\",\"e\",\"e\",\"e\",\"e\",\"e\",\"e\",\"e\",\"p\",\"p\",\"e\",\"e\",\"e\",\"e\",\"e\",\"e\",\"e\",\"e\",\"e\",\"e\",\"p\",\"e\",\"e\",\"p\",\"p\",\"p\",\"e\",\"e\",\"e\",\"e\",\"e\",\"p\",\"p\",\"e\",\"e\",\"e\",\"e\",\"e\",\"e\",\"e\",\"e\",\"e\",\"e\",\"e\",\"e\",\"e\",\"e\",\"e\",\"e\",\"e\",\"e\",\"e\",\"e\",\"e\",\"e\",\"e\",\"e\",\"e\",\"e\",\"e\",\"p\",\"e\",\"p\",\"e\",\"p\",\"e\",\"e\",\"e\",\"e\",\"e\",\"e\",\"e\",\"e\",\"e\",\"e\",\"e\",\"e\",\"e\",\"p\",\"e\",\"e\",\"e\",\"e\",\"e\",\"e\",\"e\",\"e\",\"e\",\"e\",\"e\",\"e\",\"e\",\"e\",\"e\",\"e\",\"e\",\"e\",\"e\",\"p\",\"e\",\"e\",\"e\",\"p\",\"e\",\"e\",\"e\",\"e\",\"e\",\"e\",\"e\",\"e\",\"e\",\"e\",\"e\",\"e\",\"e\",\"e\",\"e\",\"e\",\"e\",\"p\",\"e\",\"e\",\"e\",\"e\",\"e\",\"p\",\"e\",\"e\",\"p\",\"e\",\"e\",\"e\",\"e\",\"p\",\"e\",\"e\",\"e\",\"e\",\"e\",\"p\",\"e\",\"e\",\"p\",\"e\",\"e\",\"e\",\"e\",\"e\",\"p\",\"e\",\"e\",\"e\",\"e\",\"e\",\"e\",\"e\",\"e\",\"e\",\"e\",\"p\",\"e\",\"e\",\"e\",\"e\",\"e\",\"e\",\"e\",\"e\",\"e\",\"e\",\"e\",\"p\",\"p\",\"e\",\"e\",\"e\",\"e\",\"p\",\"e\",\"e\",\"p\",\"e\",\"e\",\"e\",\"p\",\"e\",\"e\",\"e\",\"e\",\"p\",\"e\",\"e\",\"p\",\"e\",\"e\",\"e\",\"e\",\"e\",\"e\",\"e\",\"e\",\"e\",\"e\",\"e\",\"p\",\"e\",\"p\",\"e\",\"e\",\"e\",\"p\",\"e\",\"e\",\"e\",\"e\",\"e\",\"p\",\"e\",\"e\",\"e\",\"e\",\"e\",\"e\",\"e\",\"e\",\"e\",\"e\",\"e\",\"e\",\"e\",\"e\",\"e\",\"e\",\"e\",\"e\",\"e\",\"e\",\"p\",\"e\",\"e\",\"e\",\"e\",\"e\",\"e\",\"e\",\"e\",\"e\",\"e\",\"e\",\"e\",\"e\",\"e\",\"p\",\"e\",\"e\",\"e\",\"e\",\"e\",\"e\",\"e\",\"e\",\"e\",\"e\",\"e\",\"e\",\"e\",\"e\",\"e\",\"e\",\"e\",\"e\",\"e\",\"e\",\"e\",\"e\",\"e\",\"e\",\"e\",\"e\",\"e\",\"e\",\"p\",\"e\",\"e\",\"e\",\"e\",\"e\",\"e\",\"e\",\"e\",\"e\",\"e\",\"e\",\"e\",\"e\",\"e\",\"e\",\"e\",\"e\",\"e\",\"e\",\"e\",\"e\",\"e\",\"e\",\"e\",\"e\",\"e\",\"e\",\"e\",\"p\",\"e\",\"e\",\"e\",\"e\",\"e\",\"e\",\"e\",\"e\",\"e\",\"e\",\"e\",\"e\",\"e\",\"p\",\"e\",\"e\",\"e\",\"e\",\"e\",\"e\",\"e\",\"e\",\"e\",\"e\",\"e\",\"e\",\"e\",\"e\",\"p\",\"e\",\"e\",\"e\",\"e\",\"e\",\"e\",\"e\",\"e\",\"e\",\"p\",\"e\",\"e\",\"e\",\"p\",\"e\",\"e\",\"e\",\"e\",\"e\",\"e\",\"e\",\"e\",\"e\",\"e\",\"e\",\"e\",\"p\",\"e\",\"e\",\"p\",\"e\",\"e\",\"e\",\"e\",\"e\",\"e\",\"e\",\"e\",\"e\",\"e\",\"e\",\"p\",\"e\",\"p\",\"p\",\"e\",\"e\",\"e\",\"e\",\"e\",\"e\",\"e\",\"e\",\"e\",\"e\",\"e\",\"e\",\"e\",\"p\",\"e\",\"p\",\"e\",\"e\",\"p\",\"e\",\"e\",\"e\",\"e\",\"e\",\"e\",\"e\",\"e\",\"e\",\"e\",\"e\",\"e\",\"e\",\"e\",\"e\",\"e\",\"e\",\"e\",\"e\",\"e\",\"e\",\"e\",\"e\",\"e\",\"e\",\"e\",\"e\",\"e\",\"e\",\"e\",\"e\",\"e\",\"e\",\"e\",\"e\",\"e\",\"e\",\"e\",\"e\",\"e\",\"e\",\"e\",\"e\",\"e\",\"e\",\"e\",\"e\",\"e\",\"e\",\"e\",\"e\",\"p\",\"e\",\"e\",\"e\",\"e\",\"e\",\"p\",\"e\",\"e\",\"e\",\"e\",\"e\",\"e\",\"p\",\"e\",\"e\",\"e\",\"e\",\"e\",\"e\",\"e\",\"e\",\"e\",\"e\",\"e\",\"e\",\"e\",\"e\",\"p\",\"e\",\"e\",\"e\",\"e\",\"e\",\"e\",\"e\",\"e\",\"p\",\"e\",\"e\",\"e\",\"e\",\"e\",\"e\",\"e\",\"e\",\"e\",\"e\",\"e\",\"e\",\"e\",\"p\",\"e\",\"e\",\"e\",\"e\",\"e\",\"e\",\"e\",\"e\",\"e\",\"e\",\"e\",\"e\",\"e\",\"e\",\"e\",\"p\",\"p\",\"e\",\"e\",\"e\",\"e\",\"e\",\"e\",\"e\",\"e\",\"e\",\"e\",\"e\",\"e\",\"e\",\"e\",\"e\",\"e\",\"e\",\"p\",\"e\",\"p\",\"e\",\"e\",\"e\",\"e\",\"e\",\"e\",\"e\",\"e\",\"e\",\"e\",\"e\",\"e\",\"e\",\"e\",\"e\",\"e\",\"e\",\"e\",\"e\",\"e\",\"e\",\"e\",\"e\",\"e\",\"e\",\"e\",\"e\",\"e\",\"p\",\"e\",\"e\",\"e\",\"e\",\"e\",\"e\",\"e\",\"e\",\"e\",\"e\",\"e\",\"e\",\"e\",\"e\",\"e\",\"e\",\"e\",\"e\",\"e\",\"e\",\"e\",\"e\",\"e\",\"e\",\"e\",\"e\",\"e\",\"e\",\"e\",\"e\",\"e\",\"p\",\"e\",\"e\",\"e\",\"e\",\"e\",\"e\",\"e\",\"e\",\"e\",\"e\",\"e\",\"e\",\"e\",\"e\",\"e\",\"e\",\"e\",\"e\",\"e\",\"e\",\"e\",\"e\",\"e\",\"e\",\"e\",\"e\",\"e\",\"p\",\"e\",\"e\",\"p\",\"e\",\"e\",\"e\",\"e\",\"e\",\"e\",\"e\",\"e\",\"e\",\"e\",\"e\",\"e\",\"e\",\"e\",\"e\",\"e\",\"e\",\"e\",\"e\",\"e\",\"e\",\"e\",\"e\",\"e\",\"e\",\"e\",\"e\",\"e\",\"e\",\"e\",\"e\",\"e\",\"e\",\"e\",\"e\",\"e\",\"e\",\"e\",\"e\",\"e\",\"e\",\"e\",\"e\",\"p\",\"e\",\"e\",\"p\",\"e\",\"e\",\"e\",\"e\",\"e\",\"e\",\"e\",\"e\",\"e\",\"e\",\"e\",\"e\",\"e\",\"e\",\"e\",\"e\",\"e\",\"e\",\"e\",\"e\",\"e\",\"e\",\"e\",\"e\",\"e\",\"e\",\"e\",\"e\",\"e\",\"e\",\"e\",\"e\",\"e\",\"e\",\"e\",\"e\",\"e\",\"e\",\"e\",\"e\",\"e\",\"e\",\"e\",\"e\",\"e\",\"e\",\"e\",\"e\",\"e\",\"e\",\"e\",\"e\",\"e\",\"e\",\"e\",\"e\",\"e\",\"e\",\"e\",\"e\",\"e\",\"e\",\"p\",\"e\",\"e\",\"e\",\"e\",\"e\",\"e\",\"e\",\"e\",\"e\",\"e\",\"e\",\"e\",\"e\",\"e\",\"e\",\"e\",\"e\",\"e\",\"e\",\"e\",\"e\",\"e\",\"e\",\"p\",\"e\",\"e\",\"e\",\"e\",\"e\",\"e\",\"e\",\"e\",\"e\",\"p\",\"e\",\"e\",\"p\",\"e\",\"e\",\"e\",\"e\",\"e\",\"e\",\"e\",\"e\",\"e\",\"e\",\"e\",\"p\",\"e\",\"e\",\"e\",\"e\",\"e\",\"e\",\"e\",\"e\",\"e\",\"e\",\"e\",\"e\",\"e\",\"e\",\"e\",\"e\",\"e\",\"e\",\"e\",\"e\",\"e\",\"e\",\"e\",\"e\",\"e\",\"p\",\"e\",\"e\",\"e\",\"e\",\"e\",\"e\",\"e\",\"e\",\"e\",\"e\",\"e\",\"e\",\"e\",\"e\",\"e\",\"e\",\"p\",\"e\",\"e\",\"e\",\"e\",\"e\",\"e\",\"e\",\"e\",\"e\",\"e\",\"e\",\"e\",\"e\",\"e\",\"e\",\"e\",\"e\",\"e\",\"e\",\"e\",\"e\",\"e\",\"e\",\"e\",\"e\",\"e\",\"e\",\"e\",\"e\",\"e\",\"e\",\"e\",\"e\",\"e\",\"p\",\"e\",\"e\",\"e\",\"p\",\"e\",\"e\",\"e\",\"e\",\"e\",\"e\",\"e\",\"e\",\"e\",\"e\",\"e\",\"e\",\"p\",\"e\",\"e\",\"e\",\"e\",\"e\",\"e\",\"e\",\"e\",\"e\",\"e\",\"e\",\"e\",\"e\",\"e\",\"e\",\"e\",\"p\",\"e\",\"e\",\"e\",\"e\",\"e\",\"e\",\"e\",\"e\",\"e\",\"e\",\"e\",\"e\",\"e\",\"e\",\"e\",\"e\",\"e\",\"e\",\"e\",\"e\",\"p\",\"e\",\"e\",\"p\",\"e\",\"e\",\"p\",\"p\",\"e\",\"e\",\"e\",\"e\",\"e\",\"e\",\"e\",\"e\",\"e\",\"e\",\"e\",\"e\",\"e\",\"e\",\"e\",\"e\",\"e\",\"e\",\"e\",\"p\",\"e\",\"e\",\"e\",\"e\",\"e\",\"p\",\"e\",\"e\",\"e\",\"e\",\"p\",\"e\",\"e\",\"e\",\"e\",\"e\",\"e\",\"e\",\"e\",\"e\",\"e\",\"e\",\"e\",\"e\",\"e\",\"e\",\"e\",\"e\",\"e\",\"e\",\"e\",\"e\",\"e\",\"p\",\"e\",\"e\",\"e\",\"e\",\"e\",\"e\",\"e\",\"e\",\"e\",\"e\",\"p\",\"e\",\"e\",\"e\",\"e\",\"e\",\"e\",\"e\",\"e\",\"e\",\"e\",\"e\",\"e\",\"e\",\"e\",\"e\",\"e\",\"e\",\"e\",\"e\",\"e\",\"e\",\"p\",\"e\",\"e\",\"e\",\"e\",\"e\",\"e\",\"e\",\"e\",\"e\",\"e\",\"e\",\"e\",\"e\",\"e\",\"e\",\"e\",\"e\",\"e\",\"e\",\"e\",\"e\",\"e\",\"e\",\"e\",\"e\",\"e\",\"e\",\"e\",\"e\",\"e\",\"e\",\"e\",\"e\",\"e\",\"e\",\"e\",\"e\",\"e\",\"e\",\"e\",\"e\",\"e\",\"e\",\"e\",\"e\",\"e\",\"e\",\"e\",\"e\",\"e\",\"e\",\"e\",\"e\",\"e\",\"e\",\"p\",\"e\",\"e\",\"e\",\"e\",\"e\",\"e\",\"e\",\"e\",\"e\",\"e\",\"e\",\"e\",\"e\",\"p\",\"e\",\"e\",\"e\",\"e\",\"e\",\"e\",\"e\",\"e\",\"e\",\"e\",\"e\",\"e\",\"e\",\"e\",\"e\",\"e\",\"e\",\"e\",\"e\",\"e\",\"e\",\"e\",\"e\",\"e\",\"e\",\"e\",\"e\",\"e\",\"e\",\"e\",\"e\",\"e\",\"e\",\"e\",\"e\",\"e\",\"e\",\"e\",\"e\",\"e\",\"e\",\"e\",\"e\",\"e\",\"e\",\"e\",\"e\",\"e\",\"e\",\"e\",\"e\",\"p\",\"e\",\"e\",\"e\",\"e\",\"e\",\"e\",\"e\",\"e\",\"e\",\"e\",\"e\",\"e\",\"e\",\"e\",\"e\",\"e\",\"p\",\"e\",\"e\",\"e\",\"p\",\"e\",\"e\",\"e\",\"e\",\"e\",\"e\",\"e\",\"e\",\"e\",\"e\",\"e\",\"e\",\"e\",\"e\",\"e\",\"e\",\"e\",\"e\",\"e\",\"e\",\"e\",\"e\",\"e\",\"e\",\"e\",\"e\",\"p\",\"e\",\"e\",\"e\",\"e\",\"e\",\"e\",\"e\",\"e\",\"e\",\"e\",\"e\",\"e\",\"e\",\"e\",\"e\",\"e\",\"e\",\"e\",\"e\",\"e\",\"e\",\"e\",\"e\",\"e\",\"e\",\"e\",\"e\",\"e\",\"e\",\"e\",\"e\",\"e\",\"e\",\"e\",\"e\",\"e\",\"e\",\"e\",\"e\",\"e\",\"e\",\"e\",\"e\",\"p\",\"e\",\"e\",\"e\",\"e\",\"e\",\"e\",\"e\",\"e\",\"e\",\"e\",\"e\",\"e\",\"e\",\"e\",\"e\",\"e\",\"e\",\"e\",\"p\",\"e\",\"e\",\"e\",\"e\",\"e\",\"e\",\"e\",\"e\",\"e\",\"e\",\"e\",\"e\",\"e\",\"e\",\"e\",\"e\",\"e\",\"e\",\"e\",\"e\",\"e\",\"e\",\"e\",\"e\",\"e\",\"e\",\"p\",\"e\",\"e\",\"e\",\"e\",\"p\",\"e\",\"e\",\"e\",\"e\",\"e\",\"e\",\"e\",\"e\",\"e\",\"e\",\"p\",\"e\",\"e\",\"e\",\"e\",\"e\",\"e\",\"e\",\"e\",\"e\",\"e\",\"e\",\"e\",\"e\",\"e\",\"e\",\"e\",\"e\",\"e\",\"e\",\"e\",\"e\",\"e\",\"p\",\"e\",\"e\",\"e\",\"e\",\"e\",\"e\",\"e\",\"e\",\"e\",\"e\",\"p\",\"e\",\"e\",\"e\",\"e\",\"e\",\"e\",\"e\",\"e\",\"e\",\"e\",\"e\",\"e\",\"e\",\"e\",\"e\",\"e\",\"e\",\"e\",\"e\",\"e\",\"e\",\"e\",\"e\",\"e\",\"e\",\"e\",\"e\",\"e\",\"e\",\"e\",\"e\",\"e\",\"e\",\"e\",\"e\",\"e\",\"e\",\"e\",\"e\",\"e\",\"e\",\"e\",\"e\",\"e\",\"e\",\"e\",\"e\",\"e\",\"e\",\"e\",\"e\",\"e\",\"p\",\"e\",\"e\",\"e\",\"e\",\"e\",\"e\",\"e\",\"e\",\"e\",\"e\",\"p\",\"e\",\"p\",\"p\",\"e\",\"e\",\"e\",\"e\",\"p\",\"e\",\"e\",\"e\",\"p\",\"e\",\"e\",\"p\",\"p\",\"e\",\"e\",\"e\",\"e\",\"e\",\"e\",\"e\",\"e\",\"p\",\"p\",\"e\",\"e\",\"e\",\"e\",\"e\",\"e\",\"p\",\"e\",\"e\",\"p\",\"e\",\"e\",\"p\",\"p\",\"e\",\"e\",\"e\",\"e\",\"e\",\"p\",\"e\",\"e\",\"e\",\"e\",\"p\",\"e\",\"e\",\"e\",\"e\",\"p\",\"p\",\"e\",\"p\",\"p\",\"p\",\"e\",\"p\",\"e\",\"e\",\"e\",\"p\",\"p\",\"e\",\"e\",\"e\",\"p\",\"e\",\"p\",\"e\",\"e\",\"p\",\"e\",\"e\",\"e\",\"p\",\"e\",\"e\",\"p\",\"e\",\"p\",\"e\",\"p\",\"p\",\"p\",\"e\",\"p\",\"e\",\"p\",\"e\",\"p\",\"e\",\"e\",\"e\",\"e\",\"p\",\"p\",\"p\",\"e\",\"e\",\"e\",\"e\",\"p\",\"p\",\"e\",\"e\",\"e\",\"e\",\"e\",\"e\",\"e\",\"p\",\"p\",\"e\",\"e\",\"p\",\"e\",\"p\",\"e\",\"e\",\"e\",\"e\",\"e\",\"e\",\"e\",\"e\",\"e\",\"e\",\"e\",\"e\",\"e\",\"p\",\"e\",\"e\",\"p\",\"e\",\"e\",\"e\",\"e\",\"e\",\"p\",\"p\",\"e\",\"e\",\"e\",\"p\",\"e\",\"e\",\"e\",\"p\",\"e\",\"e\",\"p\",\"e\",\"p\",\"p\",\"e\",\"p\",\"p\",\"p\",\"e\",\"p\",\"p\",\"e\",\"e\",\"e\",\"p\",\"p\",\"e\",\"e\",\"e\",\"e\",\"p\",\"e\",\"p\",\"p\",\"e\",\"e\",\"e\",\"e\",\"p\",\"p\",\"e\",\"p\",\"p\",\"e\",\"p\",\"e\",\"e\",\"e\",\"e\",\"e\",\"p\",\"e\",\"p\",\"e\",\"e\",\"e\",\"p\",\"e\",\"e\",\"p\",\"p\",\"e\",\"p\",\"e\",\"e\",\"e\",\"e\",\"e\",\"e\",\"p\",\"e\",\"e\",\"e\",\"e\",\"e\",\"e\",\"e\",\"p\",\"p\",\"e\",\"e\",\"e\",\"p\",\"p\",\"p\",\"e\",\"p\",\"e\",\"e\",\"e\",\"p\",\"e\",\"e\",\"p\",\"p\",\"e\",\"p\",\"p\",\"e\",\"p\",\"e\",\"e\",\"e\",\"e\",\"p\",\"e\",\"e\",\"e\",\"e\",\"p\",\"p\",\"e\",\"e\",\"p\",\"e\",\"p\",\"p\",\"e\",\"e\",\"p\",\"p\",\"p\",\"e\",\"e\",\"e\",\"p\",\"e\",\"p\",\"p\",\"e\",\"e\",\"p\",\"p\",\"p\",\"e\",\"p\",\"e\",\"e\",\"e\",\"e\",\"e\",\"e\",\"e\",\"p\",\"e\",\"e\",\"p\",\"e\",\"e\",\"p\",\"e\",\"p\",\"e\",\"e\",\"e\",\"p\",\"e\",\"p\",\"e\",\"e\",\"e\",\"e\",\"e\",\"e\",\"p\",\"e\",\"e\",\"e\",\"e\",\"e\",\"e\",\"e\",\"e\",\"p\",\"p\",\"e\",\"e\",\"p\",\"p\",\"p\",\"e\",\"e\",\"p\",\"e\",\"e\",\"p\",\"e\",\"e\",\"p\",\"e\",\"p\",\"e\",\"p\",\"e\",\"e\",\"e\",\"e\",\"p\",\"e\",\"e\",\"p\",\"e\",\"p\",\"p\",\"e\",\"e\",\"e\",\"e\",\"p\",\"p\",\"p\",\"e\",\"e\",\"p\",\"p\",\"e\",\"p\",\"p\",\"e\",\"e\",\"e\",\"e\",\"p\",\"p\",\"e\",\"e\",\"e\",\"e\",\"e\",\"e\",\"p\",\"e\",\"p\",\"e\",\"e\",\"e\",\"e\",\"e\",\"e\",\"p\",\"p\",\"p\",\"e\",\"e\",\"p\",\"e\",\"p\",\"e\",\"p\",\"e\",\"p\",\"p\",\"e\",\"p\",\"p\",\"e\",\"p\",\"e\",\"e\",\"e\",\"e\",\"e\",\"p\",\"e\",\"e\",\"e\",\"e\",\"e\",\"p\",\"p\",\"e\",\"e\",\"p\",\"e\",\"e\",\"e\",\"p\",\"p\",\"e\",\"e\",\"e\",\"e\",\"e\",\"p\",\"e\",\"e\",\"p\",\"e\",\"p\",\"e\",\"p\",\"e\",\"p\",\"e\",\"p\",\"p\",\"e\",\"p\",\"p\",\"e\",\"e\",\"e\",\"p\",\"p\",\"p\",\"p\",\"e\",\"e\",\"p\",\"e\",\"e\",\"e\",\"e\",\"e\",\"p\",\"e\",\"p\",\"e\",\"e\",\"p\",\"p\",\"e\",\"e\",\"e\",\"p\",\"e\",\"e\",\"e\",\"p\",\"e\",\"p\",\"e\",\"e\",\"e\",\"p\",\"p\",\"e\",\"e\",\"e\",\"p\",\"e\",\"p\",\"e\",\"p\",\"e\",\"e\",\"e\",\"p\",\"e\",\"e\",\"e\",\"p\",\"e\",\"e\",\"e\",\"e\",\"e\",\"p\",\"e\",\"p\",\"e\",\"e\",\"p\",\"e\",\"p\",\"e\",\"p\",\"e\",\"e\",\"e\",\"e\",\"e\",\"p\",\"p\",\"e\",\"e\",\"p\",\"e\",\"e\",\"e\",\"e\",\"e\",\"p\",\"e\",\"p\",\"e\",\"e\",\"p\",\"e\",\"e\",\"p\",\"e\",\"e\",\"e\",\"p\",\"p\",\"e\",\"e\",\"p\",\"e\",\"e\",\"e\",\"e\",\"e\",\"e\",\"p\",\"e\",\"p\",\"p\",\"e\",\"p\",\"p\",\"e\",\"e\",\"e\",\"e\",\"p\",\"e\",\"p\",\"e\",\"e\",\"p\",\"e\",\"p\",\"e\",\"e\",\"e\",\"e\",\"e\",\"e\",\"e\",\"e\",\"p\",\"e\",\"p\",\"e\",\"e\",\"e\",\"e\",\"e\",\"e\",\"p\",\"e\",\"e\",\"e\",\"p\",\"e\",\"e\",\"p\",\"e\",\"p\",\"e\",\"e\",\"e\",\"e\",\"p\",\"p\",\"p\",\"p\",\"p\",\"e\",\"p\",\"e\",\"e\",\"e\",\"p\",\"e\",\"p\",\"e\",\"e\",\"e\",\"e\",\"p\",\"p\",\"e\",\"e\",\"p\",\"e\",\"p\",\"e\",\"e\",\"p\",\"e\",\"p\",\"p\",\"e\",\"p\",\"e\",\"e\",\"e\",\"e\",\"e\",\"e\",\"e\",\"e\",\"p\",\"e\",\"e\",\"p\",\"p\",\"p\",\"e\",\"e\",\"p\",\"p\",\"p\",\"e\",\"p\",\"e\",\"p\",\"e\",\"e\",\"p\",\"e\",\"p\",\"e\",\"e\",\"e\",\"p\",\"e\",\"e\",\"p\",\"e\",\"e\",\"e\",\"e\",\"p\",\"e\",\"e\",\"e\",\"p\",\"e\",\"e\",\"e\",\"p\",\"p\",\"e\",\"p\",\"p\",\"e\",\"e\",\"e\",\"e\",\"p\",\"e\",\"p\",\"e\",\"e\",\"p\",\"e\",\"p\",\"e\",\"p\",\"e\",\"p\",\"p\",\"e\",\"e\",\"p\",\"p\",\"e\",\"p\",\"e\",\"e\",\"p\",\"e\",\"e\",\"e\",\"e\",\"p\",\"e\",\"e\",\"e\",\"e\",\"e\",\"p\",\"p\",\"p\",\"e\",\"e\",\"e\",\"e\",\"e\",\"e\",\"e\",\"p\",\"e\",\"e\",\"p\",\"p\",\"p\",\"e\",\"p\",\"p\",\"e\",\"e\",\"e\",\"p\",\"e\",\"e\",\"e\",\"p\",\"p\",\"e\",\"p\",\"p\",\"p\",\"e\",\"e\",\"p\",\"e\",\"e\",\"e\",\"e\",\"e\",\"e\",\"e\",\"e\",\"e\",\"e\",\"e\",\"e\",\"e\",\"e\",\"e\",\"e\",\"p\",\"e\",\"e\",\"e\",\"e\",\"e\",\"p\",\"e\",\"p\",\"e\",\"e\",\"e\",\"p\",\"e\",\"e\",\"p\",\"e\",\"p\",\"e\",\"p\",\"e\",\"p\",\"e\",\"e\",\"e\",\"e\",\"p\",\"e\",\"e\",\"p\",\"e\",\"p\",\"e\",\"p\",\"e\",\"p\",\"e\",\"e\",\"e\",\"p\",\"p\",\"e\",\"e\",\"e\",\"e\",\"e\",\"e\",\"p\",\"e\",\"e\",\"e\",\"p\",\"e\",\"e\",\"p\",\"e\",\"p\",\"e\",\"p\",\"p\",\"p\",\"e\",\"e\",\"e\",\"e\",\"p\",\"e\",\"e\",\"p\",\"e\",\"p\",\"e\",\"e\",\"e\",\"e\",\"e\",\"e\",\"p\",\"e\",\"p\",\"e\",\"e\",\"e\",\"p\",\"p\",\"e\",\"e\",\"e\",\"e\",\"p\",\"p\",\"e\",\"e\",\"p\",\"p\",\"e\",\"p\",\"p\",\"p\",\"p\",\"e\",\"p\",\"e\",\"p\",\"p\",\"e\",\"p\",\"p\",\"e\",\"e\",\"p\",\"e\",\"p\",\"e\",\"p\",\"p\",\"e\",\"p\",\"e\",\"p\",\"p\",\"e\",\"e\",\"p\",\"e\",\"p\",\"p\",\"p\",\"p\",\"p\",\"p\",\"p\",\"p\",\"p\",\"p\",\"e\",\"p\",\"p\",\"p\",\"e\",\"e\",\"e\",\"p\",\"p\",\"p\",\"e\",\"p\",\"e\",\"e\",\"e\",\"p\",\"p\",\"p\",\"e\",\"p\",\"p\",\"p\",\"p\",\"p\",\"p\",\"p\",\"p\",\"e\",\"e\",\"p\",\"p\",\"p\",\"e\",\"e\",\"p\",\"e\",\"p\",\"p\",\"e\",\"p\",\"p\",\"p\",\"p\",\"p\",\"p\",\"p\",\"p\",\"p\",\"e\",\"p\",\"p\",\"e\",\"p\",\"p\",\"p\",\"p\",\"p\",\"p\",\"p\",\"p\",\"p\",\"p\",\"e\",\"e\",\"p\",\"p\",\"p\",\"p\",\"p\",\"e\",\"p\",\"p\",\"p\",\"p\",\"e\",\"p\",\"p\",\"p\",\"p\",\"e\",\"p\",\"p\",\"p\",\"p\",\"p\",\"p\",\"p\",\"p\",\"e\",\"p\",\"e\",\"p\",\"e\",\"e\",\"p\",\"p\",\"e\",\"p\",\"e\",\"e\",\"e\",\"p\",\"e\",\"p\",\"p\",\"p\",\"p\",\"p\",\"e\",\"e\",\"p\",\"p\",\"p\",\"p\",\"p\",\"p\",\"p\",\"p\",\"p\",\"p\",\"p\",\"p\",\"p\",\"e\",\"p\",\"p\",\"p\",\"p\",\"p\",\"e\",\"p\",\"e\",\"p\",\"p\",\"p\",\"p\",\"p\",\"e\",\"p\",\"p\",\"p\",\"p\",\"p\",\"p\",\"e\",\"p\",\"p\",\"p\",\"p\",\"e\",\"p\",\"e\",\"e\",\"p\",\"p\",\"p\",\"p\",\"p\",\"e\",\"p\",\"p\",\"p\",\"p\",\"e\",\"e\",\"p\",\"e\",\"e\",\"p\",\"p\",\"p\",\"p\",\"p\",\"p\",\"p\",\"p\",\"p\",\"e\",\"p\",\"e\",\"p\",\"p\",\"e\",\"e\",\"p\",\"e\",\"e\",\"p\",\"p\",\"p\",\"p\",\"p\",\"p\",\"e\",\"p\",\"e\",\"p\",\"e\",\"p\",\"e\",\"p\",\"p\",\"p\",\"e\",\"p\",\"p\",\"p\",\"p\",\"p\",\"p\",\"p\",\"e\",\"p\",\"p\",\"e\",\"p\",\"p\",\"e\",\"p\",\"e\",\"p\",\"p\",\"p\",\"p\",\"e\",\"p\",\"p\",\"p\",\"e\",\"p\",\"p\",\"e\",\"e\",\"p\",\"p\",\"p\",\"p\",\"p\",\"p\",\"p\",\"e\",\"p\",\"p\",\"p\",\"e\",\"e\",\"e\",\"p\",\"p\",\"e\",\"p\",\"e\",\"p\",\"p\",\"p\",\"e\",\"p\",\"p\",\"p\",\"p\",\"p\",\"p\",\"p\",\"p\",\"p\",\"p\",\"e\",\"p\",\"p\",\"e\",\"p\",\"p\",\"p\",\"e\",\"p\",\"p\",\"e\",\"e\",\"p\",\"p\",\"p\",\"p\",\"p\",\"p\",\"p\",\"e\",\"p\",\"e\",\"p\",\"p\",\"p\",\"p\",\"p\",\"p\",\"p\",\"p\",\"p\",\"p\",\"p\",\"p\",\"p\",\"p\",\"p\",\"p\",\"p\",\"p\",\"p\",\"p\",\"p\",\"p\",\"p\",\"p\",\"p\",\"p\",\"e\",\"p\",\"p\",\"p\",\"p\",\"p\",\"p\",\"p\",\"p\",\"p\",\"p\",\"p\",\"p\",\"p\",\"p\",\"p\",\"p\",\"p\",\"p\",\"p\",\"p\",\"p\",\"p\",\"p\",\"p\",\"p\",\"p\",\"p\",\"p\",\"e\",\"p\",\"p\",\"p\",\"p\",\"p\",\"p\",\"p\",\"p\",\"p\",\"p\",\"p\",\"p\",\"p\",\"p\",\"p\",\"p\",\"p\",\"p\",\"p\",\"p\",\"p\",\"p\",\"e\",\"p\",\"p\",\"p\",\"p\",\"p\",\"p\",\"e\",\"p\",\"p\",\"p\",\"p\",\"p\",\"p\",\"p\",\"e\",\"p\",\"p\",\"p\",\"p\",\"p\",\"p\",\"p\",\"p\",\"p\",\"p\",\"p\",\"p\",\"p\",\"e\",\"p\",\"p\",\"p\",\"p\",\"p\",\"p\",\"p\",\"p\",\"p\",\"p\",\"p\",\"p\",\"p\",\"p\",\"p\",\"p\",\"p\",\"p\",\"p\",\"p\",\"e\",\"p\",\"p\",\"p\",\"p\",\"p\",\"p\",\"p\",\"p\",\"p\",\"p\",\"p\",\"p\",\"p\",\"p\",\"e\",\"p\",\"p\",\"p\",\"p\",\"p\",\"p\",\"p\",\"p\",\"p\",\"p\",\"p\",\"p\",\"p\",\"p\",\"p\",\"e\",\"p\",\"p\",\"p\",\"p\",\"p\",\"p\",\"p\",\"p\",\"p\",\"p\",\"p\",\"p\",\"p\",\"p\",\"p\",\"p\",\"p\",\"e\",\"p\",\"p\",\"p\",\"e\",\"e\",\"p\",\"p\",\"p\",\"p\",\"p\",\"p\",\"p\",\"p\",\"p\",\"p\",\"p\",\"p\",\"p\",\"p\",\"p\",\"e\",\"p\",\"p\",\"p\",\"p\",\"p\",\"p\",\"p\",\"p\",\"p\",\"p\",\"p\",\"p\",\"p\",\"e\",\"p\",\"p\",\"p\",\"p\",\"p\",\"p\",\"e\",\"p\",\"e\",\"p\",\"p\",\"p\",\"p\",\"e\",\"p\",\"p\",\"p\",\"p\",\"p\",\"p\",\"p\",\"p\",\"p\",\"p\",\"p\",\"p\",\"p\",\"p\",\"p\",\"p\",\"p\",\"p\",\"p\",\"e\",\"p\",\"p\",\"p\",\"p\",\"p\",\"p\",\"e\",\"p\",\"p\",\"p\",\"p\",\"p\",\"p\",\"p\",\"e\",\"p\",\"p\",\"p\",\"p\",\"p\",\"p\",\"p\",\"p\",\"p\",\"p\",\"p\",\"p\",\"p\",\"p\",\"p\",\"p\",\"p\",\"p\",\"p\",\"p\",\"e\",\"p\",\"p\",\"p\",\"p\",\"p\",\"p\",\"p\",\"p\",\"p\",\"p\",\"e\",\"p\",\"p\",\"p\",\"p\",\"p\",\"e\",\"p\",\"p\",\"p\",\"p\",\"p\",\"p\",\"p\",\"p\",\"p\",\"p\",\"p\",\"p\",\"p\",\"p\",\"p\",\"p\",\"p\",\"p\",\"p\",\"p\",\"p\",\"e\",\"p\",\"p\",\"p\",\"p\",\"p\",\"p\",\"p\",\"p\",\"p\",\"p\",\"p\",\"p\",\"p\",\"e\",\"e\",\"p\",\"p\",\"p\",\"p\",\"p\",\"p\",\"p\",\"p\",\"p\",\"p\",\"p\",\"p\",\"p\",\"p\",\"p\",\"p\",\"p\",\"p\",\"p\",\"p\",\"p\",\"e\",\"e\",\"p\",\"p\",\"p\",\"p\",\"p\",\"p\",\"p\",\"p\",\"p\",\"p\",\"p\",\"p\",\"e\",\"p\",\"p\",\"p\",\"p\",\"p\",\"p\",\"p\",\"p\",\"p\",\"p\",\"p\",\"p\",\"p\",\"p\",\"p\",\"p\",\"p\",\"p\",\"p\",\"p\",\"p\",\"p\",\"p\",\"p\",\"p\",\"p\",\"p\",\"p\",\"p\",\"p\",\"p\",\"p\",\"p\",\"p\",\"p\",\"p\",\"p\",\"p\",\"p\",\"p\",\"e\",\"p\",\"p\",\"p\",\"p\",\"p\",\"p\",\"p\",\"p\",\"p\",\"p\",\"p\",\"p\",\"p\",\"p\",\"p\",\"p\",\"p\",\"p\",\"e\",\"p\",\"p\",\"p\",\"e\",\"p\",\"p\",\"p\",\"p\",\"p\",\"p\",\"p\",\"p\",\"p\",\"p\",\"p\",\"p\",\"e\",\"p\",\"p\",\"p\",\"p\",\"e\",\"p\",\"p\",\"p\",\"p\",\"p\",\"p\",\"p\",\"p\",\"p\",\"e\",\"e\",\"p\",\"p\",\"p\",\"p\",\"p\",\"p\",\"p\",\"p\",\"p\",\"e\",\"p\",\"p\",\"p\",\"p\",\"p\",\"p\",\"p\",\"p\",\"p\",\"p\",\"p\",\"p\",\"p\",\"p\",\"p\",\"p\",\"p\",\"p\",\"p\",\"p\",\"p\",\"p\",\"e\",\"p\",\"p\",\"p\",\"p\",\"p\",\"p\",\"p\",\"p\",\"p\",\"p\",\"p\",\"p\",\"p\",\"p\",\"p\",\"p\",\"p\",\"p\",\"p\",\"p\",\"e\",\"p\",\"e\",\"p\",\"p\",\"p\",\"p\",\"p\",\"p\",\"p\",\"p\",\"p\",\"p\",\"p\",\"p\",\"e\",\"p\",\"e\",\"p\",\"p\",\"p\",\"p\",\"p\",\"p\",\"p\",\"p\",\"p\",\"p\",\"p\",\"p\",\"p\",\"p\",\"p\",\"p\",\"p\",\"p\",\"p\",\"p\",\"p\",\"p\",\"p\",\"p\",\"p\",\"p\",\"p\",\"p\",\"p\",\"p\",\"p\",\"p\",\"p\",\"p\",\"p\",\"p\",\"p\",\"p\",\"p\",\"p\",\"p\",\"p\",\"e\",\"p\",\"p\",\"p\",\"p\",\"p\",\"e\",\"p\",\"p\",\"p\",\"p\",\"e\",\"p\",\"p\",\"p\",\"p\",\"p\",\"p\",\"p\",\"p\",\"p\",\"p\",\"e\",\"p\",\"p\",\"p\",\"p\",\"p\",\"p\",\"e\",\"p\",\"p\",\"p\",\"p\",\"p\",\"e\",\"p\",\"p\",\"p\",\"p\",\"p\",\"p\",\"p\",\"p\",\"p\",\"p\",\"p\",\"e\",\"p\",\"p\",\"p\",\"p\",\"p\",\"p\",\"e\",\"p\",\"p\",\"e\",\"p\",\"p\",\"p\",\"p\",\"p\",\"p\",\"p\",\"e\",\"p\",\"e\",\"p\",\"e\",\"p\",\"p\",\"p\",\"p\",\"p\",\"p\",\"p\",\"p\",\"p\",\"p\",\"p\",\"e\",\"e\",\"e\",\"p\",\"e\",\"p\",\"p\",\"p\",\"p\",\"p\",\"p\",\"p\",\"p\",\"e\",\"e\",\"p\",\"p\",\"p\",\"e\",\"p\",\"p\",\"p\",\"p\",\"p\",\"p\",\"p\",\"p\",\"p\",\"p\",\"p\",\"e\",\"p\",\"p\",\"p\",\"p\",\"p\",\"p\",\"p\",\"p\",\"p\",\"e\",\"e\",\"p\",\"p\",\"p\",\"p\",\"p\",\"p\",\"p\",\"p\",\"p\",\"p\",\"p\",\"e\",\"p\",\"p\",\"p\",\"p\",\"p\",\"p\",\"p\",\"p\",\"p\",\"p\",\"p\",\"e\",\"p\",\"p\",\"e\",\"p\",\"p\",\"p\",\"e\",\"e\",\"p\",\"p\",\"p\",\"p\",\"p\",\"p\",\"p\",\"e\",\"p\",\"p\",\"p\",\"p\",\"p\",\"e\",\"p\",\"p\",\"p\",\"p\",\"p\",\"e\",\"p\",\"p\",\"p\",\"p\",\"p\",\"p\",\"p\",\"p\",\"p\",\"p\",\"p\",\"p\",\"e\",\"e\",\"e\",\"p\",\"p\",\"p\",\"p\",\"p\",\"p\",\"p\",\"p\",\"p\",\"p\",\"p\",\"p\",\"p\",\"p\",\"p\",\"p\",\"p\",\"e\",\"p\",\"p\",\"p\",\"p\",\"p\",\"p\",\"p\",\"p\",\"e\",\"p\",\"p\",\"e\",\"p\",\"p\",\"p\",\"p\",\"p\",\"p\",\"p\",\"p\",\"e\",\"p\",\"p\",\"p\",\"p\",\"e\",\"p\",\"p\",\"p\",\"p\",\"e\",\"p\",\"p\",\"p\",\"p\",\"p\",\"p\",\"p\",\"e\",\"p\",\"p\",\"p\",\"p\",\"p\",\"p\",\"p\",\"p\",\"p\",\"p\",\"p\",\"p\",\"p\",\"p\",\"p\",\"p\",\"p\",\"p\",\"p\",\"p\",\"p\",\"p\",\"p\",\"p\",\"p\",\"p\",\"p\",\"p\",\"e\",\"e\",\"p\",\"p\",\"p\",\"p\",\"p\",\"p\",\"p\",\"p\",\"p\",\"p\",\"p\",\"p\",\"p\",\"p\",\"p\",\"p\",\"e\",\"e\",\"p\",\"p\",\"p\",\"p\",\"p\",\"p\",\"p\",\"e\",\"p\",\"p\",\"p\",\"p\",\"p\",\"p\",\"p\",\"e\",\"p\",\"p\",\"p\",\"p\",\"p\",\"p\",\"p\",\"p\",\"p\",\"p\",\"e\",\"p\",\"p\",\"e\",\"p\",\"p\",\"p\",\"p\",\"p\",\"p\",\"p\",\"e\",\"p\",\"p\",\"p\",\"e\",\"p\",\"p\",\"p\",\"e\",\"p\",\"p\",\"p\",\"p\",\"e\",\"p\",\"p\",\"p\",\"p\",\"p\",\"p\",\"p\",\"p\",\"p\",\"p\",\"p\",\"e\",\"e\",\"p\",\"p\",\"p\",\"p\",\"p\",\"p\",\"p\",\"p\",\"e\",\"p\",\"p\",\"p\",\"e\",\"p\",\"e\",\"e\",\"p\",\"p\",\"p\",\"p\",\"p\",\"p\",\"p\",\"p\",\"p\",\"p\",\"p\",\"e\",\"p\",\"p\",\"e\",\"p\",\"p\",\"e\",\"p\",\"p\",\"p\",\"p\",\"p\",\"e\",\"e\",\"p\",\"e\",\"e\",\"p\",\"p\",\"p\",\"p\",\"p\",\"e\",\"p\",\"p\",\"e\",\"p\",\"p\",\"p\",\"p\",\"e\",\"p\",\"p\",\"p\",\"e\",\"p\",\"p\",\"p\",\"p\",\"p\",\"p\",\"p\",\"p\",\"e\",\"p\",\"p\",\"p\",\"e\",\"p\",\"p\",\"p\",\"p\",\"p\",\"e\",\"p\",\"p\",\"e\",\"p\",\"e\",\"p\",\"e\",\"p\",\"p\",\"p\",\"p\",\"p\",\"p\",\"e\",\"e\",\"p\",\"e\",\"p\",\"p\",\"p\",\"p\",\"e\",\"p\",\"p\",\"p\",\"p\",\"e\",\"p\",\"p\",\"p\",\"p\",\"p\",\"p\",\"p\",\"p\",\"e\",\"p\",\"p\",\"p\",\"p\",\"e\",\"p\",\"p\",\"p\",\"p\",\"p\",\"p\",\"e\",\"p\",\"p\",\"p\",\"p\",\"e\",\"p\",\"e\",\"p\",\"e\",\"p\",\"p\",\"p\",\"p\",\"p\",\"p\",\"e\",\"p\",\"p\",\"e\",\"e\",\"e\",\"p\",\"p\",\"p\",\"p\",\"p\",\"e\",\"p\",\"p\",\"p\",\"e\",\"p\",\"p\",\"p\",\"e\",\"p\",\"p\",\"e\",\"p\",\"p\",\"p\",\"e\",\"p\",\"e\",\"e\",\"p\",\"p\",\"p\",\"e\",\"p\",\"p\",\"e\",\"p\",\"e\",\"p\",\"p\",\"p\",\"p\",\"p\",\"p\",\"e\",\"p\",\"p\",\"p\",\"p\",\"p\",\"p\",\"p\",\"p\",\"p\",\"e\",\"p\",\"p\",\"p\",\"p\",\"e\",\"p\",\"p\",\"p\",\"e\",\"e\",\"p\",\"p\",\"p\",\"p\",\"p\",\"e\",\"p\",\"p\",\"p\",\"p\",\"p\",\"p\",\"p\",\"p\",\"p\",\"p\",\"e\",\"p\",\"p\",\"p\",\"p\",\"p\",\"p\",\"p\",\"p\",\"e\",\"p\",\"p\",\"p\",\"p\",\"p\",\"p\",\"e\",\"p\",\"p\",\"p\",\"e\",\"p\",\"e\",\"e\",\"e\",\"e\",\"p\",\"e\",\"e\",\"p\",\"e\",\"p\",\"p\",\"p\",\"p\",\"p\",\"p\",\"p\",\"p\",\"e\",\"p\",\"p\",\"p\",\"p\",\"p\",\"p\",\"p\",\"p\",\"p\",\"p\",\"p\",\"e\",\"p\",\"e\",\"e\",\"e\",\"p\",\"p\",\"e\",\"e\",\"p\",\"p\",\"p\",\"p\",\"p\",\"p\",\"p\",\"p\",\"e\",\"p\",\"p\",\"p\",\"e\",\"p\",\"e\",\"p\",\"p\",\"p\",\"p\",\"p\",\"p\",\"e\",\"p\",\"p\",\"p\",\"p\",\"p\",\"p\",\"p\",\"p\",\"p\",\"p\",\"p\",\"p\",\"p\",\"p\",\"p\",\"p\",\"p\",\"p\",\"p\",\"e\",\"p\",\"p\",\"e\",\"p\",\"p\",\"p\",\"p\",\"p\",\"p\",\"p\",\"p\",\"p\",\"p\",\"p\",\"p\",\"e\",\"p\",\"e\",\"p\",\"p\",\"p\",\"p\",\"p\",\"e\",\"p\",\"p\",\"p\",\"p\",\"e\",\"p\",\"p\",\"p\",\"p\",\"e\",\"p\",\"p\",\"p\",\"p\",\"e\",\"e\",\"e\",\"p\",\"p\",\"p\",\"p\",\"p\",\"p\",\"p\",\"p\",\"p\",\"e\",\"e\",\"p\",\"p\",\"p\",\"p\",\"p\",\"p\",\"e\",\"p\",\"p\",\"e\",\"p\",\"p\",\"e\",\"p\",\"p\",\"p\",\"p\",\"p\",\"e\",\"p\",\"e\",\"e\",\"e\",\"p\",\"e\",\"p\",\"p\",\"p\",\"e\",\"p\",\"e\",\"e\",\"p\",\"p\",\"p\",\"e\",\"p\",\"e\",\"p\",\"p\",\"e\",\"e\",\"p\",\"p\",\"p\",\"p\",\"e\",\"e\",\"p\",\"p\",\"p\",\"p\",\"p\",\"e\",\"e\",\"p\",\"p\",\"p\",\"p\",\"p\",\"p\",\"p\",\"e\",\"p\",\"p\",\"p\",\"e\",\"p\",\"p\",\"p\",\"e\",\"p\",\"e\",\"p\",\"p\",\"p\",\"p\",\"p\",\"p\",\"p\",\"e\",\"p\",\"e\",\"e\",\"p\",\"e\",\"p\",\"p\",\"e\",\"p\",\"p\",\"p\",\"e\",\"p\",\"p\",\"p\",\"e\",\"p\",\"p\",\"p\",\"p\",\"p\",\"p\",\"e\",\"e\",\"p\",\"e\",\"e\",\"e\",\"p\",\"p\",\"p\",\"e\",\"p\",\"e\",\"p\",\"p\",\"p\",\"p\",\"p\",\"p\",\"p\",\"e\",\"p\",\"e\",\"p\",\"p\",\"p\",\"p\",\"e\",\"p\",\"p\",\"p\",\"e\",\"p\",\"p\",\"e\",\"e\",\"p\",\"p\",\"p\",\"p\",\"p\",\"p\",\"p\",\"e\",\"p\",\"p\",\"e\",\"p\",\"e\",\"p\",\"p\",\"e\",\"p\",\"p\",\"p\",\"p\",\"e\",\"p\",\"p\",\"p\",\"p\",\"e\",\"p\",\"e\",\"p\",\"e\",\"p\",\"p\",\"e\",\"e\",\"p\",\"p\",\"p\",\"e\",\"e\",\"p\",\"p\",\"e\",\"p\",\"p\",\"e\",\"p\",\"p\",\"p\",\"e\",\"p\",\"e\",\"p\",\"p\",\"p\",\"p\",\"p\",\"p\",\"e\",\"p\",\"p\",\"e\",\"e\",\"p\",\"p\",\"p\",\"p\",\"e\",\"p\",\"p\",\"p\",\"e\",\"p\",\"p\",\"e\",\"p\",\"p\",\"p\",\"e\",\"e\",\"e\",\"e\",\"p\",\"p\",\"e\",\"p\",\"p\",\"p\",\"e\",\"p\",\"e\",\"p\",\"p\",\"p\",\"p\",\"e\",\"p\",\"p\",\"p\",\"p\",\"p\",\"e\",\"p\",\"p\",\"e\",\"p\",\"p\",\"p\",\"p\",\"p\",\"p\",\"e\",\"p\",\"p\",\"e\",\"p\",\"e\",\"p\",\"p\",\"p\",\"e\",\"p\",\"p\",\"e\",\"e\",\"p\",\"e\",\"p\",\"e\",\"p\",\"p\",\"p\",\"p\",\"p\",\"e\",\"p\",\"p\",\"p\",\"p\",\"p\",\"p\",\"e\",\"p\",\"p\",\"p\",\"p\",\"p\",\"p\",\"p\",\"p\",\"p\",\"e\",\"p\",\"p\",\"e\",\"p\",\"p\",\"p\",\"p\",\"p\",\"p\",\"e\",\"p\",\"e\",\"p\",\"p\",\"p\",\"e\",\"p\",\"p\",\"e\",\"p\",\"p\",\"e\",\"p\",\"e\",\"p\",\"p\",\"p\",\"p\",\"p\",\"p\",\"e\",\"e\",\"p\",\"p\",\"e\",\"p\",\"p\",\"p\",\"p\",\"p\",\"p\",\"p\",\"e\",\"p\",\"e\",\"p\",\"p\",\"p\",\"p\",\"p\",\"p\",\"p\",\"p\",\"e\",\"e\",\"p\",\"e\",\"p\",\"e\",\"p\",\"e\",\"p\",\"p\",\"p\",\"p\",\"p\",\"p\",\"p\",\"p\",\"e\",\"e\",\"p\",\"p\",\"p\",\"p\",\"p\",\"p\",\"p\",\"e\",\"p\",\"p\",\"e\",\"p\",\"p\",\"p\",\"p\",\"p\",\"p\",\"e\",\"e\",\"e\",\"p\",\"p\",\"e\",\"p\",\"p\",\"p\",\"p\",\"e\",\"p\",\"p\",\"e\",\"e\",\"p\",\"p\",\"p\",\"p\",\"p\",\"e\",\"e\",\"p\",\"e\",\"e\",\"p\",\"p\",\"p\",\"p\",\"p\",\"p\",\"p\",\"p\",\"p\",\"p\",\"p\",\"p\",\"e\",\"p\",\"p\",\"p\",\"p\",\"p\",\"p\",\"e\",\"e\",\"e\",\"p\",\"p\",\"p\",\"p\",\"p\",\"p\",\"p\",\"p\",\"e\",\"e\",\"p\",\"p\",\"p\",\"e\",\"p\",\"p\",\"p\",\"p\",\"p\",\"p\",\"p\",\"e\",\"e\",\"p\",\"p\",\"p\",\"p\",\"p\",\"p\",\"p\",\"e\",\"p\",\"p\",\"p\",\"p\",\"p\",\"e\",\"p\",\"e\",\"p\",\"e\",\"p\",\"p\",\"p\",\"p\",\"p\",\"p\",\"p\",\"p\",\"p\",\"p\",\"p\",\"p\",\"p\",\"p\",\"p\",\"e\",\"e\",\"p\",\"p\",\"p\",\"p\",\"p\",\"p\",\"p\",\"p\",\"p\",\"p\",\"p\",\"p\",\"p\",\"p\",\"p\",\"p\",\"p\",\"p\",\"p\",\"p\",\"p\",\"p\",\"p\",\"p\",\"p\",\"p\",\"p\",\"p\",\"p\",\"p\",\"p\",\"p\",\"p\",\"p\",\"p\",\"p\",\"p\",\"p\",\"p\",\"p\",\"e\",\"p\",\"e\",\"p\",\"p\",\"p\",\"p\",\"p\",\"p\",\"p\",\"p\",\"p\",\"p\",\"p\",\"p\",\"p\",\"p\",\"p\",\"p\",\"p\",\"p\",\"p\",\"p\",\"p\",\"p\",\"p\",\"p\",\"p\",\"p\",\"p\",\"e\",\"p\",\"p\",\"p\",\"p\",\"p\",\"p\",\"p\",\"p\",\"p\",\"p\",\"p\",\"p\",\"p\",\"p\",\"p\",\"p\",\"p\",\"p\",\"p\",\"p\",\"p\",\"p\",\"p\",\"p\",\"p\",\"p\",\"p\",\"p\",\"p\",\"p\",\"p\",\"p\",\"p\",\"p\",\"p\",\"p\",\"p\",\"p\",\"p\",\"p\",\"p\",\"p\",\"p\",\"p\",\"p\",\"p\",\"p\",\"p\",\"p\",\"p\",\"p\",\"e\",\"p\",\"p\",\"p\",\"p\",\"p\",\"p\",\"p\",\"p\",\"p\",\"p\",\"p\",\"p\",\"p\",\"p\",\"p\",\"p\",\"p\",\"p\",\"p\",\"p\",\"p\",\"e\",\"p\",\"p\",\"p\",\"p\",\"e\",\"p\",\"p\",\"p\",\"p\",\"p\",\"p\",\"p\",\"p\",\"p\",\"p\",\"p\",\"p\",\"p\",\"p\",\"p\",\"p\",\"p\",\"p\",\"p\",\"p\",\"p\",\"p\",\"p\",\"p\",\"p\",\"p\",\"p\",\"p\",\"p\",\"p\",\"p\",\"p\",\"p\",\"p\",\"p\",\"p\",\"p\",\"p\",\"p\",\"p\",\"p\",\"p\",\"p\",\"p\",\"p\",\"p\",\"e\",\"p\",\"p\",\"p\",\"p\",\"p\",\"p\",\"p\",\"p\",\"e\",\"p\",\"p\",\"p\",\"p\",\"p\",\"p\",\"p\",\"p\",\"p\",\"p\",\"e\",\"p\",\"p\",\"p\",\"p\",\"e\",\"p\",\"p\",\"p\",\"p\",\"p\",\"p\",\"p\",\"p\",\"p\",\"p\",\"p\",\"p\",\"p\",\"p\",\"p\",\"p\",\"p\",\"p\",\"p\",\"p\",\"p\",\"p\",\"p\",\"p\",\"p\",\"p\",\"p\",\"p\",\"p\",\"p\",\"p\",\"p\",\"p\",\"p\",\"p\",\"p\",\"p\",\"p\",\"p\",\"p\",\"p\",\"e\",\"p\",\"p\",\"p\",\"p\",\"p\",\"p\",\"p\",\"p\",\"p\",\"p\",\"p\",\"p\",\"p\",\"p\",\"p\",\"p\",\"p\",\"e\",\"p\",\"p\",\"p\",\"p\",\"p\",\"p\",\"p\",\"p\",\"p\",\"p\",\"p\",\"p\",\"p\",\"p\",\"p\",\"p\",\"p\",\"p\",\"p\",\"p\",\"p\",\"p\",\"p\",\"p\",\"p\",\"p\",\"p\",\"p\",\"p\",\"p\",\"p\",\"p\",\"p\",\"p\",\"p\",\"p\",\"p\",\"p\",\"p\",\"p\",\"p\",\"p\",\"p\",\"p\",\"p\",\"p\",\"p\",\"p\",\"p\",\"p\",\"p\",\"e\",\"p\",\"p\",\"p\",\"p\",\"p\",\"p\",\"p\",\"p\",\"p\",\"p\",\"p\",\"p\",\"p\",\"p\",\"p\",\"p\",\"p\",\"p\",\"p\",\"p\",\"p\",\"p\",\"p\",\"p\",\"p\",\"p\",\"p\",\"p\",\"p\",\"p\",\"p\",\"p\",\"p\",\"p\",\"e\",\"p\",\"p\",\"p\",\"p\",\"p\",\"p\",\"p\",\"p\",\"e\",\"p\",\"p\",\"p\",\"p\",\"p\",\"p\",\"p\",\"p\",\"p\",\"p\",\"p\",\"p\",\"p\",\"p\",\"p\",\"p\",\"p\",\"p\",\"p\",\"p\",\"e\",\"p\",\"p\",\"p\",\"p\",\"p\",\"p\",\"e\",\"p\",\"p\",\"e\",\"p\",\"p\",\"p\",\"p\",\"p\",\"p\",\"p\",\"p\",\"p\",\"p\",\"p\",\"p\",\"p\",\"p\",\"p\",\"p\",\"p\",\"e\",\"p\",\"p\",\"p\",\"p\",\"p\",\"p\",\"p\",\"p\",\"p\",\"e\",\"p\",\"p\",\"p\",\"p\",\"p\",\"p\",\"p\",\"p\",\"p\",\"p\",\"p\",\"p\",\"p\",\"p\",\"e\",\"p\",\"p\",\"p\",\"p\",\"p\",\"p\",\"p\",\"p\",\"p\",\"p\",\"p\",\"p\",\"p\",\"p\",\"p\",\"p\",\"p\",\"p\",\"p\",\"p\",\"p\",\"p\",\"p\",\"p\",\"p\",\"p\",\"p\",\"p\",\"p\",\"p\",\"p\",\"p\",\"p\",\"p\",\"p\",\"p\",\"p\",\"p\",\"p\",\"p\",\"p\",\"p\",\"p\",\"p\",\"p\",\"p\",\"p\",\"p\",\"p\",\"p\",\"p\",\"p\",\"p\",\"p\",\"p\",\"p\",\"p\",\"p\",\"p\",\"e\",\"p\",\"p\",\"p\",\"p\",\"p\",\"p\",\"p\",\"e\",\"p\",\"p\",\"p\",\"p\",\"p\",\"p\",\"p\",\"p\",\"p\",\"p\",\"p\",\"p\",\"e\",\"p\",\"p\",\"p\",\"p\",\"p\",\"p\",\"p\",\"p\",\"p\",\"p\",\"p\",\"p\",\"p\",\"p\",\"p\",\"p\",\"p\",\"p\",\"p\",\"p\",\"p\",\"p\",\"p\",\"p\",\"p\",\"p\",\"p\",\"e\",\"p\",\"p\",\"p\",\"p\",\"p\",\"p\",\"p\",\"p\",\"p\",\"p\",\"p\",\"p\",\"p\",\"p\",\"p\",\"p\",\"p\",\"p\",\"p\",\"p\",\"p\",\"p\",\"p\",\"p\",\"p\",\"p\",\"p\",\"p\",\"p\",\"p\",\"p\",\"p\",\"p\",\"p\",\"p\",\"p\",\"p\",\"p\",\"p\",\"p\",\"e\",\"p\",\"p\",\"p\",\"p\",\"p\",\"p\",\"p\",\"p\",\"p\",\"p\",\"p\",\"p\",\"p\",\"p\",\"p\",\"p\",\"p\",\"p\",\"p\",\"p\",\"p\",\"p\",\"p\",\"p\",\"p\",\"p\",\"p\",\"p\",\"p\",\"p\",\"p\",\"p\",\"p\",\"p\",\"p\",\"p\",\"p\",\"p\",\"p\",\"p\",\"p\",\"p\",\"p\",\"p\",\"p\",\"p\",\"p\",\"p\",\"p\",\"p\",\"p\",\"p\",\"p\",\"p\",\"p\",\"p\",\"p\",\"p\",\"p\",\"p\",\"e\",\"p\",\"p\",\"e\",\"p\",\"p\",\"p\",\"p\",\"p\",\"p\",\"p\",\"p\",\"p\",\"p\",\"p\",\"p\",\"p\",\"p\",\"p\",\"p\",\"p\",\"p\",\"p\",\"p\",\"p\",\"p\",\"p\",\"p\",\"p\",\"p\",\"p\",\"p\",\"p\",\"p\",\"p\",\"p\",\"p\",\"p\",\"p\",\"p\",\"p\",\"p\",\"p\",\"p\",\"p\",\"p\",\"p\",\"p\",\"p\",\"p\",\"p\",\"p\",\"p\",\"p\",\"p\",\"p\",\"p\",\"p\",\"p\",\"p\",\"p\",\"p\",\"p\",\"p\",\"p\",\"p\",\"p\",\"p\",\"p\",\"p\",\"p\",\"p\",\"p\",\"p\",\"p\",\"p\",\"p\",\"p\",\"p\",\"p\",\"p\",\"p\",\"p\",\"p\",\"e\",\"p\",\"p\",\"p\",\"p\",\"p\",\"p\",\"p\",\"e\",\"p\",\"p\",\"p\",\"p\",\"p\",\"p\",\"p\",\"p\",\"p\",\"e\",\"e\",\"p\",\"p\",\"p\",\"p\",\"p\",\"p\",\"p\",\"p\",\"p\",\"p\",\"e\",\"p\",\"p\",\"p\",\"p\",\"p\",\"p\",\"p\",\"p\",\"p\",\"p\",\"p\",\"p\",\"p\",\"p\",\"p\",\"p\",\"p\",\"p\",\"p\",\"p\",\"p\",\"p\",\"p\",\"p\",\"p\",\"p\",\"p\",\"p\",\"p\",\"p\",\"p\",\"p\",\"p\",\"p\",\"p\",\"p\",\"p\",\"p\",\"p\",\"p\",\"p\",\"p\",\"p\",\"p\",\"p\",\"p\",\"p\",\"p\",\"p\",\"p\",\"p\",\"p\",\"e\",\"p\",\"p\",\"p\",\"p\",\"p\",\"p\",\"p\",\"p\",\"p\",\"p\",\"p\",\"p\",\"p\",\"p\",\"p\",\"p\",\"p\",\"p\",\"p\",\"p\",\"p\",\"e\",\"p\",\"p\",\"p\",\"p\",\"p\",\"p\",\"p\",\"p\",\"p\",\"p\",\"e\",\"p\",\"p\",\"p\",\"p\",\"p\",\"p\",\"p\",\"p\",\"p\",\"p\",\"p\",\"p\",\"p\",\"p\",\"p\",\"p\",\"p\",\"p\",\"p\",\"p\",\"p\",\"p\",\"p\",\"e\",\"p\",\"p\",\"p\",\"p\",\"p\",\"p\",\"p\",\"p\",\"p\",\"p\",\"p\",\"p\",\"p\",\"p\",\"p\",\"e\",\"p\",\"p\",\"p\",\"e\",\"e\",\"e\",\"e\",\"p\",\"p\",\"e\",\"p\",\"p\",\"p\",\"e\",\"p\",\"p\",\"p\",\"p\",\"p\",\"e\",\"p\",\"p\",\"p\",\"e\",\"p\",\"p\",\"e\",\"e\",\"p\",\"p\",\"p\",\"e\",\"p\",\"p\",\"p\",\"p\",\"e\",\"e\",\"p\",\"p\",\"e\",\"p\",\"p\",\"p\",\"p\",\"p\",\"p\",\"p\",\"p\",\"p\",\"p\",\"e\",\"p\",\"p\",\"p\",\"p\",\"p\",\"e\",\"p\",\"p\",\"p\",\"p\",\"p\",\"p\",\"p\",\"p\",\"e\",\"p\",\"p\",\"e\",\"p\",\"p\",\"p\",\"p\",\"e\",\"p\",\"p\",\"p\",\"p\",\"p\",\"p\",\"p\",\"p\",\"e\",\"p\",\"p\",\"p\",\"p\",\"e\",\"e\",\"p\",\"p\",\"p\",\"e\",\"p\",\"p\",\"e\",\"e\",\"e\",\"p\",\"p\",\"p\",\"e\",\"e\",\"e\",\"p\",\"p\",\"e\",\"e\",\"p\",\"e\",\"p\",\"p\",\"p\",\"e\",\"e\",\"p\",\"p\",\"e\",\"e\",\"p\",\"e\",\"p\",\"p\",\"e\",\"e\",\"p\",\"p\",\"p\",\"p\",\"p\",\"e\",\"e\",\"p\",\"e\",\"e\",\"e\",\"p\",\"e\",\"e\",\"e\",\"p\",\"p\",\"p\",\"p\",\"e\",\"p\",\"p\",\"p\",\"e\",\"e\",\"p\",\"p\",\"e\",\"p\",\"p\",\"p\",\"p\",\"p\",\"p\",\"p\",\"p\",\"e\",\"p\",\"p\",\"p\",\"e\",\"p\",\"p\",\"p\",\"p\",\"p\",\"e\",\"p\",\"p\",\"p\",\"p\",\"p\",\"e\",\"p\",\"p\",\"p\",\"p\",\"p\",\"p\",\"e\",\"p\",\"p\",\"e\",\"e\",\"p\",\"p\",\"p\",\"p\",\"p\",\"p\",\"p\",\"e\",\"p\",\"p\",\"p\",\"p\",\"e\",\"p\",\"p\",\"p\",\"p\",\"p\",\"p\",\"e\",\"p\",\"p\",\"p\",\"p\",\"p\",\"e\",\"p\",\"p\",\"e\",\"p\",\"p\",\"p\",\"e\",\"p\",\"p\",\"p\",\"p\",\"e\",\"p\",\"p\",\"p\",\"p\",\"e\",\"e\",\"e\",\"e\",\"p\",\"p\",\"p\",\"p\",\"e\",\"p\",\"e\",\"p\",\"p\",\"p\",\"p\",\"p\",\"p\",\"p\",\"p\",\"p\",\"e\",\"p\",\"p\",\"p\",\"p\",\"e\",\"p\",\"p\",\"p\",\"e\",\"p\",\"p\",\"p\",\"p\",\"e\",\"p\",\"p\",\"e\",\"p\",\"p\",\"e\",\"p\",\"p\",\"e\",\"p\",\"p\",\"p\",\"p\",\"e\",\"e\",\"e\",\"p\",\"e\",\"p\",\"p\",\"e\",\"p\",\"p\",\"p\",\"p\",\"p\",\"p\",\"e\",\"p\",\"p\",\"p\",\"p\",\"e\",\"p\",\"e\",\"p\",\"e\",\"e\",\"p\",\"p\",\"e\",\"p\",\"p\",\"e\",\"p\",\"p\",\"p\",\"p\",\"p\",\"e\",\"p\",\"p\",\"e\",\"e\",\"e\",\"p\",\"p\",\"p\",\"e\",\"p\",\"e\",\"e\",\"p\",\"e\",\"p\",\"e\",\"e\",\"e\",\"e\",\"p\",\"p\",\"e\",\"p\",\"p\",\"p\",\"p\",\"e\",\"e\",\"e\",\"p\",\"p\",\"p\",\"p\",\"e\",\"p\",\"e\",\"p\",\"e\",\"p\",\"p\",\"e\",\"p\",\"e\",\"p\",\"p\",\"e\",\"p\",\"p\",\"e\",\"p\",\"p\",\"p\",\"e\",\"e\",\"p\",\"e\",\"p\",\"p\",\"e\",\"p\",\"e\",\"p\",\"e\",\"e\",\"p\",\"p\",\"e\",\"p\",\"p\",\"p\",\"p\",\"p\",\"e\",\"p\",\"e\",\"e\",\"p\",\"p\",\"p\",\"p\",\"p\",\"e\",\"e\",\"e\",\"p\",\"p\",\"p\",\"e\",\"e\",\"p\",\"p\",\"e\",\"p\",\"e\",\"p\",\"p\",\"e\",\"e\",\"p\",\"p\",\"p\",\"e\",\"p\",\"p\",\"p\",\"p\",\"p\",\"e\",\"p\",\"e\",\"e\",\"e\",\"p\",\"p\",\"p\",\"p\",\"e\",\"e\",\"p\",\"p\",\"p\",\"p\",\"p\",\"p\",\"p\",\"p\",\"e\",\"p\",\"e\",\"p\",\"p\",\"e\",\"e\",\"p\",\"e\",\"e\",\"e\",\"p\",\"p\",\"p\",\"e\",\"e\",\"e\",\"e\",\"p\",\"p\",\"p\",\"p\",\"e\",\"p\",\"p\",\"p\",\"e\",\"p\",\"e\",\"e\",\"p\",\"e\",\"e\",\"e\",\"e\",\"p\",\"p\",\"p\",\"p\",\"p\",\"p\",\"e\",\"p\",\"p\",\"e\",\"p\",\"e\",\"e\",\"p\",\"p\",\"p\",\"p\",\"p\",\"p\",\"e\",\"p\",\"e\",\"p\",\"p\",\"p\",\"e\",\"e\",\"p\",\"e\",\"p\",\"p\",\"p\",\"e\",\"e\",\"e\",\"p\",\"e\",\"e\",\"p\",\"e\",\"p\",\"p\",\"p\",\"e\",\"p\",\"p\",\"e\",\"p\",\"p\",\"p\",\"p\",\"p\",\"p\",\"e\",\"p\",\"e\",\"p\",\"p\",\"e\",\"p\",\"e\",\"e\",\"p\",\"p\",\"e\",\"e\",\"e\",\"e\",\"p\",\"p\",\"e\",\"e\",\"p\",\"p\",\"p\",\"p\",\"e\",\"p\",\"p\",\"p\",\"e\",\"e\",\"p\",\"p\",\"e\",\"p\",\"p\",\"p\",\"e\",\"e\",\"p\",\"p\",\"p\",\"p\",\"p\",\"p\",\"p\",\"p\",\"p\",\"p\",\"e\",\"p\",\"e\",\"p\",\"p\",\"p\",\"p\",\"e\",\"p\",\"p\",\"p\",\"e\",\"p\",\"p\",\"p\",\"p\",\"p\",\"p\",\"p\",\"e\",\"e\",\"e\",\"p\",\"p\",\"p\",\"p\",\"p\",\"p\",\"p\",\"p\",\"p\",\"e\",\"p\",\"p\",\"e\",\"e\",\"p\",\"e\",\"p\",\"p\",\"p\",\"p\",\"p\",\"e\",\"e\",\"e\",\"p\",\"e\",\"p\",\"e\",\"e\",\"p\",\"e\",\"e\",\"e\",\"e\",\"e\",\"p\",\"e\",\"p\",\"p\",\"e\",\"e\",\"e\",\"e\",\"p\",\"p\",\"p\",\"e\",\"e\",\"p\",\"e\",\"p\",\"e\",\"p\",\"p\",\"e\",\"p\",\"p\",\"e\",\"e\",\"e\",\"e\",\"p\",\"p\",\"e\",\"p\",\"e\",\"p\",\"p\",\"p\",\"e\",\"p\",\"p\",\"e\",\"p\",\"p\",\"e\",\"p\",\"p\",\"p\",\"p\",\"e\",\"p\",\"p\",\"e\",\"e\",\"e\",\"p\",\"p\",\"p\",\"e\",\"p\",\"p\",\"e\",\"p\",\"p\",\"p\",\"e\",\"p\",\"p\",\"p\",\"p\",\"e\",\"p\",\"e\",\"p\",\"p\",\"p\",\"p\",\"e\",\"e\",\"p\",\"e\",\"p\",\"p\",\"e\",\"p\",\"e\",\"p\",\"p\",\"p\",\"p\",\"e\",\"e\",\"p\",\"p\",\"e\",\"e\",\"p\",\"p\",\"e\",\"e\",\"e\",\"p\",\"p\",\"p\",\"e\",\"p\",\"p\",\"p\",\"e\",\"e\",\"e\",\"e\",\"e\",\"p\",\"p\",\"p\",\"p\",\"e\",\"e\",\"e\",\"e\",\"p\",\"p\",\"p\",\"p\",\"p\",\"e\",\"e\",\"p\",\"p\",\"e\",\"p\",\"e\",\"e\",\"p\",\"p\",\"p\",\"p\",\"p\",\"e\",\"p\",\"e\",\"e\",\"p\",\"p\",\"p\",\"e\",\"p\",\"e\",\"p\",\"e\",\"p\",\"p\",\"e\",\"p\",\"p\",\"e\",\"e\",\"p\",\"p\",\"e\",\"p\",\"p\",\"p\",\"p\",\"p\",\"e\",\"e\",\"p\",\"e\",\"e\",\"p\",\"e\",\"e\",\"p\",\"p\",\"p\",\"p\",\"e\",\"p\",\"e\",\"p\",\"p\",\"p\",\"e\",\"e\",\"p\",\"p\",\"e\",\"e\",\"p\",\"e\",\"e\",\"e\",\"p\",\"p\",\"p\",\"e\",\"p\",\"p\",\"p\",\"p\",\"p\",\"p\",\"e\",\"e\",\"p\",\"p\",\"e\",\"e\",\"p\",\"e\",\"e\",\"e\",\"e\",\"e\",\"e\",\"e\",\"p\",\"p\",\"e\",\"e\",\"p\",\"p\",\"p\",\"p\",\"p\",\"e\",\"p\",\"e\",\"e\",\"e\",\"p\",\"e\",\"p\",\"p\",\"p\",\"e\",\"p\",\"p\",\"e\",\"p\",\"p\",\"p\",\"e\",\"e\",\"p\",\"e\",\"p\",\"p\",\"e\",\"e\",\"p\",\"p\",\"p\",\"p\",\"e\",\"p\",\"e\",\"e\",\"p\",\"p\",\"p\",\"e\",\"p\",\"e\",\"p\",\"p\",\"p\",\"p\",\"p\",\"e\",\"p\",\"p\",\"p\",\"e\",\"p\",\"e\",\"e\",\"e\",\"p\",\"e\",\"e\",\"p\",\"p\",\"e\",\"e\",\"p\",\"p\",\"p\",\"p\",\"e\",\"p\",\"e\",\"p\",\"p\",\"e\",\"e\",\"e\",\"e\",\"p\",\"e\",\"e\",\"p\",\"e\",\"p\",\"e\",\"p\",\"e\",\"p\",\"e\",\"e\",\"e\",\"e\",\"p\",\"e\",\"p\",\"p\",\"p\",\"p\",\"p\",\"p\",\"e\",\"p\",\"p\",\"p\",\"e\",\"e\",\"e\",\"p\",\"p\",\"p\",\"p\",\"p\",\"e\",\"e\",\"p\",\"p\",\"e\",\"e\",\"e\",\"p\",\"p\",\"p\",\"p\",\"p\",\"e\",\"p\",\"p\",\"p\",\"e\",\"p\",\"p\",\"p\",\"e\",\"e\",\"p\",\"p\",\"e\",\"p\",\"p\",\"e\",\"e\",\"e\",\"p\",\"p\",\"e\",\"p\",\"e\",\"p\",\"p\",\"p\",\"e\",\"e\",\"p\",\"e\",\"p\",\"e\",\"p\",\"e\",\"e\",\"e\",\"p\",\"e\",\"e\",\"p\",\"e\",\"e\",\"p\",\"e\",\"e\",\"p\",\"p\",\"p\",\"p\",\"e\",\"p\",\"e\",\"p\",\"e\",\"p\",\"e\",\"p\",\"p\",\"p\",\"e\",\"e\",\"e\",\"e\",\"p\",\"p\",\"p\",\"e\",\"e\",\"e\",\"p\",\"p\",\"p\",\"p\",\"p\",\"e\",\"e\",\"e\",\"e\",\"e\",\"e\",\"e\",\"p\",\"e\",\"p\",\"p\",\"p\",\"e\",\"e\",\"e\",\"p\",\"p\",\"p\",\"e\",\"e\",\"e\",\"p\",\"e\",\"e\",\"e\",\"e\",\"p\",\"e\",\"p\",\"p\",\"p\",\"e\",\"e\",\"e\",\"e\",\"p\",\"e\",\"p\",\"p\",\"e\",\"p\",\"e\",\"e\",\"p\",\"e\",\"p\",\"p\",\"e\",\"e\",\"e\",\"e\",\"e\",\"p\",\"p\",\"p\",\"p\",\"p\",\"e\",\"e\",\"e\",\"p\",\"e\",\"e\",\"e\",\"p\",\"e\",\"e\",\"e\",\"p\",\"p\",\"p\",\"p\",\"p\",\"e\",\"e\",\"p\",\"p\",\"e\",\"e\",\"p\",\"p\",\"p\",\"e\",\"e\",\"e\",\"p\",\"e\",\"p\",\"e\",\"p\",\"e\",\"e\",\"e\",\"p\",\"e\",\"p\",\"p\",\"p\",\"p\",\"e\",\"e\",\"p\",\"e\",\"e\",\"e\",\"e\",\"p\",\"p\",\"p\",\"p\",\"p\",\"e\",\"p\",\"e\",\"p\",\"e\",\"e\",\"e\",\"p\",\"e\",\"p\",\"e\",\"e\",\"e\",\"e\",\"e\",\"e\",\"p\",\"p\",\"p\",\"p\",\"p\",\"e\",\"e\",\"e\",\"p\",\"e\",\"p\",\"p\",\"p\",\"p\",\"p\",\"e\",\"p\",\"e\",\"p\",\"p\",\"e\",\"e\",\"p\",\"e\",\"e\",\"e\",\"e\",\"e\",\"e\",\"p\",\"e\",\"e\",\"e\",\"e\",\"p\",\"p\",\"e\",\"p\",\"p\",\"p\",\"e\",\"e\",\"e\",\"p\",\"e\"],\"legendgroup\":\"\",\"name\":\"\",\"showlegend\":true,\"type\":\"pie\"}],                        {\"template\":{\"data\":{\"histogram2dcontour\":[{\"type\":\"histogram2dcontour\",\"colorbar\":{\"outlinewidth\":0,\"ticks\":\"\"},\"colorscale\":[[0.0,\"#0d0887\"],[0.1111111111111111,\"#46039f\"],[0.2222222222222222,\"#7201a8\"],[0.3333333333333333,\"#9c179e\"],[0.4444444444444444,\"#bd3786\"],[0.5555555555555556,\"#d8576b\"],[0.6666666666666666,\"#ed7953\"],[0.7777777777777778,\"#fb9f3a\"],[0.8888888888888888,\"#fdca26\"],[1.0,\"#f0f921\"]]}],\"choropleth\":[{\"type\":\"choropleth\",\"colorbar\":{\"outlinewidth\":0,\"ticks\":\"\"}}],\"histogram2d\":[{\"type\":\"histogram2d\",\"colorbar\":{\"outlinewidth\":0,\"ticks\":\"\"},\"colorscale\":[[0.0,\"#0d0887\"],[0.1111111111111111,\"#46039f\"],[0.2222222222222222,\"#7201a8\"],[0.3333333333333333,\"#9c179e\"],[0.4444444444444444,\"#bd3786\"],[0.5555555555555556,\"#d8576b\"],[0.6666666666666666,\"#ed7953\"],[0.7777777777777778,\"#fb9f3a\"],[0.8888888888888888,\"#fdca26\"],[1.0,\"#f0f921\"]]}],\"heatmap\":[{\"type\":\"heatmap\",\"colorbar\":{\"outlinewidth\":0,\"ticks\":\"\"},\"colorscale\":[[0.0,\"#0d0887\"],[0.1111111111111111,\"#46039f\"],[0.2222222222222222,\"#7201a8\"],[0.3333333333333333,\"#9c179e\"],[0.4444444444444444,\"#bd3786\"],[0.5555555555555556,\"#d8576b\"],[0.6666666666666666,\"#ed7953\"],[0.7777777777777778,\"#fb9f3a\"],[0.8888888888888888,\"#fdca26\"],[1.0,\"#f0f921\"]]}],\"heatmapgl\":[{\"type\":\"heatmapgl\",\"colorbar\":{\"outlinewidth\":0,\"ticks\":\"\"},\"colorscale\":[[0.0,\"#0d0887\"],[0.1111111111111111,\"#46039f\"],[0.2222222222222222,\"#7201a8\"],[0.3333333333333333,\"#9c179e\"],[0.4444444444444444,\"#bd3786\"],[0.5555555555555556,\"#d8576b\"],[0.6666666666666666,\"#ed7953\"],[0.7777777777777778,\"#fb9f3a\"],[0.8888888888888888,\"#fdca26\"],[1.0,\"#f0f921\"]]}],\"contourcarpet\":[{\"type\":\"contourcarpet\",\"colorbar\":{\"outlinewidth\":0,\"ticks\":\"\"}}],\"contour\":[{\"type\":\"contour\",\"colorbar\":{\"outlinewidth\":0,\"ticks\":\"\"},\"colorscale\":[[0.0,\"#0d0887\"],[0.1111111111111111,\"#46039f\"],[0.2222222222222222,\"#7201a8\"],[0.3333333333333333,\"#9c179e\"],[0.4444444444444444,\"#bd3786\"],[0.5555555555555556,\"#d8576b\"],[0.6666666666666666,\"#ed7953\"],[0.7777777777777778,\"#fb9f3a\"],[0.8888888888888888,\"#fdca26\"],[1.0,\"#f0f921\"]]}],\"surface\":[{\"type\":\"surface\",\"colorbar\":{\"outlinewidth\":0,\"ticks\":\"\"},\"colorscale\":[[0.0,\"#0d0887\"],[0.1111111111111111,\"#46039f\"],[0.2222222222222222,\"#7201a8\"],[0.3333333333333333,\"#9c179e\"],[0.4444444444444444,\"#bd3786\"],[0.5555555555555556,\"#d8576b\"],[0.6666666666666666,\"#ed7953\"],[0.7777777777777778,\"#fb9f3a\"],[0.8888888888888888,\"#fdca26\"],[1.0,\"#f0f921\"]]}],\"mesh3d\":[{\"type\":\"mesh3d\",\"colorbar\":{\"outlinewidth\":0,\"ticks\":\"\"}}],\"scatter\":[{\"fillpattern\":{\"fillmode\":\"overlay\",\"size\":10,\"solidity\":0.2},\"type\":\"scatter\"}],\"parcoords\":[{\"type\":\"parcoords\",\"line\":{\"colorbar\":{\"outlinewidth\":0,\"ticks\":\"\"}}}],\"scatterpolargl\":[{\"type\":\"scatterpolargl\",\"marker\":{\"colorbar\":{\"outlinewidth\":0,\"ticks\":\"\"}}}],\"bar\":[{\"error_x\":{\"color\":\"#2a3f5f\"},\"error_y\":{\"color\":\"#2a3f5f\"},\"marker\":{\"line\":{\"color\":\"#E5ECF6\",\"width\":0.5},\"pattern\":{\"fillmode\":\"overlay\",\"size\":10,\"solidity\":0.2}},\"type\":\"bar\"}],\"scattergeo\":[{\"type\":\"scattergeo\",\"marker\":{\"colorbar\":{\"outlinewidth\":0,\"ticks\":\"\"}}}],\"scatterpolar\":[{\"type\":\"scatterpolar\",\"marker\":{\"colorbar\":{\"outlinewidth\":0,\"ticks\":\"\"}}}],\"histogram\":[{\"marker\":{\"pattern\":{\"fillmode\":\"overlay\",\"size\":10,\"solidity\":0.2}},\"type\":\"histogram\"}],\"scattergl\":[{\"type\":\"scattergl\",\"marker\":{\"colorbar\":{\"outlinewidth\":0,\"ticks\":\"\"}}}],\"scatter3d\":[{\"type\":\"scatter3d\",\"line\":{\"colorbar\":{\"outlinewidth\":0,\"ticks\":\"\"}},\"marker\":{\"colorbar\":{\"outlinewidth\":0,\"ticks\":\"\"}}}],\"scattermapbox\":[{\"type\":\"scattermapbox\",\"marker\":{\"colorbar\":{\"outlinewidth\":0,\"ticks\":\"\"}}}],\"scatterternary\":[{\"type\":\"scatterternary\",\"marker\":{\"colorbar\":{\"outlinewidth\":0,\"ticks\":\"\"}}}],\"scattercarpet\":[{\"type\":\"scattercarpet\",\"marker\":{\"colorbar\":{\"outlinewidth\":0,\"ticks\":\"\"}}}],\"carpet\":[{\"aaxis\":{\"endlinecolor\":\"#2a3f5f\",\"gridcolor\":\"white\",\"linecolor\":\"white\",\"minorgridcolor\":\"white\",\"startlinecolor\":\"#2a3f5f\"},\"baxis\":{\"endlinecolor\":\"#2a3f5f\",\"gridcolor\":\"white\",\"linecolor\":\"white\",\"minorgridcolor\":\"white\",\"startlinecolor\":\"#2a3f5f\"},\"type\":\"carpet\"}],\"table\":[{\"cells\":{\"fill\":{\"color\":\"#EBF0F8\"},\"line\":{\"color\":\"white\"}},\"header\":{\"fill\":{\"color\":\"#C8D4E3\"},\"line\":{\"color\":\"white\"}},\"type\":\"table\"}],\"barpolar\":[{\"marker\":{\"line\":{\"color\":\"#E5ECF6\",\"width\":0.5},\"pattern\":{\"fillmode\":\"overlay\",\"size\":10,\"solidity\":0.2}},\"type\":\"barpolar\"}],\"pie\":[{\"automargin\":true,\"type\":\"pie\"}]},\"layout\":{\"autotypenumbers\":\"strict\",\"colorway\":[\"#636efa\",\"#EF553B\",\"#00cc96\",\"#ab63fa\",\"#FFA15A\",\"#19d3f3\",\"#FF6692\",\"#B6E880\",\"#FF97FF\",\"#FECB52\"],\"font\":{\"color\":\"#2a3f5f\"},\"hovermode\":\"closest\",\"hoverlabel\":{\"align\":\"left\"},\"paper_bgcolor\":\"white\",\"plot_bgcolor\":\"#E5ECF6\",\"polar\":{\"bgcolor\":\"#E5ECF6\",\"angularaxis\":{\"gridcolor\":\"white\",\"linecolor\":\"white\",\"ticks\":\"\"},\"radialaxis\":{\"gridcolor\":\"white\",\"linecolor\":\"white\",\"ticks\":\"\"}},\"ternary\":{\"bgcolor\":\"#E5ECF6\",\"aaxis\":{\"gridcolor\":\"white\",\"linecolor\":\"white\",\"ticks\":\"\"},\"baxis\":{\"gridcolor\":\"white\",\"linecolor\":\"white\",\"ticks\":\"\"},\"caxis\":{\"gridcolor\":\"white\",\"linecolor\":\"white\",\"ticks\":\"\"}},\"coloraxis\":{\"colorbar\":{\"outlinewidth\":0,\"ticks\":\"\"}},\"colorscale\":{\"sequential\":[[0.0,\"#0d0887\"],[0.1111111111111111,\"#46039f\"],[0.2222222222222222,\"#7201a8\"],[0.3333333333333333,\"#9c179e\"],[0.4444444444444444,\"#bd3786\"],[0.5555555555555556,\"#d8576b\"],[0.6666666666666666,\"#ed7953\"],[0.7777777777777778,\"#fb9f3a\"],[0.8888888888888888,\"#fdca26\"],[1.0,\"#f0f921\"]],\"sequentialminus\":[[0.0,\"#0d0887\"],[0.1111111111111111,\"#46039f\"],[0.2222222222222222,\"#7201a8\"],[0.3333333333333333,\"#9c179e\"],[0.4444444444444444,\"#bd3786\"],[0.5555555555555556,\"#d8576b\"],[0.6666666666666666,\"#ed7953\"],[0.7777777777777778,\"#fb9f3a\"],[0.8888888888888888,\"#fdca26\"],[1.0,\"#f0f921\"]],\"diverging\":[[0,\"#8e0152\"],[0.1,\"#c51b7d\"],[0.2,\"#de77ae\"],[0.3,\"#f1b6da\"],[0.4,\"#fde0ef\"],[0.5,\"#f7f7f7\"],[0.6,\"#e6f5d0\"],[0.7,\"#b8e186\"],[0.8,\"#7fbc41\"],[0.9,\"#4d9221\"],[1,\"#276419\"]]},\"xaxis\":{\"gridcolor\":\"white\",\"linecolor\":\"white\",\"ticks\":\"\",\"title\":{\"standoff\":15},\"zerolinecolor\":\"white\",\"automargin\":true,\"zerolinewidth\":2},\"yaxis\":{\"gridcolor\":\"white\",\"linecolor\":\"white\",\"ticks\":\"\",\"title\":{\"standoff\":15},\"zerolinecolor\":\"white\",\"automargin\":true,\"zerolinewidth\":2},\"scene\":{\"xaxis\":{\"backgroundcolor\":\"#E5ECF6\",\"gridcolor\":\"white\",\"linecolor\":\"white\",\"showbackground\":true,\"ticks\":\"\",\"zerolinecolor\":\"white\",\"gridwidth\":2},\"yaxis\":{\"backgroundcolor\":\"#E5ECF6\",\"gridcolor\":\"white\",\"linecolor\":\"white\",\"showbackground\":true,\"ticks\":\"\",\"zerolinecolor\":\"white\",\"gridwidth\":2},\"zaxis\":{\"backgroundcolor\":\"#E5ECF6\",\"gridcolor\":\"white\",\"linecolor\":\"white\",\"showbackground\":true,\"ticks\":\"\",\"zerolinecolor\":\"white\",\"gridwidth\":2}},\"shapedefaults\":{\"line\":{\"color\":\"#2a3f5f\"}},\"annotationdefaults\":{\"arrowcolor\":\"#2a3f5f\",\"arrowhead\":0,\"arrowwidth\":1},\"geo\":{\"bgcolor\":\"white\",\"landcolor\":\"#E5ECF6\",\"subunitcolor\":\"white\",\"showland\":true,\"showlakes\":true,\"lakecolor\":\"white\"},\"title\":{\"x\":0.05},\"mapbox\":{\"style\":\"light\"}}},\"legend\":{\"tracegroupgap\":0},\"margin\":{\"t\":60}},                        {\"responsive\": true}                    ).then(function(){\n",
              "                            \n",
              "var gd = document.getElementById('44e112b4-bd9b-4a44-ab6b-044002bda11a');\n",
              "var x = new MutationObserver(function (mutations, observer) {{\n",
              "        var display = window.getComputedStyle(gd).display;\n",
              "        if (!display || display === 'none') {{\n",
              "            console.log([gd, 'removed!']);\n",
              "            Plotly.purge(gd);\n",
              "            observer.disconnect();\n",
              "        }}\n",
              "}});\n",
              "\n",
              "// Listen for the removal of the full notebook cells\n",
              "var notebookContainer = gd.closest('#notebook-container');\n",
              "if (notebookContainer) {{\n",
              "    x.observe(notebookContainer, {childList: true});\n",
              "}}\n",
              "\n",
              "// Listen for the clearing of the current output cell\n",
              "var outputEl = gd.closest('.output');\n",
              "if (outputEl) {{\n",
              "    x.observe(outputEl, {childList: true});\n",
              "}}\n",
              "\n",
              "                        })                };                });            </script>        </div>"
            ]
          },
          "metadata": {},
          "output_type": "display_data"
        },
        {
          "data": {
            "text/plain": [
              "<Figure size 720x720 with 0 Axes>"
            ]
          },
          "metadata": {},
          "output_type": "display_data"
        }
      ],
      "source": [
        "#Pie chart for spotting number of fraud and non fraud claims \n",
        "plt.figure(figsize=[10,10])\n",
        "fig = px.pie(mushroom_data,names='class')\n",
        "fig.show()"
      ]
    },
    {
      "cell_type": "markdown",
      "id": "48cff3d6",
      "metadata": {
        "papermill": {
          "duration": 0.013717,
          "end_time": "2022-12-26T17:41:51.443732",
          "exception": false,
          "start_time": "2022-12-26T17:41:51.430015",
          "status": "completed"
        },
        "tags": [],
        "id": "48cff3d6"
      },
      "source": [
        "By seeing the plot we can say that data is Balanced"
      ]
    },
    {
      "cell_type": "code",
      "execution_count": null,
      "id": "ed356288",
      "metadata": {
        "execution": {
          "iopub.execute_input": "2022-12-26T17:41:51.473162Z",
          "iopub.status.busy": "2022-12-26T17:41:51.472742Z",
          "iopub.status.idle": "2022-12-26T17:41:55.252872Z",
          "shell.execute_reply": "2022-12-26T17:41:55.251919Z"
        },
        "papermill": {
          "duration": 3.798019,
          "end_time": "2022-12-26T17:41:55.255653",
          "exception": false,
          "start_time": "2022-12-26T17:41:51.457634",
          "status": "completed"
        },
        "tags": [],
        "id": "ed356288",
        "outputId": "f9da489f-404c-4e3b-d109-12dd4c6d3f7d"
      },
      "outputs": [
        {
          "name": "stderr",
          "output_type": "stream",
          "text": [
            "/opt/conda/lib/python3.7/site-packages/seaborn/_decorators.py:43: FutureWarning:\n",
            "\n",
            "Pass the following variable as a keyword arg: x. From version 0.12, the only valid positional argument will be `data`, and passing other arguments without an explicit keyword will result in an error or misinterpretation.\n",
            "\n"
          ]
        },
        {
          "data": {
            "image/png": "[encoded data removed]",
            "text/plain": [
              "<Figure size 1296x3960 with 22 Axes>"
            ]
          },
          "metadata": {
            "needs_background": "light"
          },
          "output_type": "display_data"
        }
      ],
      "source": [
        "plt.figure(figsize = (18, 55))\n",
        "plotnumber=1\n",
        "for col in mushroom_data.columns:\n",
        "    plt.subplot(8,3,plotnumber)\n",
        "    sns.countplot(mushroom_data[col],hue=\"class\",data=mushroom_data)\n",
        "    plt.xlabel(col,fontsize=15)\n",
        "    plotnumber +=1\n",
        "plt.show()"
      ]
    },
    {
      "cell_type": "markdown",
      "id": "ba04ca35",
      "metadata": {
        "papermill": {
          "duration": 0.016261,
          "end_time": "2022-12-26T17:41:55.288899",
          "exception": false,
          "start_time": "2022-12-26T17:41:55.272638",
          "status": "completed"
        },
        "tags": [],
        "id": "ba04ca35"
      },
      "source": [
        "**By this we get to know that ,there are some things which are most likely to be edible and poisonous**\n",
        "\n",
        "**Edible**\n",
        "\n",
        "1 mushrooms with shape of bell=b \n",
        "\n",
        "2 mushrooms with cap-color of white=w\n",
        " \n",
        "3 mushrooms with bruises of bruises=t\n",
        "\n",
        "4 mushrooms with odor of none=n\n",
        "\n",
        "5 mushrooms with gill-color of brown=n,purple=u,white=w\n",
        "\n",
        "6 mushrooms with stalk-root of club=c ,equal=e\n",
        "\n",
        "7 mushrooms with ring -type of pendant=p\n",
        "\n",
        "8 mushrooms with spore-print-color black=k,brown=n\n"
      ]
    },
    {
      "cell_type": "markdown",
      "id": "e4021132",
      "metadata": {
        "papermill": {
          "duration": 0.016272,
          "end_time": "2022-12-26T17:41:55.321517",
          "exception": false,
          "start_time": "2022-12-26T17:41:55.305245",
          "status": "completed"
        },
        "tags": [],
        "id": "e4021132"
      },
      "source": [
        "**poisonous**\n",
        "\n",
        "1 mushrooms with shape of  knobbed=k\n",
        "\n",
        "2 mushrooms with cap-color of yellow=y \n",
        "\n",
        "3 mushrooms with odor of creosote=c,fishy=y,foul=f,pungent=p,spicy=s \n",
        "\n",
        "4 mushrooms with gill-color of buff=b\n",
        "\n",
        "5 mushrooms with stalk-surface-above-ring of silky=k\n",
        "  \n",
        "6 mushrooms with  stalk-surface-below-ring of silky=k\n",
        "  \n",
        "7 mushrooms with ring -type of large=l\n",
        "\n",
        "8 mushrooms with spore-print-color chocolate=h,,white=w\n",
        "\n",
        "9 mushrooms with habitat of paths=p \n"
      ]
    },
    {
      "cell_type": "markdown",
      "id": "84ca7240",
      "metadata": {
        "papermill": {
          "duration": 0.016115,
          "end_time": "2022-12-26T17:41:55.354510",
          "exception": false,
          "start_time": "2022-12-26T17:41:55.338395",
          "status": "completed"
        },
        "tags": [],
        "id": "84ca7240"
      },
      "source": [
        "# Preprosseing of data"
      ]
    },
    {
      "cell_type": "code",
      "execution_count": null,
      "id": "9bf5299f",
      "metadata": {
        "execution": {
          "iopub.execute_input": "2022-12-26T17:41:55.390038Z",
          "iopub.status.busy": "2022-12-26T17:41:55.388827Z",
          "iopub.status.idle": "2022-12-26T17:41:55.395982Z",
          "shell.execute_reply": "2022-12-26T17:41:55.395140Z"
        },
        "papermill": {
          "duration": 0.027365,
          "end_time": "2022-12-26T17:41:55.398373",
          "exception": false,
          "start_time": "2022-12-26T17:41:55.371008",
          "status": "completed"
        },
        "tags": [],
        "id": "9bf5299f"
      },
      "outputs": [],
      "source": [
        "# seperarting independent and dependent variables\n",
        "X=mushroom_data.drop([\"class\"],axis=1)\n",
        "y=mushroom_data['class']"
      ]
    },
    {
      "cell_type": "code",
      "execution_count": null,
      "id": "38600f86",
      "metadata": {
        "execution": {
          "iopub.execute_input": "2022-12-26T17:41:55.433570Z",
          "iopub.status.busy": "2022-12-26T17:41:55.433153Z",
          "iopub.status.idle": "2022-12-26T17:41:55.798608Z",
          "shell.execute_reply": "2022-12-26T17:41:55.797735Z"
        },
        "papermill": {
          "duration": 0.385895,
          "end_time": "2022-12-26T17:41:55.801092",
          "exception": false,
          "start_time": "2022-12-26T17:41:55.415197",
          "status": "completed"
        },
        "tags": [],
        "id": "38600f86"
      },
      "outputs": [],
      "source": [
        "from sklearn.model_selection import train_test_split\n",
        "X_train,X_test,y_train,y_test=train_test_split(X,y,test_size=0.30,random_state=123)"
      ]
    },
    {
      "cell_type": "code",
      "execution_count": null,
      "id": "fe936a2b",
      "metadata": {
        "execution": {
          "iopub.execute_input": "2022-12-26T17:41:55.836562Z",
          "iopub.status.busy": "2022-12-26T17:41:55.835382Z",
          "iopub.status.idle": "2022-12-26T17:41:55.907685Z",
          "shell.execute_reply": "2022-12-26T17:41:55.906393Z"
        },
        "papermill": {
          "duration": 0.092856,
          "end_time": "2022-12-26T17:41:55.910405",
          "exception": false,
          "start_time": "2022-12-26T17:41:55.817549",
          "status": "completed"
        },
        "tags": [],
        "id": "fe936a2b"
      },
      "outputs": [],
      "source": [
        "from sklearn.preprocessing import LabelEncoder\n",
        "Encoder_X = LabelEncoder()\n",
        "for col in X.columns:\n",
        "    X_train[col] = Encoder_X.fit_transform(X_train[col])\n",
        "    X_test[col] = Encoder_X.fit_transform(X_test[col])\n",
        "Encoder_y = LabelEncoder()\n",
        "y_train = Encoder_y.fit_transform(y_train)\n",
        "y_test = Encoder_y.fit_transform(y_test)"
      ]
    },
    {
      "cell_type": "code",
      "execution_count": null,
      "id": "e7cd31c8",
      "metadata": {
        "execution": {
          "iopub.execute_input": "2022-12-26T17:41:55.945760Z",
          "iopub.status.busy": "2022-12-26T17:41:55.945346Z",
          "iopub.status.idle": "2022-12-26T17:41:55.973646Z",
          "shell.execute_reply": "2022-12-26T17:41:55.972525Z"
        },
        "papermill": {
          "duration": 0.048061,
          "end_time": "2022-12-26T17:41:55.975713",
          "exception": false,
          "start_time": "2022-12-26T17:41:55.927652",
          "status": "completed"
        },
        "tags": [],
        "id": "e7cd31c8",
        "outputId": "261eb090-a515-442f-ed46-52bc3a742e58"
      },
      "outputs": [
        {
          "data": {
            "text/html": [
              "<div>\n",
              "<style scoped>\n",
              "    .dataframe tbody tr th:only-of-type {\n",
              "        vertical-align: middle;\n",
              "    }\n",
              "\n",
              "    .dataframe tbody tr th {\n",
              "        vertical-align: top;\n",
              "    }\n",
              "\n",
              "    .dataframe thead th {\n",
              "        text-align: right;\n",
              "    }\n",
              "</style>\n",
              "<table border=\"1\" class=\"dataframe\">\n",
              "  <thead>\n",
              "    <tr style=\"text-align: right;\">\n",
              "      <th></th>\n",
              "      <th>cap-shape</th>\n",
              "      <th>cap-surface</th>\n",
              "      <th>cap-color</th>\n",
              "      <th>bruises</th>\n",
              "      <th>odor</th>\n",
              "      <th>gill-attachment</th>\n",
              "      <th>gill-spacing</th>\n",
              "      <th>gill-size</th>\n",
              "      <th>gill-color</th>\n",
              "      <th>stalk-shape</th>\n",
              "      <th>...</th>\n",
              "      <th>stalk-surface-above-ring</th>\n",
              "      <th>stalk-surface-below-ring</th>\n",
              "      <th>stalk-color-above-ring</th>\n",
              "      <th>stalk-color-below-ring</th>\n",
              "      <th>veil-color</th>\n",
              "      <th>ring-number</th>\n",
              "      <th>ring-type</th>\n",
              "      <th>spore-print-color</th>\n",
              "      <th>population</th>\n",
              "      <th>habitat</th>\n",
              "    </tr>\n",
              "  </thead>\n",
              "  <tbody>\n",
              "    <tr>\n",
              "      <th>5316</th>\n",
              "      <td>2</td>\n",
              "      <td>3</td>\n",
              "      <td>4</td>\n",
              "      <td>1</td>\n",
              "      <td>5</td>\n",
              "      <td>1</td>\n",
              "      <td>0</td>\n",
              "      <td>0</td>\n",
              "      <td>10</td>\n",
              "      <td>0</td>\n",
              "      <td>...</td>\n",
              "      <td>2</td>\n",
              "      <td>2</td>\n",
              "      <td>7</td>\n",
              "      <td>7</td>\n",
              "      <td>2</td>\n",
              "      <td>2</td>\n",
              "      <td>0</td>\n",
              "      <td>7</td>\n",
              "      <td>1</td>\n",
              "      <td>6</td>\n",
              "    </tr>\n",
              "    <tr>\n",
              "      <th>1073</th>\n",
              "      <td>5</td>\n",
              "      <td>0</td>\n",
              "      <td>3</td>\n",
              "      <td>1</td>\n",
              "      <td>5</td>\n",
              "      <td>1</td>\n",
              "      <td>0</td>\n",
              "      <td>0</td>\n",
              "      <td>7</td>\n",
              "      <td>1</td>\n",
              "      <td>...</td>\n",
              "      <td>2</td>\n",
              "      <td>2</td>\n",
              "      <td>6</td>\n",
              "      <td>7</td>\n",
              "      <td>2</td>\n",
              "      <td>1</td>\n",
              "      <td>4</td>\n",
              "      <td>2</td>\n",
              "      <td>5</td>\n",
              "      <td>0</td>\n",
              "    </tr>\n",
              "    <tr>\n",
              "      <th>7552</th>\n",
              "      <td>3</td>\n",
              "      <td>2</td>\n",
              "      <td>8</td>\n",
              "      <td>0</td>\n",
              "      <td>5</td>\n",
              "      <td>1</td>\n",
              "      <td>1</td>\n",
              "      <td>0</td>\n",
              "      <td>7</td>\n",
              "      <td>0</td>\n",
              "      <td>...</td>\n",
              "      <td>1</td>\n",
              "      <td>1</td>\n",
              "      <td>7</td>\n",
              "      <td>7</td>\n",
              "      <td>2</td>\n",
              "      <td>2</td>\n",
              "      <td>4</td>\n",
              "      <td>7</td>\n",
              "      <td>3</td>\n",
              "      <td>1</td>\n",
              "    </tr>\n",
              "    <tr>\n",
              "      <th>3372</th>\n",
              "      <td>5</td>\n",
              "      <td>0</td>\n",
              "      <td>3</td>\n",
              "      <td>0</td>\n",
              "      <td>2</td>\n",
              "      <td>1</td>\n",
              "      <td>0</td>\n",
              "      <td>0</td>\n",
              "      <td>7</td>\n",
              "      <td>0</td>\n",
              "      <td>...</td>\n",
              "      <td>1</td>\n",
              "      <td>1</td>\n",
              "      <td>4</td>\n",
              "      <td>4</td>\n",
              "      <td>2</td>\n",
              "      <td>1</td>\n",
              "      <td>2</td>\n",
              "      <td>1</td>\n",
              "      <td>5</td>\n",
              "      <td>0</td>\n",
              "    </tr>\n",
              "    <tr>\n",
              "      <th>1207</th>\n",
              "      <td>2</td>\n",
              "      <td>3</td>\n",
              "      <td>8</td>\n",
              "      <td>1</td>\n",
              "      <td>6</td>\n",
              "      <td>1</td>\n",
              "      <td>0</td>\n",
              "      <td>1</td>\n",
              "      <td>7</td>\n",
              "      <td>0</td>\n",
              "      <td>...</td>\n",
              "      <td>2</td>\n",
              "      <td>2</td>\n",
              "      <td>7</td>\n",
              "      <td>7</td>\n",
              "      <td>2</td>\n",
              "      <td>1</td>\n",
              "      <td>4</td>\n",
              "      <td>2</td>\n",
              "      <td>3</td>\n",
              "      <td>5</td>\n",
              "    </tr>\n",
              "    <tr>\n",
              "      <th>...</th>\n",
              "      <td>...</td>\n",
              "      <td>...</td>\n",
              "      <td>...</td>\n",
              "      <td>...</td>\n",
              "      <td>...</td>\n",
              "      <td>...</td>\n",
              "      <td>...</td>\n",
              "      <td>...</td>\n",
              "      <td>...</td>\n",
              "      <td>...</td>\n",
              "      <td>...</td>\n",
              "      <td>...</td>\n",
              "      <td>...</td>\n",
              "      <td>...</td>\n",
              "      <td>...</td>\n",
              "      <td>...</td>\n",
              "      <td>...</td>\n",
              "      <td>...</td>\n",
              "      <td>...</td>\n",
              "      <td>...</td>\n",
              "      <td>...</td>\n",
              "    </tr>\n",
              "    <tr>\n",
              "      <th>4060</th>\n",
              "      <td>5</td>\n",
              "      <td>3</td>\n",
              "      <td>9</td>\n",
              "      <td>0</td>\n",
              "      <td>2</td>\n",
              "      <td>1</td>\n",
              "      <td>0</td>\n",
              "      <td>0</td>\n",
              "      <td>3</td>\n",
              "      <td>0</td>\n",
              "      <td>...</td>\n",
              "      <td>1</td>\n",
              "      <td>1</td>\n",
              "      <td>0</td>\n",
              "      <td>0</td>\n",
              "      <td>2</td>\n",
              "      <td>1</td>\n",
              "      <td>2</td>\n",
              "      <td>1</td>\n",
              "      <td>4</td>\n",
              "      <td>1</td>\n",
              "    </tr>\n",
              "    <tr>\n",
              "      <th>1346</th>\n",
              "      <td>2</td>\n",
              "      <td>3</td>\n",
              "      <td>4</td>\n",
              "      <td>1</td>\n",
              "      <td>6</td>\n",
              "      <td>1</td>\n",
              "      <td>0</td>\n",
              "      <td>1</td>\n",
              "      <td>4</td>\n",
              "      <td>0</td>\n",
              "      <td>...</td>\n",
              "      <td>2</td>\n",
              "      <td>2</td>\n",
              "      <td>7</td>\n",
              "      <td>7</td>\n",
              "      <td>2</td>\n",
              "      <td>1</td>\n",
              "      <td>4</td>\n",
              "      <td>3</td>\n",
              "      <td>4</td>\n",
              "      <td>1</td>\n",
              "    </tr>\n",
              "    <tr>\n",
              "      <th>3454</th>\n",
              "      <td>5</td>\n",
              "      <td>0</td>\n",
              "      <td>8</td>\n",
              "      <td>0</td>\n",
              "      <td>1</td>\n",
              "      <td>1</td>\n",
              "      <td>1</td>\n",
              "      <td>1</td>\n",
              "      <td>9</td>\n",
              "      <td>0</td>\n",
              "      <td>...</td>\n",
              "      <td>2</td>\n",
              "      <td>2</td>\n",
              "      <td>7</td>\n",
              "      <td>7</td>\n",
              "      <td>2</td>\n",
              "      <td>1</td>\n",
              "      <td>4</td>\n",
              "      <td>3</td>\n",
              "      <td>3</td>\n",
              "      <td>0</td>\n",
              "    </tr>\n",
              "    <tr>\n",
              "      <th>7533</th>\n",
              "      <td>5</td>\n",
              "      <td>2</td>\n",
              "      <td>4</td>\n",
              "      <td>0</td>\n",
              "      <td>5</td>\n",
              "      <td>1</td>\n",
              "      <td>0</td>\n",
              "      <td>0</td>\n",
              "      <td>10</td>\n",
              "      <td>0</td>\n",
              "      <td>...</td>\n",
              "      <td>3</td>\n",
              "      <td>3</td>\n",
              "      <td>4</td>\n",
              "      <td>4</td>\n",
              "      <td>2</td>\n",
              "      <td>2</td>\n",
              "      <td>4</td>\n",
              "      <td>7</td>\n",
              "      <td>5</td>\n",
              "      <td>4</td>\n",
              "    </tr>\n",
              "    <tr>\n",
              "      <th>3582</th>\n",
              "      <td>2</td>\n",
              "      <td>3</td>\n",
              "      <td>4</td>\n",
              "      <td>1</td>\n",
              "      <td>5</td>\n",
              "      <td>1</td>\n",
              "      <td>0</td>\n",
              "      <td>0</td>\n",
              "      <td>9</td>\n",
              "      <td>1</td>\n",
              "      <td>...</td>\n",
              "      <td>2</td>\n",
              "      <td>2</td>\n",
              "      <td>7</td>\n",
              "      <td>3</td>\n",
              "      <td>2</td>\n",
              "      <td>1</td>\n",
              "      <td>4</td>\n",
              "      <td>2</td>\n",
              "      <td>5</td>\n",
              "      <td>0</td>\n",
              "    </tr>\n",
              "  </tbody>\n",
              "</table>\n",
              "<p>5686 rows × 21 columns</p>\n",
              "</div>"
            ],
            "text/plain": [
              "      cap-shape  cap-surface  cap-color  bruises  odor  gill-attachment  \\\n",
              "5316          2            3          4        1     5                1   \n",
              "1073          5            0          3        1     5                1   \n",
              "7552          3            2          8        0     5                1   \n",
              "3372          5            0          3        0     2                1   \n",
              "1207          2            3          8        1     6                1   \n",
              "...         ...          ...        ...      ...   ...              ...   \n",
              "4060          5            3          9        0     2                1   \n",
              "1346          2            3          4        1     6                1   \n",
              "3454          5            0          8        0     1                1   \n",
              "7533          5            2          4        0     5                1   \n",
              "3582          2            3          4        1     5                1   \n",
              "\n",
              "      gill-spacing  gill-size  gill-color  stalk-shape  ...  \\\n",
              "5316             0          0          10            0  ...   \n",
              "1073             0          0           7            1  ...   \n",
              "7552             1          0           7            0  ...   \n",
              "3372             0          0           7            0  ...   \n",
              "1207             0          1           7            0  ...   \n",
              "...            ...        ...         ...          ...  ...   \n",
              "4060             0          0           3            0  ...   \n",
              "1346             0          1           4            0  ...   \n",
              "3454             1          1           9            0  ...   \n",
              "7533             0          0          10            0  ...   \n",
              "3582             0          0           9            1  ...   \n",
              "\n",
              "      stalk-surface-above-ring  stalk-surface-below-ring  \\\n",
              "5316                         2                         2   \n",
              "1073                         2                         2   \n",
              "7552                         1                         1   \n",
              "3372                         1                         1   \n",
              "1207                         2                         2   \n",
              "...                        ...                       ...   \n",
              "4060                         1                         1   \n",
              "1346                         2                         2   \n",
              "3454                         2                         2   \n",
              "7533                         3                         3   \n",
              "3582                         2                         2   \n",
              "\n",
              "      stalk-color-above-ring  stalk-color-below-ring  veil-color  ring-number  \\\n",
              "5316                       7                       7           2            2   \n",
              "1073                       6                       7           2            1   \n",
              "7552                       7                       7           2            2   \n",
              "3372                       4                       4           2            1   \n",
              "1207                       7                       7           2            1   \n",
              "...                      ...                     ...         ...          ...   \n",
              "4060                       0                       0           2            1   \n",
              "1346                       7                       7           2            1   \n",
              "3454                       7                       7           2            1   \n",
              "7533                       4                       4           2            2   \n",
              "3582                       7                       3           2            1   \n",
              "\n",
              "      ring-type  spore-print-color  population  habitat  \n",
              "5316          0                  7           1        6  \n",
              "1073          4                  2           5        0  \n",
              "7552          4                  7           3        1  \n",
              "3372          2                  1           5        0  \n",
              "1207          4                  2           3        5  \n",
              "...         ...                ...         ...      ...  \n",
              "4060          2                  1           4        1  \n",
              "1346          4                  3           4        1  \n",
              "3454          4                  3           3        0  \n",
              "7533          4                  7           5        4  \n",
              "3582          4                  2           5        0  \n",
              "\n",
              "[5686 rows x 21 columns]"
            ]
          },
          "execution_count": 20,
          "metadata": {},
          "output_type": "execute_result"
        }
      ],
      "source": [
        "X_train"
      ]
    },
    {
      "cell_type": "code",
      "execution_count": null,
      "id": "d08b4a04",
      "metadata": {
        "execution": {
          "iopub.execute_input": "2022-12-26T17:41:56.012632Z",
          "iopub.status.busy": "2022-12-26T17:41:56.011875Z",
          "iopub.status.idle": "2022-12-26T17:41:56.018868Z",
          "shell.execute_reply": "2022-12-26T17:41:56.017792Z"
        },
        "papermill": {
          "duration": 0.027853,
          "end_time": "2022-12-26T17:41:56.021097",
          "exception": false,
          "start_time": "2022-12-26T17:41:55.993244",
          "status": "completed"
        },
        "tags": [],
        "id": "d08b4a04",
        "outputId": "7ca19833-116c-4ba8-8d79-2af7bcb6bd3c"
      },
      "outputs": [
        {
          "data": {
            "text/plain": [
              "array([0, 0, 0, ..., 1, 0, 0])"
            ]
          },
          "execution_count": 21,
          "metadata": {},
          "output_type": "execute_result"
        }
      ],
      "source": [
        "y_train"
      ]
    },
    {
      "cell_type": "code",
      "execution_count": null,
      "id": "f5587047",
      "metadata": {
        "execution": {
          "iopub.execute_input": "2022-12-26T17:41:56.057638Z",
          "iopub.status.busy": "2022-12-26T17:41:56.056691Z",
          "iopub.status.idle": "2022-12-26T17:41:56.071962Z",
          "shell.execute_reply": "2022-12-26T17:41:56.070901Z"
        },
        "papermill": {
          "duration": 0.03616,
          "end_time": "2022-12-26T17:41:56.074551",
          "exception": false,
          "start_time": "2022-12-26T17:41:56.038391",
          "status": "completed"
        },
        "tags": [],
        "id": "f5587047"
      },
      "outputs": [],
      "source": [
        "from sklearn.preprocessing import StandardScaler\n",
        "scaler = StandardScaler()\n",
        "X_train = scaler.fit_transform(X_train)\n",
        "X_test = scaler.transform(X_test)"
      ]
    },
    {
      "cell_type": "code",
      "execution_count": null,
      "id": "27b7dac4",
      "metadata": {
        "execution": {
          "iopub.execute_input": "2022-12-26T17:41:56.110811Z",
          "iopub.status.busy": "2022-12-26T17:41:56.110191Z",
          "iopub.status.idle": "2022-12-26T17:41:56.114800Z",
          "shell.execute_reply": "2022-12-26T17:41:56.114077Z"
        },
        "papermill": {
          "duration": 0.025312,
          "end_time": "2022-12-26T17:41:56.116938",
          "exception": false,
          "start_time": "2022-12-26T17:41:56.091626",
          "status": "completed"
        },
        "tags": [],
        "id": "27b7dac4"
      },
      "outputs": [],
      "source": [
        "from sklearn.metrics import classification_report, confusion_matrix"
      ]
    },
    {
      "cell_type": "markdown",
      "id": "a587b950",
      "metadata": {
        "papermill": {
          "duration": 0.016623,
          "end_time": "2022-12-26T17:41:56.150390",
          "exception": false,
          "start_time": "2022-12-26T17:41:56.133767",
          "status": "completed"
        },
        "tags": [],
        "id": "a587b950"
      },
      "source": [
        "# Model Building"
      ]
    },
    {
      "cell_type": "markdown",
      "id": "cf62cdd9",
      "metadata": {
        "papermill": {
          "duration": 0.016746,
          "end_time": "2022-12-26T17:41:56.184023",
          "exception": false,
          "start_time": "2022-12-26T17:41:56.167277",
          "status": "completed"
        },
        "tags": [],
        "id": "cf62cdd9"
      },
      "source": [
        "#### LogisticRegression"
      ]
    },
    {
      "cell_type": "code",
      "execution_count": null,
      "id": "68019d55",
      "metadata": {
        "execution": {
          "iopub.execute_input": "2022-12-26T17:41:56.219326Z",
          "iopub.status.busy": "2022-12-26T17:41:56.218949Z",
          "iopub.status.idle": "2022-12-26T17:41:56.387049Z",
          "shell.execute_reply": "2022-12-26T17:41:56.385431Z"
        },
        "papermill": {
          "duration": 0.190499,
          "end_time": "2022-12-26T17:41:56.391291",
          "exception": false,
          "start_time": "2022-12-26T17:41:56.200792",
          "status": "completed"
        },
        "tags": [],
        "id": "68019d55"
      },
      "outputs": [],
      "source": [
        "from sklearn.linear_model import LogisticRegression\n",
        "logi=LogisticRegression()\n",
        "logi.fit(X_train,y_train)\n",
        "# train_pred=logi.predict(X_train)\n",
        "test_pred=logi.predict(X_test)"
      ]
    },
    {
      "cell_type": "code",
      "execution_count": null,
      "id": "9e1e647f",
      "metadata": {
        "execution": {
          "iopub.execute_input": "2022-12-26T17:41:56.479120Z",
          "iopub.status.busy": "2022-12-26T17:41:56.478409Z",
          "iopub.status.idle": "2022-12-26T17:41:56.501777Z",
          "shell.execute_reply": "2022-12-26T17:41:56.500558Z"
        },
        "papermill": {
          "duration": 0.071304,
          "end_time": "2022-12-26T17:41:56.505430",
          "exception": false,
          "start_time": "2022-12-26T17:41:56.434126",
          "status": "completed"
        },
        "tags": [],
        "id": "9e1e647f",
        "outputId": "f0260fe5-468c-4911-e2a5-52181d508a3c"
      },
      "outputs": [
        {
          "name": "stdout",
          "output_type": "stream",
          "text": [
            "classification_report of logisticRegression\n",
            "\n",
            "                 precision    recall  f1-score   support\n",
            "\n",
            "           0       0.95      0.96      0.95      1271\n",
            "           1       0.95      0.95      0.95      1167\n",
            "\n",
            "    accuracy                           0.95      2438\n",
            "   macro avg       0.95      0.95      0.95      2438\n",
            "weighted avg       0.95      0.95      0.95      2438\n",
            "\n"
          ]
        }
      ],
      "source": [
        "print('classification_report of logisticRegression\\n\\n  ',classification_report(y_test,test_pred))"
      ]
    },
    {
      "cell_type": "code",
      "execution_count": null,
      "id": "e9579a11",
      "metadata": {
        "execution": {
          "iopub.execute_input": "2022-12-26T17:41:56.541511Z",
          "iopub.status.busy": "2022-12-26T17:41:56.540467Z",
          "iopub.status.idle": "2022-12-26T17:41:56.549925Z",
          "shell.execute_reply": "2022-12-26T17:41:56.548671Z"
        },
        "papermill": {
          "duration": 0.030112,
          "end_time": "2022-12-26T17:41:56.552439",
          "exception": false,
          "start_time": "2022-12-26T17:41:56.522327",
          "status": "completed"
        },
        "tags": [],
        "id": "e9579a11",
        "outputId": "faa7961d-3b3b-4426-d15d-c5fd685f529d"
      },
      "outputs": [
        {
          "name": "stdout",
          "output_type": "stream",
          "text": [
            "confusion matrix of LogisticRegression \n",
            " [[1214   57]\n",
            " [  64 1103]]\n"
          ]
        }
      ],
      "source": [
        "cm = confusion_matrix(y_test, test_pred)\n",
        "print('confusion matrix of LogisticRegression \\n',cm)"
      ]
    },
    {
      "cell_type": "code",
      "execution_count": null,
      "id": "c536fe3d",
      "metadata": {
        "execution": {
          "iopub.execute_input": "2022-12-26T17:41:56.588482Z",
          "iopub.status.busy": "2022-12-26T17:41:56.588080Z",
          "iopub.status.idle": "2022-12-26T17:41:56.836450Z",
          "shell.execute_reply": "2022-12-26T17:41:56.835410Z"
        },
        "papermill": {
          "duration": 0.269908,
          "end_time": "2022-12-26T17:41:56.839533",
          "exception": false,
          "start_time": "2022-12-26T17:41:56.569625",
          "status": "completed"
        },
        "tags": [],
        "id": "c536fe3d",
        "outputId": "5a551e1e-da02-421a-eb91-c53bebe9f207"
      },
      "outputs": [
        {
          "data": {
            "image/png": "[encoded data removed]",
            "text/plain": [
              "<Figure size 360x360 with 2 Axes>"
            ]
          },
          "metadata": {
            "needs_background": "light"
          },
          "output_type": "display_data"
        }
      ],
      "source": [
        "x_axis_labels = [\"Edible\", \"Poisonous\"]\n",
        "y_axis_labels = [\"Edible\", \"Poisonous\"]\n",
        "\n",
        "f, ax = plt.subplots(figsize =(5,5))\n",
        "sns.heatmap(cm, annot = True ,cmap=\"Greens\",fmt = \".0f\",linewidths=0.9,linecolor=\"black\", xticklabels=x_axis_labels, yticklabels=y_axis_labels)\n",
        "plt.xlabel(\"predicted\")\n",
        "plt.ylabel(\"actual values\")\n",
        "plt.title('Confusion Matrix for LogisticRegression \\n\\n')\n",
        "plt.show()\n"
      ]
    },
    {
      "cell_type": "markdown",
      "id": "ea27f6b2",
      "metadata": {
        "papermill": {
          "duration": 0.017252,
          "end_time": "2022-12-26T17:41:56.874306",
          "exception": false,
          "start_time": "2022-12-26T17:41:56.857054",
          "status": "completed"
        },
        "tags": [],
        "id": "ea27f6b2"
      },
      "source": [
        "#### PCA "
      ]
    },
    {
      "cell_type": "code",
      "execution_count": null,
      "id": "57172b22",
      "metadata": {
        "execution": {
          "iopub.execute_input": "2022-12-26T17:41:56.911130Z",
          "iopub.status.busy": "2022-12-26T17:41:56.910328Z",
          "iopub.status.idle": "2022-12-26T17:41:56.991778Z",
          "shell.execute_reply": "2022-12-26T17:41:56.990150Z"
        },
        "papermill": {
          "duration": 0.104501,
          "end_time": "2022-12-26T17:41:56.996063",
          "exception": false,
          "start_time": "2022-12-26T17:41:56.891562",
          "status": "completed"
        },
        "tags": [],
        "id": "57172b22"
      },
      "outputs": [],
      "source": [
        "from sklearn.decomposition import PCA\n",
        "pca = PCA(n_components=2)\n",
        "X_train = pca.fit_transform(X_train)\n",
        "X_test = pca.transform(X_test)"
      ]
    },
    {
      "cell_type": "markdown",
      "id": "982e5400",
      "metadata": {
        "papermill": {
          "duration": 0.038911,
          "end_time": "2022-12-26T17:41:57.115913",
          "exception": false,
          "start_time": "2022-12-26T17:41:57.077002",
          "status": "completed"
        },
        "tags": [],
        "id": "982e5400"
      },
      "source": [
        "### DecisionTreeClassifier"
      ]
    },
    {
      "cell_type": "code",
      "execution_count": null,
      "id": "0b26f0da",
      "metadata": {
        "execution": {
          "iopub.execute_input": "2022-12-26T17:41:57.152464Z",
          "iopub.status.busy": "2022-12-26T17:41:57.152056Z",
          "iopub.status.idle": "2022-12-26T17:41:57.216407Z",
          "shell.execute_reply": "2022-12-26T17:41:57.215302Z"
        },
        "papermill": {
          "duration": 0.085717,
          "end_time": "2022-12-26T17:41:57.219064",
          "exception": false,
          "start_time": "2022-12-26T17:41:57.133347",
          "status": "completed"
        },
        "tags": [],
        "id": "0b26f0da"
      },
      "outputs": [],
      "source": [
        "from sklearn.tree import DecisionTreeClassifier\n",
        "\n",
        "dt = DecisionTreeClassifier()\n",
        "dt.fit(X_train, y_train)\n",
        "test_pred=dt.predict(X_test)"
      ]
    },
    {
      "cell_type": "code",
      "execution_count": null,
      "id": "2ca4ff47",
      "metadata": {
        "execution": {
          "iopub.execute_input": "2022-12-26T17:41:57.256528Z",
          "iopub.status.busy": "2022-12-26T17:41:57.255749Z",
          "iopub.status.idle": "2022-12-26T17:41:57.269792Z",
          "shell.execute_reply": "2022-12-26T17:41:57.268474Z"
        },
        "papermill": {
          "duration": 0.035613,
          "end_time": "2022-12-26T17:41:57.272346",
          "exception": false,
          "start_time": "2022-12-26T17:41:57.236733",
          "status": "completed"
        },
        "tags": [],
        "id": "2ca4ff47",
        "outputId": "2edb2997-8646-413c-b46e-9ffe826c104d"
      },
      "outputs": [
        {
          "name": "stdout",
          "output_type": "stream",
          "text": [
            "Decision Tree Classifier report: \n",
            "\n",
            "               precision    recall  f1-score   support\n",
            "\n",
            "           0       0.93      0.93      0.93      1271\n",
            "           1       0.93      0.92      0.92      1167\n",
            "\n",
            "    accuracy                           0.93      2438\n",
            "   macro avg       0.93      0.93      0.93      2438\n",
            "weighted avg       0.93      0.93      0.93      2438\n",
            "\n"
          ]
        }
      ],
      "source": [
        "print(\"Decision Tree Classifier report: \\n\\n\", classification_report(y_test, test_pred))\n"
      ]
    },
    {
      "cell_type": "code",
      "execution_count": null,
      "id": "9bbef46e",
      "metadata": {
        "execution": {
          "iopub.execute_input": "2022-12-26T17:41:57.309151Z",
          "iopub.status.busy": "2022-12-26T17:41:57.308748Z",
          "iopub.status.idle": "2022-12-26T17:41:57.316407Z",
          "shell.execute_reply": "2022-12-26T17:41:57.314992Z"
        },
        "papermill": {
          "duration": 0.028636,
          "end_time": "2022-12-26T17:41:57.318376",
          "exception": false,
          "start_time": "2022-12-26T17:41:57.289740",
          "status": "completed"
        },
        "tags": [],
        "id": "9bbef46e",
        "outputId": "8a84d005-ac71-4dfe-c010-f6ac64819d65"
      },
      "outputs": [
        {
          "name": "stdout",
          "output_type": "stream",
          "text": [
            "confusion matrix of DecisionTreeClassifier \n",
            " [[1186   85]\n",
            " [  93 1074]]\n"
          ]
        }
      ],
      "source": [
        "cm = confusion_matrix(y_test, test_pred)\n",
        "print('confusion matrix of DecisionTreeClassifier \\n',cm)"
      ]
    },
    {
      "cell_type": "code",
      "execution_count": null,
      "id": "53656e3f",
      "metadata": {
        "execution": {
          "iopub.execute_input": "2022-12-26T17:41:57.355748Z",
          "iopub.status.busy": "2022-12-26T17:41:57.354652Z",
          "iopub.status.idle": "2022-12-26T17:41:57.591713Z",
          "shell.execute_reply": "2022-12-26T17:41:57.590562Z"
        },
        "papermill": {
          "duration": 0.257965,
          "end_time": "2022-12-26T17:41:57.593988",
          "exception": false,
          "start_time": "2022-12-26T17:41:57.336023",
          "status": "completed"
        },
        "tags": [],
        "id": "53656e3f",
        "outputId": "5a2a5a3d-dde0-4640-84f5-8758d95c5eba"
      },
      "outputs": [
        {
          "data": {
            "image/png": "[encoded data removed]",
            "text/plain": [
              "<Figure size 360x360 with 2 Axes>"
            ]
          },
          "metadata": {
            "needs_background": "light"
          },
          "output_type": "display_data"
        }
      ],
      "source": [
        "x_axis_labels = [\"Edible\", \"Poisonous\"]\n",
        "y_axis_labels = [\"Edible\", \"Poisonous\"]\n",
        "\n",
        "f, ax = plt.subplots(figsize =(5,5))\n",
        "sns.heatmap(cm, annot = True ,cmap=\"Greens\",fmt = \".0f\",linewidths=0.9,linecolor=\"black\", xticklabels=x_axis_labels, yticklabels=y_axis_labels)\n",
        "plt.xlabel(\"predicted\")\n",
        "plt.ylabel(\"actual values\")\n",
        "plt.title('Confusion Matrix for DecisionTreeClassifier \\n\\n')\n",
        "plt.show()"
      ]
    },
    {
      "cell_type": "markdown",
      "id": "d151d564",
      "metadata": {
        "papermill": {
          "duration": 0.017458,
          "end_time": "2022-12-26T17:41:57.629492",
          "exception": false,
          "start_time": "2022-12-26T17:41:57.612034",
          "status": "completed"
        },
        "tags": [],
        "id": "d151d564"
      },
      "source": [
        "### predictions"
      ]
    },
    {
      "cell_type": "code",
      "execution_count": null,
      "id": "da221342",
      "metadata": {
        "execution": {
          "iopub.execute_input": "2022-12-26T17:41:57.668712Z",
          "iopub.status.busy": "2022-12-26T17:41:57.667513Z",
          "iopub.status.idle": "2022-12-26T17:41:57.675205Z",
          "shell.execute_reply": "2022-12-26T17:41:57.674065Z"
        },
        "papermill": {
          "duration": 0.029523,
          "end_time": "2022-12-26T17:41:57.677579",
          "exception": false,
          "start_time": "2022-12-26T17:41:57.648056",
          "status": "completed"
        },
        "tags": [],
        "id": "da221342",
        "outputId": "32f427a7-6057-48eb-afa7-a37a2e0a374d"
      },
      "outputs": [
        {
          "name": "stdout",
          "output_type": "stream",
          "text": [
            "[1 0 0 1 0 1 1 1 0 0 0 0 1 0 0 0 0 1 1 0 0 0 1 0 1 1 1 1 1 0]\n",
            "[0 0 0 1 0 1 1 1 0 0 0 0 1 0 0 0 0 1 1 0 0 0 1 0 1 1 1 1 1 0]\n"
          ]
        }
      ],
      "source": [
        "preds = dt.predict(X_test)\n",
        "print(preds[:30])\n",
        "print(y_test[:30])\n",
        "# 0 - Edible\n",
        "# 1 - Poisonous"
      ]
    },
    {
      "cell_type": "code",
      "execution_count": null,
      "id": "57a119ab",
      "metadata": {
        "execution": {
          "iopub.execute_input": "2022-12-26T17:41:57.716539Z",
          "iopub.status.busy": "2022-12-26T17:41:57.716124Z",
          "iopub.status.idle": "2022-12-26T17:42:00.858521Z",
          "shell.execute_reply": "2022-12-26T17:42:00.857039Z"
        },
        "papermill": {
          "duration": 3.165876,
          "end_time": "2022-12-26T17:42:00.861940",
          "exception": false,
          "start_time": "2022-12-26T17:41:57.696064",
          "status": "completed"
        },
        "tags": [],
        "id": "57a119ab",
        "outputId": "f127a9c6-971e-4adc-b469-d5eff659296d"
      },
      "outputs": [
        {
          "name": "stdout",
          "output_type": "stream",
          "text": [
            "RandomForestClassifier report: \n",
            "\n",
            "               precision    recall  f1-score   support\n",
            "\n",
            "           0       0.93      0.97      0.95      1271\n",
            "           1       0.96      0.92      0.94      1167\n",
            "\n",
            "    accuracy                           0.94      2438\n",
            "   macro avg       0.94      0.94      0.94      2438\n",
            "weighted avg       0.94      0.94      0.94      2438\n",
            "\n"
          ]
        }
      ],
      "source": [
        "from sklearn.ensemble import RandomForestClassifier\n",
        "\n",
        "rf = RandomForestClassifier(n_estimators=500, random_state=42)\n",
        "rf.fit(X_train, y_train)\n",
        "test_pred = rf.predict(X_test)\n",
        "print(\"RandomForestClassifier report: \\n\\n\", classification_report(y_test, test_pred))"
      ]
    },
    {
      "cell_type": "code",
      "execution_count": null,
      "id": "34a089a0",
      "metadata": {
        "execution": {
          "iopub.execute_input": "2022-12-26T17:42:00.904277Z",
          "iopub.status.busy": "2022-12-26T17:42:00.903829Z",
          "iopub.status.idle": "2022-12-26T17:42:00.912391Z",
          "shell.execute_reply": "2022-12-26T17:42:00.911082Z"
        },
        "papermill": {
          "duration": 0.033133,
          "end_time": "2022-12-26T17:42:00.914864",
          "exception": false,
          "start_time": "2022-12-26T17:42:00.881731",
          "status": "completed"
        },
        "tags": [],
        "id": "34a089a0",
        "outputId": "b8d433e2-a059-4a83-aa0f-13113794f727"
      },
      "outputs": [
        {
          "name": "stdout",
          "output_type": "stream",
          "text": [
            "confusion matrix of RandomForestClassifier \n",
            " [[1229   42]\n",
            " [  96 1071]]\n"
          ]
        }
      ],
      "source": [
        "cm = confusion_matrix(y_test, test_pred)\n",
        "print('confusion matrix of RandomForestClassifier \\n',cm)"
      ]
    },
    {
      "cell_type": "code",
      "execution_count": null,
      "id": "b9a03acb",
      "metadata": {
        "execution": {
          "iopub.execute_input": "2022-12-26T17:42:00.957303Z",
          "iopub.status.busy": "2022-12-26T17:42:00.956897Z",
          "iopub.status.idle": "2022-12-26T17:42:01.225062Z",
          "shell.execute_reply": "2022-12-26T17:42:01.223941Z"
        },
        "papermill": {
          "duration": 0.294546,
          "end_time": "2022-12-26T17:42:01.227772",
          "exception": false,
          "start_time": "2022-12-26T17:42:00.933226",
          "status": "completed"
        },
        "tags": [],
        "id": "b9a03acb",
        "outputId": "d37d82b6-a581-4a9c-f090-6f7136ecd4bb"
      },
      "outputs": [
        {
          "data": {
            "image/png": "[encoded data removed]",
            "text/plain": [
              "<Figure size 360x360 with 2 Axes>"
            ]
          },
          "metadata": {
            "needs_background": "light"
          },
          "output_type": "display_data"
        }
      ],
      "source": [
        "x_axis_labels = [\"Edible\", \"Poisonous\"]\n",
        "y_axis_labels = [\"Edible\", \"Poisonous\"]\n",
        "\n",
        "f, ax = plt.subplots(figsize =(5,5))\n",
        "sns.heatmap(cm, annot = True ,cmap=\"Greens\",fmt = \".0f\",linewidths=0.9,linecolor=\"black\", xticklabels=x_axis_labels, yticklabels=y_axis_labels)\n",
        "plt.xlabel(\"predicted\")\n",
        "plt.ylabel(\"actual values\")\n",
        "plt.title('Confusion Matrix for RandomForestClassifier \\n\\n')\n",
        "plt.show()"
      ]
    },
    {
      "cell_type": "markdown",
      "id": "fe0460ad",
      "metadata": {
        "papermill": {
          "duration": 0.017751,
          "end_time": "2022-12-26T17:42:01.264489",
          "exception": false,
          "start_time": "2022-12-26T17:42:01.246738",
          "status": "completed"
        },
        "tags": [],
        "id": "fe0460ad"
      },
      "source": [
        "### predictions"
      ]
    },
    {
      "cell_type": "code",
      "execution_count": null,
      "id": "52eb6265",
      "metadata": {
        "execution": {
          "iopub.execute_input": "2022-12-26T17:42:01.302397Z",
          "iopub.status.busy": "2022-12-26T17:42:01.302006Z",
          "iopub.status.idle": "2022-12-26T17:42:01.534335Z",
          "shell.execute_reply": "2022-12-26T17:42:01.533140Z"
        },
        "papermill": {
          "duration": 0.254339,
          "end_time": "2022-12-26T17:42:01.536896",
          "exception": false,
          "start_time": "2022-12-26T17:42:01.282557",
          "status": "completed"
        },
        "tags": [],
        "id": "52eb6265",
        "outputId": "d47ea82a-39be-41c5-a717-06833f43298b"
      },
      "outputs": [
        {
          "name": "stdout",
          "output_type": "stream",
          "text": [
            "[1 0 0 1 0 1 1 1 0 0 0 0 1 0 0 0 0 1 1 0 0 0 1 0 1 1 1 1 1 0]\n",
            "[0 0 0 1 0 1 1 1 0 0 0 0 1 0 0 0 0 1 1 0 0 0 1 0 1 1 1 1 1 0]\n"
          ]
        }
      ],
      "source": [
        "preds = rf.predict(X_test)\n",
        "print(preds[:30])\n",
        "print(y_test[:30])"
      ]
    },
    {
      "cell_type": "markdown",
      "id": "411bd583",
      "metadata": {
        "papermill": {
          "duration": 0.018112,
          "end_time": "2022-12-26T17:42:01.573401",
          "exception": false,
          "start_time": "2022-12-26T17:42:01.555289",
          "status": "completed"
        },
        "tags": [],
        "id": "411bd583"
      },
      "source": [
        "# Conclusion\n",
        "\n",
        "#### From the confusion matrix, we saw that our train and test data is balanced.\n",
        "\n",
        "#### Most of the classification methods hit maximum accuracy with this dataset.\n",
        " "
      ]
    },
    {
      "cell_type": "code",
      "execution_count": null,
      "id": "01816bfa",
      "metadata": {
        "papermill": {
          "duration": 0.018181,
          "end_time": "2022-12-26T17:42:01.609895",
          "exception": false,
          "start_time": "2022-12-26T17:42:01.591714",
          "status": "completed"
        },
        "tags": [],
        "id": "01816bfa"
      },
      "outputs": [],
      "source": []
    }
  ],
  "metadata": {
    "kernelspec": {
      "display_name": "Python 3",
      "language": "python",
      "name": "python3"
    },
    "language_info": {
      "codemirror_mode": {
        "name": "ipython",
        "version": 3
      },
      "file_extension": ".py",
      "mimetype": "text/x-python",
      "name": "python",
      "nbconvert_exporter": "python",
      "pygments_lexer": "ipython3",
      "version": "3.7.12"
    },
    "papermill": {
      "default_parameters": {},
      "duration": 23.825128,
      "end_time": "2022-12-26T17:42:02.549960",
      "environment_variables": {},
      "exception": null,
      "input_path": "__notebook__.ipynb",
      "output_path": "__notebook__.ipynb",
      "parameters": {},
      "start_time": "2022-12-26T17:41:38.724832",
      "version": "2.3.4"
    },
    "colab": {
      "provenance": [],
      "include_colab_link": true
    }
  },
  "nbformat": 4,
  "nbformat_minor": 5
}